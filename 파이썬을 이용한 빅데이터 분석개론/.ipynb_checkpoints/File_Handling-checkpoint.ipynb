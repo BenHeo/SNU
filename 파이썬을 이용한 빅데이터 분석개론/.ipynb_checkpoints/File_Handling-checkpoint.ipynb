{
 "cells": [
  {
   "cell_type": "code",
   "execution_count": 1,
   "metadata": {},
   "outputs": [],
   "source": [
    "file = open('song.txt', mode = 'w', encoding = 'utf-8')"
   ]
  },
  {
   "cell_type": "code",
   "execution_count": 2,
   "metadata": {},
   "outputs": [
    {
     "data": {
      "text/plain": [
       "21"
      ]
     },
     "execution_count": 2,
     "metadata": {},
     "output_type": "execute_result"
    }
   ],
   "source": [
    "file.write('======= 고향의 봄 =======')"
   ]
  },
  {
   "cell_type": "code",
   "execution_count": 3,
   "metadata": {},
   "outputs": [
    {
     "data": {
      "text/plain": [
       "18"
      ]
     },
     "execution_count": 3,
     "metadata": {},
     "output_type": "execute_result"
    }
   ],
   "source": [
    "file.write('나의 살-던 고향은 꽃피는-산골-')"
   ]
  },
  {
   "cell_type": "code",
   "execution_count": 4,
   "metadata": {},
   "outputs": [],
   "source": [
    "file.close()"
   ]
  },
  {
   "cell_type": "code",
   "execution_count": 5,
   "metadata": {},
   "outputs": [
    {
     "data": {
      "text/plain": [
       "<_io.TextIOWrapper name='song.txt' mode='w' encoding='utf-8'>"
      ]
     },
     "execution_count": 5,
     "metadata": {},
     "output_type": "execute_result"
    }
   ],
   "source": [
    "file"
   ]
  },
  {
   "cell_type": "code",
   "execution_count": 6,
   "metadata": {},
   "outputs": [],
   "source": [
    "file = open('song.txt')"
   ]
  },
  {
   "cell_type": "code",
   "execution_count": 7,
   "metadata": {},
   "outputs": [
    {
     "data": {
      "text/plain": [
       "'song.txt'"
      ]
     },
     "execution_count": 7,
     "metadata": {},
     "output_type": "execute_result"
    }
   ],
   "source": [
    "file.name"
   ]
  },
  {
   "cell_type": "code",
   "execution_count": 8,
   "metadata": {},
   "outputs": [
    {
     "data": {
      "text/plain": [
       "'r'"
      ]
     },
     "execution_count": 8,
     "metadata": {},
     "output_type": "execute_result"
    }
   ],
   "source": [
    "file.mode"
   ]
  },
  {
   "cell_type": "code",
   "execution_count": 9,
   "metadata": {
    "scrolled": true
   },
   "outputs": [
    {
     "data": {
      "text/plain": [
       "False"
      ]
     },
     "execution_count": 9,
     "metadata": {},
     "output_type": "execute_result"
    }
   ],
   "source": [
    "file.closed"
   ]
  },
  {
   "cell_type": "code",
   "execution_count": 10,
   "metadata": {},
   "outputs": [],
   "source": [
    "file.close()"
   ]
  },
  {
   "cell_type": "code",
   "execution_count": 11,
   "metadata": {},
   "outputs": [
    {
     "data": {
      "text/plain": [
       "'======= 고향의 봄 =======나의 살-던 고향은 꽃피는-산골-'"
      ]
     },
     "execution_count": 11,
     "metadata": {},
     "output_type": "execute_result"
    }
   ],
   "source": [
    "file = open('song.txt', mode = 'r', encoding = 'utf-8')\n",
    "# file.read는 전체를 한 개의 문자열로 반환\n",
    "file.read() # write 자체는 \\n을 하지 않기 때문에 이어져 나온다"
   ]
  },
  {
   "cell_type": "code",
   "execution_count": 12,
   "metadata": {},
   "outputs": [],
   "source": [
    "file = open('고향의 봄.txt', 'w', encoding='utf-8')"
   ]
  },
  {
   "cell_type": "code",
   "execution_count": 13,
   "metadata": {},
   "outputs": [
    {
     "data": {
      "text/plain": [
       "23"
      ]
     },
     "execution_count": 13,
     "metadata": {},
     "output_type": "execute_result"
    }
   ],
   "source": [
    "file.write('======= 고향의 봄 =======\\n\\n')"
   ]
  },
  {
   "cell_type": "code",
   "execution_count": 14,
   "metadata": {},
   "outputs": [
    {
     "data": {
      "text/plain": [
       "19"
      ]
     },
     "execution_count": 14,
     "metadata": {},
     "output_type": "execute_result"
    }
   ],
   "source": [
    "file.write('나의 살-던 고향은 꽃피는-산골-\\n')"
   ]
  },
  {
   "cell_type": "code",
   "execution_count": 15,
   "metadata": {},
   "outputs": [
    {
     "data": {
      "text/plain": [
       "21"
      ]
     },
     "execution_count": 15,
     "metadata": {},
     "output_type": "execute_result"
    }
   ],
   "source": [
    "file.write('복숭아-꽃 살-구꽃 아-기 진-달래-\\n')"
   ]
  },
  {
   "cell_type": "code",
   "execution_count": 16,
   "metadata": {},
   "outputs": [
    {
     "data": {
      "text/plain": [
       "19"
      ]
     },
     "execution_count": 16,
     "metadata": {},
     "output_type": "execute_result"
    }
   ],
   "source": [
    "file.write('울긋불-긋 꽃 대궐 차리인-동네-\\n')"
   ]
  },
  {
   "cell_type": "code",
   "execution_count": 17,
   "metadata": {},
   "outputs": [
    {
     "data": {
      "text/plain": [
       "19"
      ]
     },
     "execution_count": 17,
     "metadata": {},
     "output_type": "execute_result"
    }
   ],
   "source": [
    "file.write('그 속에서 놀던 때가 그립습니다-\\n')"
   ]
  },
  {
   "cell_type": "code",
   "execution_count": 18,
   "metadata": {},
   "outputs": [],
   "source": [
    "file.close()\n",
    "file = open('고향의 봄.txt', encoding='utf-8')"
   ]
  },
  {
   "cell_type": "code",
   "execution_count": 19,
   "metadata": {},
   "outputs": [
    {
     "name": "stdout",
     "output_type": "stream",
     "text": [
      "======= 고향의 봄 =======\n",
      "\n",
      "나의 살-던 고향은 꽃피는-산골-\n",
      "복숭아-꽃 살-구꽃 아-기 진-달래-\n",
      "울긋불-긋 꽃 대궐 차리인-동네-\n",
      "그 속에서 놀던 때가 그립습니다-\n",
      "\n"
     ]
    }
   ],
   "source": [
    "print(file.read())"
   ]
  },
  {
   "cell_type": "code",
   "execution_count": 20,
   "metadata": {},
   "outputs": [],
   "source": [
    "file.close()\n",
    "file = open('고향의 봄.txt', 'a', encoding='utf-8')"
   ]
  },
  {
   "cell_type": "code",
   "execution_count": 21,
   "metadata": {},
   "outputs": [
    {
     "data": {
      "text/plain": [
       "21"
      ]
     },
     "execution_count": 21,
     "metadata": {},
     "output_type": "execute_result"
    }
   ],
   "source": [
    "file.write('\\n꽃-동-네 새 동네 나의 옛-고향-\\n')"
   ]
  },
  {
   "cell_type": "code",
   "execution_count": 22,
   "metadata": {},
   "outputs": [
    {
     "data": {
      "text/plain": [
       "38"
      ]
     },
     "execution_count": 22,
     "metadata": {},
     "output_type": "execute_result"
    }
   ],
   "source": [
    "file.write('파-란-들 남쪽에서 바-람이-불면-\\n냇-가에 수양버들 춤추는-동네-\\n')"
   ]
  },
  {
   "cell_type": "code",
   "execution_count": 23,
   "metadata": {},
   "outputs": [
    {
     "data": {
      "text/plain": [
       "18"
      ]
     },
     "execution_count": 23,
     "metadata": {},
     "output_type": "execute_result"
    }
   ],
   "source": [
    "file.write('그 속에서 놀던 때가 그립습니다-')"
   ]
  },
  {
   "cell_type": "code",
   "execution_count": 24,
   "metadata": {},
   "outputs": [],
   "source": [
    "file.close()\n",
    "file = open('고향의 봄.txt', encoding='utf-8')"
   ]
  },
  {
   "cell_type": "code",
   "execution_count": 25,
   "metadata": {
    "scrolled": true
   },
   "outputs": [
    {
     "name": "stdout",
     "output_type": "stream",
     "text": [
      "======= 고향의 봄 =======\n",
      "\n",
      "나의 살-던 고향은 꽃피는-산골-\n",
      "복숭아-꽃 살-구꽃 아-기 진-달래-\n",
      "울긋불-긋 꽃 대궐 차리인-동네-\n",
      "그 속에서 놀던 때가 그립습니다-\n",
      "\n",
      "꽃-동-네 새 동네 나의 옛-고향-\n",
      "파-란-들 남쪽에서 바-람이-불면-\n",
      "냇-가에 수양버들 춤추는-동네-\n",
      "그 속에서 놀던 때가 그립습니다-\n"
     ]
    }
   ],
   "source": [
    "print(file.read())"
   ]
  },
  {
   "cell_type": "code",
   "execution_count": 26,
   "metadata": {},
   "outputs": [],
   "source": [
    "file.close()"
   ]
  },
  {
   "cell_type": "code",
   "execution_count": 27,
   "metadata": {},
   "outputs": [],
   "source": [
    "alist = ['to', 'be', 'or', 'not', 'to', 'be']\n",
    "file = open('data/list_newline.txt', mode = 'w', encoding='utf-8')\n",
    "for word in alist:\n",
    "    file.write(word + '\\n')\n",
    "file.close()"
   ]
  },
  {
   "cell_type": "code",
   "execution_count": 28,
   "metadata": {},
   "outputs": [],
   "source": [
    "alist = [2, 3.1, -7, -1.4, 5]\n",
    "file = open('data/numbers.txt', mode = 'w', encoding='utf-8')\n",
    "for number in alist:\n",
    "    file.write(str(number) + '\\n') # str을 안 해주면 타입 에러(int + str)\n",
    "file.close()"
   ]
  },
  {
   "cell_type": "code",
   "execution_count": 29,
   "metadata": {},
   "outputs": [],
   "source": [
    "alist = ['a', 'b', 'ㄱ', 'ㄴ', '다']\n",
    "file = open('data/numbers.txt', mode = 'a', encoding='utf-8')\n",
    "for item in alist:\n",
    "    file.write(item + '\\n')\n",
    "file.close()"
   ]
  },
  {
   "cell_type": "markdown",
   "metadata": {},
   "source": [
    "### file.read(size) : size까지 문자 읽고 하나의 str으로 반환\n",
    "### file.readline(size) : size까지 문자 읽고 텍스트 한 줄을 str으로 반환\n",
    "### file.readlines(hint) : hint만큼 줄을 읽고 리스트로 반환"
   ]
  },
  {
   "cell_type": "code",
   "execution_count": 30,
   "metadata": {},
   "outputs": [
    {
     "name": "stdout",
     "output_type": "stream",
     "text": [
      "<_io.TextIOWrapper name='고향의 봄.txt' mode='r' encoding='cp949'>\n"
     ]
    }
   ],
   "source": [
    "file = open('고향의 봄.txt', 'r')\n",
    "file\n",
    "print(file)\n",
    "file.close()"
   ]
  },
  {
   "cell_type": "code",
   "execution_count": 31,
   "metadata": {},
   "outputs": [
    {
     "name": "stdout",
     "output_type": "stream",
     "text": [
      "<class 'str'>\n",
      "======= 고향의 봄 =======\n",
      "\n",
      "나의 살-던 고향은 꽃피는-산골-\n",
      "복숭아-꽃 살-구꽃 아-기 진-달래-\n",
      "울긋불-긋 꽃 대궐 차리인-동네-\n",
      "그 속에서 놀던 때가 그립습니다-\n",
      "\n",
      "꽃-동-네 새 동네 나의 옛-고향-\n",
      "파-란-들 남쪽에서 바-람이-불면-\n",
      "냇-가에 수양버들 춤추는-동네-\n",
      "그 속에서 놀던 때가 그립습니다-\n"
     ]
    }
   ],
   "source": [
    "file = open('고향의 봄.txt', 'r', encoding='utf-8')\n",
    "data = file.read()\n",
    "file.close()\n",
    "print(type(data))\n",
    "data\n",
    "print(data)"
   ]
  },
  {
   "cell_type": "code",
   "execution_count": 32,
   "metadata": {},
   "outputs": [
    {
     "name": "stdout",
     "output_type": "stream",
     "text": [
      "<class 'str'>\n",
      "======= 고향의 봄 =======\n",
      "\n"
     ]
    }
   ],
   "source": [
    "file = open('고향의 봄.txt', 'r', encoding='utf-8')\n",
    "data = file.readline()\n",
    "file.close()\n",
    "print(type(data))\n",
    "data\n",
    "print(data) # 한 줄만 나온다"
   ]
  },
  {
   "cell_type": "code",
   "execution_count": 33,
   "metadata": {},
   "outputs": [
    {
     "name": "stdout",
     "output_type": "stream",
     "text": [
      "======= 고향의 봄 =======\n",
      "\n",
      "나의 살-던 고향은 꽃피는-산골-\n",
      "복숭아-꽃 살-구꽃 아-기 진-달래-\n",
      "울긋불-긋 꽃 대궐 차리인-동네-\n",
      "그 속에서 놀던 때가 그립습니다-\n",
      "\n",
      "꽃-동-네 새 동네 나의 옛-고향-\n",
      "파-란-들 남쪽에서 바-람이-불면-\n",
      "냇-가에 수양버들 춤추는-동네-\n",
      "그 속에서 놀던 때가 그립습니다-"
     ]
    }
   ],
   "source": [
    "file = open('고향의 봄.txt', 'r', encoding='utf-8')\n",
    "while True:\n",
    "    line = file.readline()\n",
    "    if not line:\n",
    "        break\n",
    "    print(line, end = '') # 이렇게 안 했다면 print 자체 엔터 처리와 기존 txt의 \\n 때문에 2줄을 띈다"
   ]
  },
  {
   "cell_type": "code",
   "execution_count": 34,
   "metadata": {},
   "outputs": [
    {
     "name": "stdout",
     "output_type": "stream",
     "text": [
      "\n"
     ]
    }
   ],
   "source": [
    "print(file.readline()) # 다 읽고 나면 계속해서 빈 문자열 '' 만 나온다(False 로 생각 가능)\n",
    "file.close()"
   ]
  },
  {
   "cell_type": "code",
   "execution_count": 35,
   "metadata": {},
   "outputs": [
    {
     "name": "stdout",
     "output_type": "stream",
     "text": [
      "======= 고향의 봄 =======\n",
      "\n",
      "나의 살-던 고향은 꽃피는-산골-\n",
      "복숭아-꽃 살-구꽃 아-기 진-달래-\n",
      "울긋불-긋 꽃 대궐 차리인-동네-\n",
      "그 속에서 놀던 때가 그립습니다-\n",
      "\n",
      "꽃-동-네 새 동네 나의 옛-고향-\n",
      "파-란-들 남쪽에서 바-람이-불면-\n",
      "냇-가에 수양버들 춤추는-동네-\n",
      "그 속에서 놀던 때가 그립습니다-"
     ]
    },
    {
     "ename": "ValueError",
     "evalue": "I/O operation on closed file.",
     "output_type": "error",
     "traceback": [
      "\u001b[1;31m---------------------------------------------------------------------------\u001b[0m",
      "\u001b[1;31mValueError\u001b[0m                                Traceback (most recent call last)",
      "\u001b[1;32m<ipython-input-35-aa16e95016a5>\u001b[0m in \u001b[0;36m<module>\u001b[1;34m()\u001b[0m\n\u001b[0;32m      3\u001b[0m     \u001b[1;32mfor\u001b[0m \u001b[0mline\u001b[0m \u001b[1;32min\u001b[0m \u001b[0mfile\u001b[0m\u001b[1;33m:\u001b[0m\u001b[1;33m\u001b[0m\u001b[0m\n\u001b[0;32m      4\u001b[0m         \u001b[0mprint\u001b[0m\u001b[1;33m(\u001b[0m\u001b[0mline\u001b[0m\u001b[1;33m,\u001b[0m \u001b[0mend\u001b[0m \u001b[1;33m=\u001b[0m \u001b[1;34m''\u001b[0m\u001b[1;33m)\u001b[0m\u001b[1;33m\u001b[0m\u001b[0m\n\u001b[1;32m----> 5\u001b[1;33m \u001b[0mfile\u001b[0m\u001b[1;33m.\u001b[0m\u001b[0mreadline\u001b[0m\u001b[1;33m(\u001b[0m\u001b[1;33m)\u001b[0m \u001b[1;31m# with문이 끝났기 때문에 file은 없다\u001b[0m\u001b[1;33m\u001b[0m\u001b[0m\n\u001b[0m",
      "\u001b[1;31mValueError\u001b[0m: I/O operation on closed file."
     ]
    }
   ],
   "source": [
    "# open close로 인한 실수도 방지하고 짧게 할 수 있는 방법 : with문\n",
    "with open('고향의 봄.txt', encoding='utf-8') as file:\n",
    "    for line in file:\n",
    "        print(line, end = '')\n",
    "file.readline() # with문이 끝났기 때문에 file은 없다"
   ]
  },
  {
   "cell_type": "code",
   "execution_count": 36,
   "metadata": {},
   "outputs": [
    {
     "name": "stdout",
     "output_type": "stream",
     "text": [
      "나의 살-던 고향은 꽃피는-산골-\n",
      "\n"
     ]
    },
    {
     "data": {
      "text/plain": [
       "'울긋불-긋 꽃 대궐 차리인-동네-'"
      ]
     },
     "execution_count": 36,
     "metadata": {},
     "output_type": "execute_result"
    }
   ],
   "source": [
    "file = open('고향의 봄.txt', 'r', encoding='utf-8')\n",
    "sentences = []\n",
    "for line in file: # 이렇게 하면 줄별로 받아오네\n",
    "    sentences.append(line)\n",
    "print(sentences[2]) # 리스트 형이라 인덱싱 가능\n",
    "sentences[4].rstrip() # 끝의 \\n을 제거시켰다"
   ]
  },
  {
   "cell_type": "code",
   "execution_count": 37,
   "metadata": {},
   "outputs": [
    {
     "name": "stdout",
     "output_type": "stream",
     "text": [
      "<class 'list'>\n",
      "['======= 고향의 봄 =======\\n', '\\n', '나의 살-던 고향은 꽃피는-산골-\\n', '복숭아-꽃 살-구꽃 아-기 진-달래-\\n', '울긋불-긋 꽃 대궐 차리인-동네-\\n', '그 속에서 놀던 때가 그립습니다-\\n', '\\n', '꽃-동-네 새 동네 나의 옛-고향-\\n', '파-란-들 남쪽에서 바-람이-불면-\\n', '냇-가에 수양버들 춤추는-동네-\\n', '그 속에서 놀던 때가 그립습니다-']\n"
     ]
    }
   ],
   "source": [
    "file = open('고향의 봄.txt', 'r', encoding='utf-8')\n",
    "data = file.readlines() # 한 번에 리스트로 받는다\n",
    "file.close()\n",
    "print(type(data))\n",
    "print(data) # 위의 sentences와 같다 더 짧으니 readlines를 쓰자"
   ]
  },
  {
   "cell_type": "code",
   "execution_count": 38,
   "metadata": {},
   "outputs": [
    {
     "name": "stdout",
     "output_type": "stream",
     "text": [
      "<class 'list'>\n",
      "['======= 고향의 봄 =======', '', '나의 살-던 고향은 꽃피는-산골-', '복숭아-꽃 살-구꽃 아-기 진-달래-', '울긋불-긋 꽃 대궐 차리인-동네-', '그 속에서 놀던 때가 그립습니다-', '', '꽃-동-네 새 동네 나의 옛-고향-', '파-란-들 남쪽에서 바-람이-불면-', '냇-가에 수양버들 춤추는-동네-', '그 속에서 놀던 때가 그립습니다-']\n"
     ]
    }
   ],
   "source": [
    "file = open('고향의 봄.txt', 'r', encoding='utf-8')\n",
    "data = file.read().split('\\n') # \\n이 빠졌다\n",
    "file.close()\n",
    "print(type(data))\n",
    "print(data)"
   ]
  },
  {
   "cell_type": "code",
   "execution_count": 39,
   "metadata": {},
   "outputs": [
    {
     "name": "stdout",
     "output_type": "stream",
     "text": [
      "<class 'list'>\n",
      "['======= 고향의 봄 =======', '', '나의 살-던 고향은 꽃피는-산골-', '복숭아-꽃 살-구꽃 아-기 진-달래-', '울긋불-긋 꽃 대궐 차리인-동네-', '그 속에서 놀던 때가 그립습니다-', '', '꽃-동-네 새 동네 나의 옛-고향-', '파-란-들 남쪽에서 바-람이-불면-', '냇-가에 수양버들 춤추는-동네-', '그 속에서 놀던 때가 그립습니다-']\n"
     ]
    }
   ],
   "source": [
    "file = open('고향의 봄.txt', 'r', encoding='utf-8')\n",
    "data = file.read().splitlines() # split('\\n') 하지 말고 splitlines()하세요. 인코딩 때문에 문제 되는 경우가 많음\n",
    "file.close()\n",
    "print(type(data))\n",
    "print(data)"
   ]
  },
  {
   "cell_type": "markdown",
   "metadata": {},
   "source": [
    "# 파일 경로 탐색과 조작"
   ]
  },
  {
   "cell_type": "code",
   "execution_count": 40,
   "metadata": {},
   "outputs": [
    {
     "data": {
      "text/plain": [
       "0"
      ]
     },
     "execution_count": 40,
     "metadata": {},
     "output_type": "execute_result"
    }
   ],
   "source": [
    "file = open('고향의 봄.txt', 'r', encoding='utf-8')\n",
    "file.tell() # 파일 내부에서 파일 객체의 현재 위치를 알려주는 정수 반환"
   ]
  },
  {
   "cell_type": "code",
   "execution_count": 41,
   "metadata": {},
   "outputs": [
    {
     "data": {
      "text/plain": [
       "'고향의 봄'"
      ]
     },
     "execution_count": 41,
     "metadata": {},
     "output_type": "execute_result"
    }
   ],
   "source": [
    "file.seek(8)\n",
    "file.read(5)"
   ]
  },
  {
   "cell_type": "code",
   "execution_count": 42,
   "metadata": {
    "scrolled": true
   },
   "outputs": [
    {
     "data": {
      "text/plain": [
       "' =======\\n'"
      ]
     },
     "execution_count": 42,
     "metadata": {},
     "output_type": "execute_result"
    }
   ],
   "source": [
    "file.readline()"
   ]
  },
  {
   "cell_type": "code",
   "execution_count": 43,
   "metadata": {},
   "outputs": [],
   "source": [
    "file.close()"
   ]
  },
  {
   "cell_type": "code",
   "execution_count": 44,
   "metadata": {},
   "outputs": [
    {
     "data": {
      "text/plain": [
       "0"
      ]
     },
     "execution_count": 44,
     "metadata": {},
     "output_type": "execute_result"
    }
   ],
   "source": [
    "file = open('고향의 봄.txt', 'rb') # encoding 쓰면 에러. 이진 파일이기 때문\n",
    "file.tell()"
   ]
  },
  {
   "cell_type": "code",
   "execution_count": 45,
   "metadata": {},
   "outputs": [
    {
     "data": {
      "text/plain": [
       "'고향의 봄'"
      ]
     },
     "execution_count": 45,
     "metadata": {},
     "output_type": "execute_result"
    }
   ],
   "source": [
    "file.seek(8)\n",
    "file.read(13).decode('utf-8') # decode 없이 한 결과 b'\\xea\\xb3\\xa0\\xed\\x96\\xa5\\xec\\x9d\\x98 \\xeb\\xb4\\x84'"
   ]
  },
  {
   "cell_type": "markdown",
   "metadata": {},
   "source": [
    "# 경로탐색"
   ]
  },
  {
   "cell_type": "code",
   "execution_count": 47,
   "metadata": {},
   "outputs": [
    {
     "data": {
      "text/plain": [
       "'C:\\\\Users\\\\renz\\\\Desktop\\\\SNU\\\\파이썬을 이용한 빅데이터 분석개론'"
      ]
     },
     "execution_count": 47,
     "metadata": {},
     "output_type": "execute_result"
    }
   ],
   "source": [
    "import os\n",
    "os.getcwd() # 현재 디렉토리"
   ]
  },
  {
   "cell_type": "code",
   "execution_count": 49,
   "metadata": {
    "scrolled": true
   },
   "outputs": [],
   "source": [
    "# os.chdir(path) # 작업 디렉토리를 변경\n",
    "# os.path.join(path, *paths) # 하나 이상의 path 구성 요소를 합침"
   ]
  },
  {
   "cell_type": "code",
   "execution_count": 53,
   "metadata": {},
   "outputs": [
    {
     "data": {
      "text/plain": [
       "'C:\\\\Users\\\\renz\\\\Desktop\\\\SNU\\\\파이썬을 이용한 빅데이터 분석개론\\\\map.py'"
      ]
     },
     "execution_count": 53,
     "metadata": {},
     "output_type": "execute_result"
    }
   ],
   "source": [
    "os.path.abspath('map.py') # map.py의 절대경로"
   ]
  },
  {
   "cell_type": "code",
   "execution_count": 54,
   "metadata": {},
   "outputs": [],
   "source": [
    "# os.rename(src, dst) # 파일 또는 디렉토리의 기존 이름을 새 이름으로\n",
    "# os.remove(path) # 바로 완전 삭제니까 주의\n",
    "# os.mkdir(path) # path 이름 가진 디렉토리 생성\n",
    "# os.makedirs(name) # 디렉토리를 순차적으로 생성\n",
    "# os.rmdir(path) # 빈 디렉토리 path를 삭제\n",
    "# os.removedirs(name) # 빈 디렉토리를 순차적으로 제거"
   ]
  },
  {
   "cell_type": "code",
   "execution_count": 57,
   "metadata": {},
   "outputs": [
    {
     "name": "stdout",
     "output_type": "stream",
     "text": [
      "'Let It Be' by Beatles\n",
      "Let it be -- -\n",
      "Let it be -- -\n",
      "Let it be - Let it be Let it be - Let it be -\n"
     ]
    }
   ],
   "source": [
    "import re # 정규표현식 패키지\n",
    "lines = open('data/beatles.txt').readlines()\n",
    "for line in lines:\n",
    "    if re.search(r'let', line, re.IGNORECASE): # r은 raw string 표기법이며 역슬래시도 특수문자가 아닌 일반문자로 읽힌다\n",
    "        print(line.rstrip())\n",
    "lines.close()"
   ]
  },
  {
   "cell_type": "code",
   "execution_count": 59,
   "metadata": {},
   "outputs": [
    {
     "name": "stdout",
     "output_type": "stream",
     "text": [
      "'LET It Be' by Beatles\n",
      "\n",
      "When I find myself in times of trouble\n",
      "Mother Mary comes to me\n",
      "Speaking words of wisdom\n",
      "LET it be -- -\n",
      "And in my hours darkness She is standing bright in front of me\n",
      "Speaking words of wisdom\n",
      "LET it be -- -\n",
      "LET it be - LET it be LET it be - LET it be -\n"
     ]
    }
   ],
   "source": [
    "lines = open('data/beatles.txt').readlines()\n",
    "for line in lines:\n",
    "    line = re.sub(r'Let', 'LET', line) # 모든 Let를 LET로 바꿔라\n",
    "    print(line.rstrip())\n",
    "lines.close()"
   ]
  },
  {
   "cell_type": "code",
   "execution_count": 62,
   "metadata": {},
   "outputs": [
    {
     "name": "stdout",
     "output_type": "stream",
     "text": [
      "'LET It Be' by Beatles\n",
      "\n",
      "When I find myself in times of trouble\n",
      "Mother Mary comes to me\n",
      "Speaking words of wisdom\n",
      "LET it be -- -\n",
      "And in my hours darkness She is standing bright in front of me\n",
      "Speaking words of wisdom\n",
      "LET it be -- -\n",
      "LET it be - LET it be Let it be - Let it be -\n"
     ]
    }
   ],
   "source": [
    "# re.compile은 중요하다\n",
    "lines = open('data/beatles.txt').readlines()\n",
    "for line in lines:\n",
    "    line = re.sub(re.compile(r'Let', re.IGNORECASE), 'LET', line, 2) # 두번째까지만 Let를 LET로 바꿔라\n",
    "    print(line.rstrip())\n",
    "lines.close()"
   ]
  },
  {
   "cell_type": "markdown",
   "metadata": {},
   "source": [
    "### Lab Exercises"
   ]
  },
  {
   "cell_type": "code",
   "execution_count": 73,
   "metadata": {},
   "outputs": [
    {
     "name": "stdout",
     "output_type": "stream",
     "text": [
      "파일 이름을 입력하세요...: 고향의 봄.txt\n",
      "\t1: ======= 고향의 봄 =======\n",
      "\t2: \n",
      "\t3: 나의 살-던 고향은 꽃피는-산골-\n",
      "\t4: 복숭아-꽃 살-구꽃 아-기 진-달래-\n",
      "\t5: 울긋불-긋 꽃 대궐 차리인-동네-\n",
      "\t6: 그 속에서 놀던 때가 그립습니다-\n",
      "\t7: \n",
      "\t8: 꽃-동-네 새 동네 나의 옛-고향-\n",
      "\t9: 파-란-들 남쪽에서 바-람이-불면-\n",
      "\t10: 냇-가에 수양버들 춤추는-동네-\n",
      "\t11: 그 속에서 놀던 때가 그립습니다-\n"
     ]
    }
   ],
   "source": [
    "userInput = input('파일 이름을 입력하세요...: ')\n",
    "f = open(userInput, encoding = 'utf-8')\n",
    "lines = f.readlines()\n",
    "for idx, line in enumerate(lines):\n",
    "    print('\\t{}: {}'.format(idx+1, line.rstrip()))\n",
    "f.close()"
   ]
  },
  {
   "cell_type": "code",
   "execution_count": 72,
   "metadata": {},
   "outputs": [
    {
     "name": "stdout",
     "output_type": "stream",
     "text": [
      "파일 이름을 입력하세요...: 고향의 봄.txt\n",
      "\t1: ======= 고향의 봄 =======\n",
      "\t2: \n",
      "\t3: 나의 살-던 고향은 꽃피는-산골-\n",
      "\t4: 복숭아-꽃 살-구꽃 아-기 진-달래-\n",
      "\t5: 울긋불-긋 꽃 대궐 차리인-동네-\n",
      "\t6: 그 속에서 놀던 때가 그립습니다-\n",
      "\t7: \n",
      "\t8: 꽃-동-네 새 동네 나의 옛-고향-\n",
      "\t9: 파-란-들 남쪽에서 바-람이-불면-\n",
      "\t10: 냇-가에 수양버들 춤추는-동네-\n",
      "\t11: 그 속에서 놀던 때가 그립습니다-\n"
     ]
    }
   ],
   "source": [
    "userInput = input('파일 이름을 입력하세요...: ')\n",
    "lines = open(userInput, encoding = 'utf-8').readlines() # f변수 같은 걸 할당 안 하고도 바로 열고 닫아서 line을 저장할 수 있다\n",
    "for idx, line in enumerate(lines):\n",
    "    print('\\t{}: {}'.format(idx+1, line.rstrip()))"
   ]
  },
  {
   "cell_type": "code",
   "execution_count": 6,
   "metadata": {},
   "outputs": [
    {
     "name": "stdout",
     "output_type": "stream",
     "text": [
      "파일 이름을 입력하세요...: 고향의 봄.txt\n",
      "고향의 봄.txt 파일은 11줄, 29고유단어, 총 35단어, 101 문자로 구성되어 있습니다.\n"
     ]
    }
   ],
   "source": [
    "userInput = input('파일 이름을 입력하세요...: ')\n",
    "f = open(userInput, encoding = 'utf-8')\n",
    "lines = f.readlines()\n",
    "lines_length = len(lines)\n",
    "char_length = 0\n",
    "word_box = dict()\n",
    "word_cnt = 0\n",
    "for line in lines:\n",
    "    line_w = line.split()\n",
    "    for i in range(len(line_w)):\n",
    "        line_w[i] = line_w[i].replace('-', '') # 이 부분을 for t in string.puctuation: ~~ 식으로 하면 모든 punctuation에 대해 대체 할 수 있다\n",
    "        line_w[i] = line_w[i].replace('=', '')\n",
    "        line_w[i] = line_w[i].replace('.', '')\n",
    "        if line_w[i] != '':\n",
    "            word_box[line_w[i]] = 'visited'\n",
    "            word_cnt += 1\n",
    "            char_length += len(line_w[i])\n",
    "print('{} 파일은 {}줄, {}고유단어, 총 {}단어, {} 문자로 구성되어 있습니다.'.format(userInput, lines_length, len(word_box), word_cnt, char_length))"
   ]
  },
  {
   "cell_type": "code",
   "execution_count": 5,
   "metadata": {},
   "outputs": [
    {
     "name": "stdout",
     "output_type": "stream",
     "text": [
      "dict_keys(['고향의', '봄', '나의', '살던', '고향은', '꽃피는산골', '복숭아꽃', '살구꽃', '아기', '진달래', '울긋불긋', '꽃', '대궐', '차리인동네', '그', '속에서', '놀던', '때가', '그립습니다', '꽃동네', '새', '동네', '옛고향', '파란들', '남쪽에서', '바람이불면', '냇가에', '수양버들', '춤추는동네'])\n"
     ]
    }
   ],
   "source": [
    "print(word_box.keys())"
   ]
  },
  {
   "cell_type": "code",
   "execution_count": 12,
   "metadata": {},
   "outputs": [
    {
     "name": "stdout",
     "output_type": "stream",
     "text": [
      "4\n",
      "['제이지, 97, A+', '어피치, 80, B+', '무지, 60, C-', '튜브, 95, A0']\n"
     ]
    }
   ],
   "source": [
    "f = open('data/grades.txt', 'r')\n",
    "data = f.read().splitlines()\n",
    "f.close()\n",
    "print(len(data))\n",
    "print(data)"
   ]
  },
  {
   "cell_type": "code",
   "execution_count": 13,
   "metadata": {},
   "outputs": [
    {
     "data": {
      "text/plain": [
       "[['제이지', ' 97', ' A+'],\n",
       " ['어피치', ' 80', ' B+'],\n",
       " ['무지', ' 60', ' C-'],\n",
       " ['튜브', ' 95', ' A0']]"
      ]
     },
     "execution_count": 13,
     "metadata": {},
     "output_type": "execute_result"
    }
   ],
   "source": [
    "data_parsed = data\n",
    "for i in range(len(data_parsed)):\n",
    "    data_parsed[i] = data_parsed[i].split(',')\n",
    "data_parsed"
   ]
  },
  {
   "cell_type": "code",
   "execution_count": 15,
   "metadata": {},
   "outputs": [
    {
     "name": "stdout",
     "output_type": "stream",
     "text": [
      "['제이지', 97, ' A+']\n",
      "['어피치', 80, ' B+']\n",
      "['무지', 60, ' C-']\n",
      "['튜브', 95, ' A0']\n"
     ]
    }
   ],
   "source": [
    "data_converted = data_parsed\n",
    "for i in range(len(data_converted)):\n",
    "    data_converted[i][1] = int(data_converted[i][1])\n",
    "for row in data_converted:\n",
    "    print(row)"
   ]
  },
  {
   "cell_type": "code",
   "execution_count": 18,
   "metadata": {},
   "outputs": [],
   "source": [
    "lines = open('data/pitcher_stats.txt', 'r').read().splitlines()\n",
    "for i in range(len(lines)):\n",
    "    lines[i] = lines[i].split('/')\n",
    "parsed_pitch = lines"
   ]
  },
  {
   "cell_type": "code",
   "execution_count": 22,
   "metadata": {},
   "outputs": [
    {
     "name": "stdout",
     "output_type": "stream",
     "text": [
      "[ Name,   W,   L,   ERA]\n",
      "['Kershaw', 18, 4, 2.31]\n",
      "['Jansen', 5, 0, 1.32]\n",
      "['Wood', 16, 3, 2.72]\n",
      "['Hill', 12, 8, 3.32]\n"
     ]
    }
   ],
   "source": [
    "for i in range(len(parsed_pitch)):\n",
    "    parsed_pitch[i][1] = int(parsed_pitch[i][1])\n",
    "    parsed_pitch[i][2] = int(parsed_pitch[i][2])\n",
    "    parsed_pitch[i][3] = float(parsed_pitch[i][3])\n",
    "print('[ Name,   W,   L,   ERA]')\n",
    "for row in parsed_pitch:\n",
    "    print(row)"
   ]
  },
  {
   "cell_type": "code",
   "execution_count": 32,
   "metadata": {},
   "outputs": [],
   "source": [
    "f = open('data/pitcher_stats_new.txt', 'w', encoding = 'utf-8')\n",
    "for i in range(len(parsed_pitch)):\n",
    "    new_line = '/'.join(parsed_pitch[i])\n",
    "    f.write(new_line+'\\n')\n",
    "f.close()"
   ]
  },
  {
   "cell_type": "code",
   "execution_count": 58,
   "metadata": {},
   "outputs": [],
   "source": [
    "zen = \"\"\"Beautiful is better than ugly. Explicit is better than implicit. Simple is better than complex. \n",
    "Complex is better than complicated. Flat is better than nested. Sparse is better than dense. \n",
    "Readability counts. Special cases aren't special enough to break the rules. Although practicality beats purity. \n",
    "Errors should never pass silently.\"\"\""
   ]
  },
  {
   "cell_type": "code",
   "execution_count": 59,
   "metadata": {},
   "outputs": [],
   "source": [
    "zens = zen.split('.')"
   ]
  },
  {
   "cell_type": "code",
   "execution_count": 64,
   "metadata": {},
   "outputs": [],
   "source": [
    "f = open('zen_of_python.txt', 'w', encoding='utf-8')\n",
    "for row in zens:\n",
    "    if row != '':\n",
    "        f.write(row.strip()+'.\\n')\n",
    "f.close()"
   ]
  },
  {
   "cell_type": "code",
   "execution_count": 65,
   "metadata": {},
   "outputs": [],
   "source": [
    "import this"
   ]
  },
  {
   "cell_type": "code",
   "execution_count": 66,
   "metadata": {},
   "outputs": [],
   "source": [
    "zen_l =[\"Unless explicitly silenced.\", \"In the face of ambiguity, refuse the temptation to guess.\",\n",
    "\"There should be one-- and preferably only one --obvious way to do it.\", \"Although that way may not be obvious at first unless you're Dutch.\",\n",
    "\"Now is better than never.\", \"Although never is often better than *right* now.\", \"If the implementation is hard to explain, it's a bad idea.\",\n",
    "\"If the implementation is easy to explain, it may be a good idea.\", \"Namespaces are one honking great idea -- let's do more of those!\"]"
   ]
  },
  {
   "cell_type": "code",
   "execution_count": 67,
   "metadata": {},
   "outputs": [],
   "source": [
    "f = open('zen_of_python.txt', 'a', encoding='utf-8')\n",
    "for row in zen_l:\n",
    "    f.write(row+'.\\n')\n",
    "f.close()"
   ]
  },
  {
   "cell_type": "code",
   "execution_count": 71,
   "metadata": {},
   "outputs": [
    {
     "name": "stdout",
     "output_type": "stream",
     "text": [
      "BEAUTIFUL IS BETTER THAN UGLY.\n",
      "EXPLICIT IS BETTER THAN IMPLICIT.\n",
      "SIMPLE IS BETTER THAN COMPLEX.\n",
      "COMPLEX IS BETTER THAN COMPLICATED.\n",
      "FLAT IS BETTER THAN NESTED.\n",
      "SPARSE IS BETTER THAN DENSE.\n",
      "READABILITY COUNTS.\n",
      "SPECIAL CASES AREN'T SPECIAL ENOUGH TO BREAK THE RULES.\n",
      "ALTHOUGH PRACTICALITY BEATS PURITY.\n",
      "ERRORS SHOULD NEVER PASS SILENTLY.\n",
      "UNLESS EXPLICITLY SILENCED..\n",
      "IN THE FACE OF AMBIGUITY, REFUSE THE TEMPTATION TO GUESS..\n",
      "THERE SHOULD BE ONE-- AND PREFERABLY ONLY ONE --OBVIOUS WAY TO DO IT..\n",
      "ALTHOUGH THAT WAY MAY NOT BE OBVIOUS AT FIRST UNLESS YOU'RE DUTCH..\n",
      "NOW IS BETTER THAN NEVER..\n",
      "ALTHOUGH NEVER IS OFTEN BETTER THAN *RIGHT* NOW..\n",
      "IF THE IMPLEMENTATION IS HARD TO EXPLAIN, IT'S A BAD IDEA..\n",
      "IF THE IMPLEMENTATION IS EASY TO EXPLAIN, IT MAY BE A GOOD IDEA..\n",
      "NAMESPACES ARE ONE HONKING GREAT IDEA -- LET'S DO MORE OF THOSE!.\n",
      "\n"
     ]
    }
   ],
   "source": [
    "with open('zen_of_python.txt', 'r', encoding='utf-8') as f:\n",
    "    up = f.read().upper()\n",
    "print(up)"
   ]
  },
  {
   "cell_type": "code",
   "execution_count": 82,
   "metadata": {},
   "outputs": [],
   "source": [
    "import os\n",
    "current = os.path.abspath(os.getcwd())"
   ]
  },
  {
   "cell_type": "code",
   "execution_count": 85,
   "metadata": {},
   "outputs": [
    {
     "name": "stdout",
     "output_type": "stream",
     "text": [
      "\"UPPERzen_of_python.txt\" 파일이 C:\\Users\\renz\\Desktop\\SNU\\파이썬을 이용한 빅데이터 분석개론 디렉토리에 생성되었습니다.\n"
     ]
    }
   ],
   "source": [
    "file_name = 'UPPERzen_of_python.txt'\n",
    "with open('{}/{}'.format(current, file_name), 'w', encoding='utf-8') as f:\n",
    "    f.write(up)\n",
    "    print('\"{}\" 파일이 {} 디렉토리에 생성되었습니다.'.format(file_name, current))"
   ]
  },
  {
   "cell_type": "code",
   "execution_count": 86,
   "metadata": {},
   "outputs": [
    {
     "name": "stdout",
     "output_type": "stream",
     "text": [
      "파일 이름을 입력하세요...: zen_of_python.txt\n",
      "\"UPPERzen_of_python.txt\" 파일이 C:\\Users\\renz\\Desktop\\SNU\\파이썬을 이용한 빅데이터 분석개론 디렉토리에 생성되었습니다.\n"
     ]
    }
   ],
   "source": [
    "from os import path\n",
    "file = input('파일 이름을 입력하세요...: ')\n",
    "if path.isfile(file):\n",
    "    directory, filename = path.split(file) # path와 filename으로 나누어짐\n",
    "else:\n",
    "    raise FileNotFoundError\n",
    "\n",
    "outfile = path.join(directory + 'UPPER' + filename)\n",
    "with open(file, encoding='utf-8') as fin:\n",
    "    with open(outfile, mode='w', encoding='utf-8') as fout:\n",
    "        for line in fin:\n",
    "            fout.write(line.upper())\n",
    "print('\"{}\" 파일이 {} 디렉토리에 생성되었습니다.'.format(path.basename(outfile), path.dirname(path.abspath(outfile))))\n",
    "# basename은 path의 이름만 반환"
   ]
  }
 ],
 "metadata": {
  "kernelspec": {
   "display_name": "Python 3",
   "language": "python",
   "name": "python3"
  },
  "language_info": {
   "codemirror_mode": {
    "name": "ipython",
    "version": 3
   },
   "file_extension": ".py",
   "mimetype": "text/x-python",
   "name": "python",
   "nbconvert_exporter": "python",
   "pygments_lexer": "ipython3",
   "version": "3.6.6"
  }
 },
 "nbformat": 4,
 "nbformat_minor": 2
}
