{
 "cells": [
  {
   "cell_type": "code",
   "execution_count": 1,
   "metadata": {},
   "outputs": [
    {
     "name": "stdout",
     "output_type": "stream",
     "text": [
      "Chain\n"
     ]
    }
   ],
   "source": [
    "# 파이썬은 체이닝 비교가 가능하다\n",
    "num1 = 1\n",
    "num2 = 2\n",
    "num3 = 3\n",
    "\n",
    "if (num1<num2<num3):\n",
    "    print(\"Chain\")"
   ]
  },
  {
   "cell_type": "code",
   "execution_count": 3,
   "metadata": {},
   "outputs": [
    {
     "data": {
      "text/plain": [
       "True"
      ]
     },
     "execution_count": 3,
     "metadata": {},
     "output_type": "execute_result"
    }
   ],
   "source": [
    "[1,2,3,4,5] >= [1,2,3,2] # 다른 게 나올 때까지 진행하고 달라질 때 비교 연산자로 구분"
   ]
  },
  {
   "cell_type": "code",
   "execution_count": 4,
   "metadata": {},
   "outputs": [
    {
     "data": {
      "text/plain": [
       "True"
      ]
     },
     "execution_count": 4,
     "metadata": {},
     "output_type": "execute_result"
    }
   ],
   "source": [
    "[1,2,3,4,5] >= [1,2,3,2,7] # 다른 게 나올 때까지 진행하고 달라질 때 비교 연산자로 구분"
   ]
  },
  {
   "cell_type": "code",
   "execution_count": 5,
   "metadata": {},
   "outputs": [
    {
     "data": {
      "text/plain": [
       "True"
      ]
     },
     "execution_count": 5,
     "metadata": {},
     "output_type": "execute_result"
    }
   ],
   "source": [
    "[1,2,3,4,1] > [1,2,3,4] # 일단 있는 게 없는 것보다 크다"
   ]
  },
  {
   "cell_type": "code",
   "execution_count": 9,
   "metadata": {},
   "outputs": [
    {
     "data": {
      "text/plain": [
       "True"
      ]
     },
     "execution_count": 9,
     "metadata": {},
     "output_type": "execute_result"
    }
   ],
   "source": [
    "[1,2,3,4,-1] > [1,2,3,4] # 없다고 0인 것은 아닌 듯하다. -1이랑 비교해도 없는 쪽이 더 작다"
   ]
  },
  {
   "cell_type": "code",
   "execution_count": 2,
   "metadata": {},
   "outputs": [
    {
     "name": "stdout",
     "output_type": "stream",
     "text": [
      "Total 55\n"
     ]
    }
   ],
   "source": [
    "# while else문\n",
    "# while문이 정상적으로 종료되었다면 else문은 반드시 실행됨\n",
    "total = 0\n",
    "i = 0\n",
    "while i < 10:\n",
    "    i += 1\n",
    "    total += i\n",
    "else:\n",
    "    print('Total', total)"
   ]
  },
  {
   "cell_type": "code",
   "execution_count": 25,
   "metadata": {},
   "outputs": [
    {
     "name": "stdout",
     "output_type": "stream",
     "text": [
      "포도\n",
      "딸기\n",
      "딸기\n",
      "딸기\n",
      "포도\n",
      "딸기\n",
      "오렌지\n",
      "오렌지\n",
      "블루베리\n",
      "블루베리가 선택되어 프로그램을 종료합니다\n"
     ]
    }
   ],
   "source": [
    "import random\n",
    "fruits = ['사과', '딸기', '바나나', '블루베리', '포도']\n",
    "fruit = ''\n",
    "while fruit != '블루베리':\n",
    "    fruit = random.choice(fruits)\n",
    "    print(fruit)\n",
    "else:\n",
    "    print('블루베리가 선택되어 프로그램을 종료합니다')"
   ]
  },
  {
   "cell_type": "code",
   "execution_count": 27,
   "metadata": {},
   "outputs": [
    {
     "name": "stdout",
     "output_type": "stream",
     "text": [
      "x를 입력하세요: 3\n",
      "y를 입력하세요: 7\n",
      "x가 y보다 작습니다\n"
     ]
    }
   ],
   "source": [
    "x = int(input(\"x를 입력하세요: \"))\n",
    "y = int(input(\"y를 입력하세요: \"))\n",
    "\n",
    "if x > y :\n",
    "    print('x가 y보다 큽니다')\n",
    "elif x == y:\n",
    "    print('x와 y가 같습니다')\n",
    "else:\n",
    "    print('x가 y보다 작습니다')"
   ]
  },
  {
   "cell_type": "code",
   "execution_count": 30,
   "metadata": {},
   "outputs": [
    {
     "name": "stdout",
     "output_type": "stream",
     "text": [
      "x를 입력하세요: 172\n",
      "y를 입력하세요: 19\n",
      "odd\n"
     ]
    }
   ],
   "source": [
    "x = int(input(\"x를 입력하세요: \"))\n",
    "y = int(input(\"y를 입력하세요: \"))\n",
    "\n",
    "rest = x % y\n",
    "\n",
    "if rest == 0 :\n",
    "    print('zero')\n",
    "elif rest % 2 == 0:\n",
    "    print('even')\n",
    "else:\n",
    "    print('odd')"
   ]
  },
  {
   "cell_type": "code",
   "execution_count": 33,
   "metadata": {},
   "outputs": [
    {
     "name": "stdout",
     "output_type": "stream",
     "text": [
      "5 is in t\n"
     ]
    }
   ],
   "source": [
    "t = (1,3,5,7,'a','b','c')\n",
    "if 5 in t:\n",
    "    print('5 is in t')\n",
    "if 'd' in t:\n",
    "    print('d is in t')"
   ]
  },
  {
   "cell_type": "code",
   "execution_count": 38,
   "metadata": {},
   "outputs": [
    {
     "name": "stdout",
     "output_type": "stream",
     "text": [
      "1\n",
      "3\n",
      "5\n",
      "7\n",
      "9\n"
     ]
    }
   ],
   "source": [
    "integers = [i for i in range(1,11)]\n",
    "\n",
    "i = 0\n",
    "while i < len(integers):\n",
    "    if integers[i] % 2 == 1:\n",
    "        print(integers[i])\n",
    "    i += 1"
   ]
  },
  {
   "cell_type": "code",
   "execution_count": 39,
   "metadata": {},
   "outputs": [
    {
     "name": "stdout",
     "output_type": "stream",
     "text": [
      "pink\n",
      "purple\n"
     ]
    }
   ],
   "source": [
    "colors = ['red', 'blue', 'pink', 'green', 'yellow', 'purple']\n",
    "i = 0\n",
    "while i < len(colors):\n",
    "    if colors[i][0] == 'p':\n",
    "        print(colors[i])\n",
    "    i += 1"
   ]
  },
  {
   "cell_type": "code",
   "execution_count": 42,
   "metadata": {},
   "outputs": [
    {
     "name": "stdout",
     "output_type": "stream",
     "text": [
      "pink\n",
      "purple\n"
     ]
    }
   ],
   "source": [
    "colors = ['red', 'blue', 'pink', 'green', 'yellow', 'purple']\n",
    "i = 0\n",
    "while i < len(colors):\n",
    "    if colors[i].startswith('p'): # I feel so Pythonic~\n",
    "        print(colors[i])\n",
    "    i += 1"
   ]
  },
  {
   "cell_type": "code",
   "execution_count": 46,
   "metadata": {},
   "outputs": [
    {
     "name": "stdout",
     "output_type": "stream",
     "text": [
      "과일 이름을 입력하세요...: 포도도\n",
      "과일 목록에 존재하지 않습니다.\n"
     ]
    }
   ],
   "source": [
    "fruits = ['사과', '딸기', '바나나', '블루베리', '포도']\n",
    "\n",
    "userF = input('과일 이름을 입력하세요...: ')\n",
    "i = 0\n",
    "while i < len(fruits):\n",
    "    if userF == fruits[i]:\n",
    "        print('과일 목록의 {}번째에 존재합니다.'.format(i+1))\n",
    "        break\n",
    "    i += 1\n",
    "else:\n",
    "    print('과일 목록에 존재하지 않습니다.')"
   ]
  },
  {
   "cell_type": "code",
   "execution_count": null,
   "metadata": {},
   "outputs": [],
   "source": [
    "# for else문\n",
    "# for문이 정상적으로 종료되었다면 else문은 반드시 실행됨\n",
    "# range는 범위 안의 정수를 담은 순회자를 반환\n",
    "# enumerate는 순회형 자료를 입력받아 인덱스와 객체를 포함하는 열거형 객체를 반환"
   ]
  },
  {
   "cell_type": "code",
   "execution_count": 48,
   "metadata": {},
   "outputs": [
    {
     "name": "stdout",
     "output_type": "stream",
     "text": [
      "[1, 2, 3, 4, 5, 6, 7, 8, 9, 10, 11, 12, 13, 14, 15, 16, 17, 18, 19, 20, 21, 22, 23, 24, 25, 26, 27, 28, 29, 30, 31, 32, 33, 34, 35, 36, 37, 38, 39, 40, 41, 42, 43, 44, 45, 46, 47, 48, 49, 50, 51, 52, 53, 54, 55, 56, 57, 58, 59, 60, 61, 62, 63, 64, 65, 66, 67, 68, 69, 70, 71, 72, 73, 74, 75, 76, 77, 78, 79, 80, 81, 82, 83, 84, 85, 86, 87, 88, 89, 90, 91, 92, 93, 94, 95, 96, 97, 98, 99, 100]\n"
     ]
    }
   ],
   "source": [
    "L = list(range(1,101))\n",
    "print(L)"
   ]
  },
  {
   "cell_type": "code",
   "execution_count": 50,
   "metadata": {},
   "outputs": [
    {
     "name": "stdout",
     "output_type": "stream",
     "text": [
      "[3, 5, 7, 9, 11, 13, 15, 17, 19, 21, 23, 25, 27, 29, 31, 33, 35, 37, 39, 41, 43, 45, 47, 49, 51, 53, 55, 57, 59, 61, 63, 65, 67, 69, 71, 73, 75, 77, 79, 81, 83, 85, 87, 89, 91, 93, 95, 97, 99]\n"
     ]
    }
   ],
   "source": [
    "print(list(range(3, 100, 2)))"
   ]
  },
  {
   "cell_type": "code",
   "execution_count": 53,
   "metadata": {},
   "outputs": [
    {
     "data": {
      "text/plain": [
       "[(0, '사과'), (1, '딸기'), (2, '바나나'), (3, '블루베리'), (4, '포도')]"
      ]
     },
     "execution_count": 53,
     "metadata": {},
     "output_type": "execute_result"
    }
   ],
   "source": [
    "list(enumerate(fruits))  # 이걸 참고!"
   ]
  },
  {
   "cell_type": "code",
   "execution_count": 51,
   "metadata": {},
   "outputs": [
    {
     "name": "stdout",
     "output_type": "stream",
     "text": [
      "0 : 사과\n",
      "1 : 딸기\n",
      "2 : 바나나\n",
      "3 : 블루베리\n",
      "4 : 포도\n"
     ]
    }
   ],
   "source": [
    "fruits = ['사과', '딸기', '바나나', '블루베리', '포도']\n",
    "for number, fruit in enumerate(fruits):\n",
    "    print(number, ':', fruit)"
   ]
  },
  {
   "cell_type": "code",
   "execution_count": 56,
   "metadata": {},
   "outputs": [
    {
     "name": "stdout",
     "output_type": "stream",
     "text": [
      "11 : 사과\n",
      "12 : 딸기\n",
      "13 : 바나나\n",
      "14 : 블루베리\n",
      "15 : 포도\n"
     ]
    }
   ],
   "source": [
    "fruits = ['사과', '딸기', '바나나', '블루베리', '포도']\n",
    "for number, fruit in enumerate(fruits, 11): # 11 is start\n",
    "    print(number, ':', fruit)"
   ]
  },
  {
   "cell_type": "code",
   "execution_count": 54,
   "metadata": {},
   "outputs": [
    {
     "data": {
      "text/plain": [
       "[45, 12, 7, 0, 38, 8]"
      ]
     },
     "execution_count": 54,
     "metadata": {},
     "output_type": "execute_result"
    }
   ],
   "source": [
    "# range문\n",
    "L = [45, -12, 7, 0, -38, -8]\n",
    "for i in range(len(L)):\n",
    "    L[i] = abs(L[i])\n",
    "L"
   ]
  },
  {
   "cell_type": "code",
   "execution_count": 55,
   "metadata": {},
   "outputs": [
    {
     "data": {
      "text/plain": [
       "[45, 12, 7, 0, 38, 8]"
      ]
     },
     "execution_count": 55,
     "metadata": {},
     "output_type": "execute_result"
    }
   ],
   "source": [
    "# enumerate문\n",
    "L = [45, -12, 7, 0, -38, -8]\n",
    "for i,_ in enumerate(L): # _ is dummy variable       # more pythonic \n",
    "    L[i] = abs(L[i])\n",
    "L"
   ]
  },
  {
   "cell_type": "code",
   "execution_count": 58,
   "metadata": {},
   "outputs": [
    {
     "data": {
      "text/plain": [
       "[('a', 'i', '1'), ('b', 'j', '2'), ('c', 'k', '3')]"
      ]
     },
     "execution_count": 58,
     "metadata": {},
     "output_type": "execute_result"
    }
   ],
   "source": [
    "# zip 함수       zip(*iterable)           # 가장 짧은 인자의 수만큼만 하고 멈춤\n",
    "# zip은 튜플의 리스트를 반환함\n",
    "x = ['a', 'b', 'c']\n",
    "y = ['i', 'j', 'k', 'l']\n",
    "z = '12345'\n",
    "\n",
    "list(zip(x,y,z))"
   ]
  },
  {
   "cell_type": "code",
   "execution_count": 59,
   "metadata": {},
   "outputs": [
    {
     "name": "stdout",
     "output_type": "stream",
     "text": [
      "('a', 'i', '1')\n",
      "('b', 'j', '2')\n",
      "('c', 'k', '3')\n"
     ]
    }
   ],
   "source": [
    "for t in zip(x,y,z):\n",
    "    print(t)"
   ]
  },
  {
   "cell_type": "code",
   "execution_count": 60,
   "metadata": {},
   "outputs": [
    {
     "name": "stdout",
     "output_type": "stream",
     "text": [
      "1\n",
      "3\n",
      "5\n",
      "7\n",
      "9\n"
     ]
    }
   ],
   "source": [
    "integers = [i for i in range(1,11)]\n",
    "for i in integers:\n",
    "    if i % 2 == 1:\n",
    "        print(i)"
   ]
  },
  {
   "cell_type": "code",
   "execution_count": 62,
   "metadata": {},
   "outputs": [
    {
     "name": "stdout",
     "output_type": "stream",
     "text": [
      "pink\n",
      "purple\n"
     ]
    }
   ],
   "source": [
    "colors = ['red', 'blue', 'pink', 'green', 'yellow', 'purple']\n",
    "for _,color in enumerate(colors):\n",
    "    if color.startswith('p'): # startswith <-> endswith\n",
    "        print(color)"
   ]
  },
  {
   "cell_type": "code",
   "execution_count": null,
   "metadata": {},
   "outputs": [],
   "source": []
  }
 ],
 "metadata": {
  "kernelspec": {
   "display_name": "Python 3",
   "language": "python",
   "name": "python3"
  },
  "language_info": {
   "codemirror_mode": {
    "name": "ipython",
    "version": 3
   },
   "file_extension": ".py",
   "mimetype": "text/x-python",
   "name": "python",
   "nbconvert_exporter": "python",
   "pygments_lexer": "ipython3",
   "version": "3.6.5"
  }
 },
 "nbformat": 4,
 "nbformat_minor": 2
}
