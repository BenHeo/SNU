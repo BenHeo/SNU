{
 "cells": [
  {
   "cell_type": "code",
   "execution_count": 1,
   "metadata": {},
   "outputs": [
    {
     "data": {
      "text/plain": [
       "30000"
      ]
     },
     "execution_count": 1,
     "metadata": {},
     "output_type": "execute_result"
    }
   ],
   "source": [
    "hour_rate = 7500\n",
    "total_wage = 0\n",
    "\n",
    "def albeit(hours):\n",
    "    global total_wage\n",
    "    daily_wage = hour_rate * hours\n",
    "    total_wage += daily_wage\n",
    "    return total_wage\n",
    "albeit(4)"
   ]
  },
  {
   "cell_type": "code",
   "execution_count": 2,
   "metadata": {},
   "outputs": [
    {
     "data": {
      "text/plain": [
       "52500"
      ]
     },
     "execution_count": 2,
     "metadata": {},
     "output_type": "execute_result"
    }
   ],
   "source": [
    "albeit(3)"
   ]
  },
  {
   "cell_type": "code",
   "execution_count": 3,
   "metadata": {},
   "outputs": [
    {
     "data": {
      "text/plain": [
       "90000"
      ]
     },
     "execution_count": 3,
     "metadata": {},
     "output_type": "execute_result"
    }
   ],
   "source": [
    "albeit(5) # 두 명만 알바해도 코드가..."
   ]
  },
  {
   "cell_type": "code",
   "execution_count": 8,
   "metadata": {},
   "outputs": [],
   "source": [
    "class Albeit:\n",
    "    hour_rate = 7500\n",
    "    def __init__(self):\n",
    "        self.total_wage = 0\n",
    "    def calculate_wage(self, hours):\n",
    "        daily_wage = Albeit.hour_rate*hours\n",
    "        self.total_wage += daily_wage"
   ]
  },
  {
   "cell_type": "code",
   "execution_count": 9,
   "metadata": {},
   "outputs": [],
   "source": [
    "albeit1 = Albeit()\n",
    "albeit2 = Albeit()"
   ]
  },
  {
   "cell_type": "code",
   "execution_count": 14,
   "metadata": {},
   "outputs": [],
   "source": [
    "albeit1.calculate_wage(5)"
   ]
  },
  {
   "cell_type": "code",
   "execution_count": 15,
   "metadata": {},
   "outputs": [
    {
     "data": {
      "text/plain": [
       "112500"
      ]
     },
     "execution_count": 15,
     "metadata": {},
     "output_type": "execute_result"
    }
   ],
   "source": [
    "albeit1.total_wage"
   ]
  },
  {
   "cell_type": "code",
   "execution_count": 17,
   "metadata": {},
   "outputs": [
    {
     "data": {
      "text/plain": [
       "0"
      ]
     },
     "execution_count": 17,
     "metadata": {},
     "output_type": "execute_result"
    }
   ],
   "source": [
    "albeit2.total_wage"
   ]
  },
  {
   "cell_type": "code",
   "execution_count": 19,
   "metadata": {},
   "outputs": [
    {
     "name": "stdout",
     "output_type": "stream",
     "text": [
      "<class '__main__.PartTimer'>\n",
      "<class '__main__.PartTimer'>\n"
     ]
    }
   ],
   "source": [
    "class PartTimer:\n",
    "    hour_rate = 7500\n",
    "    nickname = None\n",
    "    def setnickname(self, name):\n",
    "        self.nickname = name\n",
    "kim = PartTimer()\n",
    "lee = PartTimer()\n",
    "print(type(kim))\n",
    "print(type(lee))"
   ]
  },
  {
   "cell_type": "code",
   "execution_count": 22,
   "metadata": {},
   "outputs": [
    {
     "data": {
      "text/plain": [
       "'저의 닉네임은제이지입니다.'"
      ]
     },
     "execution_count": 22,
     "metadata": {},
     "output_type": "execute_result"
    }
   ],
   "source": [
    "# 초기화 함수(생성자)에서 닉네임을 받자\n",
    "class PartTimer:\n",
    "    hour_rate = 7500\n",
    "    def __init__(self, name):\n",
    "        self.nickname = name\n",
    "    def getnickname(self):\n",
    "        return '저의 닉네임은 ' + self.nickname + '입니다.'\n",
    "kim = PartTimer('제이지')\n",
    "kim.getnickname()"
   ]
  },
  {
   "cell_type": "code",
   "execution_count": 23,
   "metadata": {},
   "outputs": [
    {
     "name": "stdout",
     "output_type": "stream",
     "text": [
      "False\n",
      "True\n",
      "False\n",
      "True\n",
      "True\n"
     ]
    }
   ],
   "source": [
    "print(isinstance(-5, str))\n",
    "print(isinstance(-5, int))\n",
    "print(isinstance(0.0, int))\n",
    "print(isinstance('', str))\n",
    "print(isinstance([1], list))"
   ]
  },
  {
   "cell_type": "code",
   "execution_count": 24,
   "metadata": {},
   "outputs": [],
   "source": [
    "# 클래스 속성과 인스턴스 속성\n",
    "## 클래스 속성을 사용하는 케이스도 있기 마련이다\n",
    "class PartTimer:\n",
    "    hour_rate = 7500\n",
    "    total_parttimers = 0\n",
    "    def __init__(self, name):\n",
    "        self.nickname = name\n",
    "        PartTimer.total_parttimers += 1 # 이 부분이 클래스 속성 PartTimer 클래스를 생성할 때마다 추가됨\n",
    "    def getnickname(self):\n",
    "        return '저의 닉네임은 ' + self.nickname + '입니다.'"
   ]
  },
  {
   "cell_type": "code",
   "execution_count": 41,
   "metadata": {},
   "outputs": [],
   "source": [
    "class MovieInfo:\n",
    "    def __init__(self, movie_name, year, director, budget, stars):\n",
    "        self.movie_name = movie_name\n",
    "        self.year = year\n",
    "        self.director = director\n",
    "        self.budget = budget\n",
    "        self.stars = stars\n",
    "    def info(self):\n",
    "        return (\"=== 영화 {0} 정보 =======\\n영화 이름: {0}\\n개봉 년도: {1}\\n감독: {2}\\n예산: {3}\\n주연: {4}\".format(self.movie_name, self.year, self.director, self.budget, self.stars))\n",
    "    def get_stars(self):\n",
    "        print(\"=== 영화 {}의 주연 배우 목록 =======\".format(self.movie_name))\n",
    "        for star in self.stars:\n",
    "            print(star)"
   ]
  },
  {
   "cell_type": "code",
   "execution_count": 47,
   "metadata": {},
   "outputs": [
    {
     "name": "stdout",
     "output_type": "stream",
     "text": [
      "=== 영화 Interstellar 정보 =======\n",
      "영화 이름: Interstellar\n",
      "개봉 년도: 2014\n",
      "감독: Christoper Nolan\n",
      "예산: $165,000,000\n",
      "주연: ['Matthew McConaughey', 'Anne Hathaway', 'Jessica Chastain']\n",
      "=== 영화 Interstellar의 주연 배우 목록 =======\n",
      "Matthew McConaughey\n",
      "Anne Hathaway\n",
      "Jessica Chastain\n"
     ]
    }
   ],
   "source": [
    "interstellar = MovieInfo('Interstellar', 2014, 'Christoper Nolan', '$165,000,000', ['Matthew McConaughey', 'Anne Hathaway', 'Jessica Chastain'])\n",
    "print(interstellar.info())\n",
    "interstellar.get_stars()"
   ]
  },
  {
   "cell_type": "code",
   "execution_count": 48,
   "metadata": {},
   "outputs": [
    {
     "name": "stdout",
     "output_type": "stream",
     "text": [
      "=== 영화 Mad Max: Fury Road 정보 =======\n",
      "영화 이름: Mad Max: Fury Road\n",
      "개봉 년도: 2015\n",
      "감독: George Miller\n",
      "예산: $75,000,000\n",
      "주연: ['Tom Hardy', 'Charlize Theron', 'Nicholas Hoult']\n",
      "=== 영화 Mad Max: Fury Road의 주연 배우 목록 =======\n",
      "Tom Hardy\n",
      "Charlize Theron\n",
      "Nicholas Hoult\n"
     ]
    }
   ],
   "source": [
    "madmax = MovieInfo('Mad Max: Fury Road', 2015, 'George Miller', '$75,000,000', ['Tom Hardy', 'Charlize Theron', 'Nicholas Hoult'])\n",
    "print(madmax.info())\n",
    "madmax.get_stars()"
   ]
  },
  {
   "cell_type": "code",
   "execution_count": 49,
   "metadata": {},
   "outputs": [
    {
     "name": "stdout",
     "output_type": "stream",
     "text": [
      "=== 영화 Logan 정보 =======\n",
      "영화 이름: Logan\n",
      "개봉 년도: 2017\n",
      "감독: James Mangold\n",
      "예산: $97,000,000\n",
      "주연: ['Hugh Jackman', 'Patrick Stewart', 'Dafne Keen']\n",
      "=== 영화 Logan의 주연 배우 목록 =======\n",
      "Hugh Jackman\n",
      "Patrick Stewart\n",
      "Dafne Keen\n"
     ]
    }
   ],
   "source": [
    "logan = MovieInfo('Logan', 2017, 'James Mangold', '$97,000,000', ['Hugh Jackman', 'Patrick Stewart', 'Dafne Keen'])\n",
    "print(logan.info())\n",
    "logan.get_stars()"
   ]
  },
  {
   "cell_type": "code",
   "execution_count": 50,
   "metadata": {},
   "outputs": [
    {
     "data": {
      "text/plain": [
       "'라이언'"
      ]
     },
     "execution_count": 50,
     "metadata": {},
     "output_type": "execute_result"
    }
   ],
   "source": [
    "from parttimer import PartTimer\n",
    "park = PartTimer('라이언')\n",
    "lee = PartTimer('네온', '137-1동')\n",
    "park.nickname"
   ]
  },
  {
   "cell_type": "code",
   "execution_count": 51,
   "metadata": {},
   "outputs": [
    {
     "data": {
      "text/plain": [
       "'네온'"
      ]
     },
     "execution_count": 51,
     "metadata": {},
     "output_type": "execute_result"
    }
   ],
   "source": [
    "lee.nickname"
   ]
  },
  {
   "cell_type": "code",
   "execution_count": 53,
   "metadata": {},
   "outputs": [
    {
     "data": {
      "text/plain": [
       "'113동'"
      ]
     },
     "execution_count": 53,
     "metadata": {},
     "output_type": "execute_result"
    }
   ],
   "source": [
    "park.work_place"
   ]
  },
  {
   "cell_type": "code",
   "execution_count": 54,
   "metadata": {},
   "outputs": [
    {
     "data": {
      "text/plain": [
       "'137-1동'"
      ]
     },
     "execution_count": 54,
     "metadata": {},
     "output_type": "execute_result"
    }
   ],
   "source": [
    "lee.work_place"
   ]
  },
  {
   "cell_type": "code",
   "execution_count": 55,
   "metadata": {},
   "outputs": [
    {
     "data": {
      "text/plain": [
       "30000"
      ]
     },
     "execution_count": 55,
     "metadata": {},
     "output_type": "execute_result"
    }
   ],
   "source": [
    "park.calculate_wage(4)"
   ]
  },
  {
   "cell_type": "code",
   "execution_count": 56,
   "metadata": {},
   "outputs": [
    {
     "data": {
      "text/plain": [
       "22500"
      ]
     },
     "execution_count": 56,
     "metadata": {},
     "output_type": "execute_result"
    }
   ],
   "source": [
    "lee.calculate_wage(3)"
   ]
  },
  {
   "cell_type": "code",
   "execution_count": 57,
   "metadata": {},
   "outputs": [
    {
     "data": {
      "text/plain": [
       "60000"
      ]
     },
     "execution_count": 57,
     "metadata": {},
     "output_type": "execute_result"
    }
   ],
   "source": [
    "park.calculate_wage(4)"
   ]
  },
  {
   "cell_type": "code",
   "execution_count": 58,
   "metadata": {},
   "outputs": [
    {
     "data": {
      "text/plain": [
       "82500"
      ]
     },
     "execution_count": 58,
     "metadata": {},
     "output_type": "execute_result"
    }
   ],
   "source": [
    "park.calculate_wage(3)"
   ]
  },
  {
   "cell_type": "code",
   "execution_count": 59,
   "metadata": {},
   "outputs": [
    {
     "data": {
      "text/plain": [
       "45000"
      ]
     },
     "execution_count": 59,
     "metadata": {},
     "output_type": "execute_result"
    }
   ],
   "source": [
    "lee.calculate_wage(3)"
   ]
  },
  {
   "cell_type": "code",
   "execution_count": 60,
   "metadata": {},
   "outputs": [
    {
     "data": {
      "text/plain": [
       "2"
      ]
     },
     "execution_count": 60,
     "metadata": {},
     "output_type": "execute_result"
    }
   ],
   "source": [
    "PartTimer.total_part_timers"
   ]
  }
 ],
 "metadata": {
  "kernelspec": {
   "display_name": "Python 3",
   "language": "python",
   "name": "python3"
  },
  "language_info": {
   "codemirror_mode": {
    "name": "ipython",
    "version": 3
   },
   "file_extension": ".py",
   "mimetype": "text/x-python",
   "name": "python",
   "nbconvert_exporter": "python",
   "pygments_lexer": "ipython3",
   "version": "3.6.6"
  }
 },
 "nbformat": 4,
 "nbformat_minor": 2
}
