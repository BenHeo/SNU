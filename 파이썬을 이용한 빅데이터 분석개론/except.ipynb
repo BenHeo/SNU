{
 "cells": [
  {
   "cell_type": "code",
   "execution_count": 1,
   "metadata": {},
   "outputs": [],
   "source": [
    "# throw: 예외 전달\n",
    "# catch: 에외 처리\n",
    "\n",
    "# try문은 반드시 한 개 이상의 except문 필요(finally도 가능)\n",
    "# try가 정상 종료 되었다면 else문이 실행됨\n",
    "# finally는 모두 완료된 후 마지막에 항상 실행됨\n",
    "\n",
    "# except문의 예외그룹은 하나의 예외일 수 있고 튜플 형태로 목록을 한 번에 처리할 수도 있다\n",
    "# except에 예외그룹을 정하지 않을 수도 있지만 이 경우 모든 예외를 처리해 버린다.\n",
    "# 가능한 발생할 수 있는 세부적이고 구체적인 예외그룹 정하는 것을 권장\n",
    "\n",
    "# raise는 직접 예외를 정의하는 것"
   ]
  },
  {
   "cell_type": "code",
   "execution_count": null,
   "metadata": {},
   "outputs": [],
   "source": [
    "class Ontology: pass\n",
    "o1 = Ontology()\n",
    "o2 = Ontology()\n",
    "\n",
    "def merge(ontology1, ontology2):\n",
    "    pass"
   ]
  },
  {
   "cell_type": "code",
   "execution_count": 3,
   "metadata": {},
   "outputs": [
    {
     "name": "stdout",
     "output_type": "stream",
     "text": [
      "1-9 사이의 숫자를 입력하세요: 8\n",
      "통과하셨습니다.\n"
     ]
    }
   ],
   "source": [
    "while True:\n",
    "    try:\n",
    "        i = int(input('1-9 사이의 숫자를 입력하세요: '))\n",
    "        if type(i) == int and 0 < i < 10:\n",
    "            print('통과하셨습니다.')\n",
    "            break\n",
    "        else:\n",
    "            raise ValueError\n",
    "    except ValueError:\n",
    "        print('ValueError: 1-9 사이의 숫자를 입력하세요!')"
   ]
  },
  {
   "cell_type": "code",
   "execution_count": 4,
   "metadata": {},
   "outputs": [],
   "source": [
    "# 가정 설정문 assert"
   ]
  },
  {
   "cell_type": "code",
   "execution_count": 7,
   "metadata": {},
   "outputs": [
    {
     "name": "stdout",
     "output_type": "stream",
     "text": [
      "과일 이름을 입력하세요...: 사과\n",
      "과일 목록의 1번째에 존재합니다.\n"
     ]
    }
   ],
   "source": [
    "class FoundFruitException(Exception): pass\n",
    "\n",
    "fruits = ['사과', '딸기', '바나나', '블루베리', '포도']\n",
    "\n",
    "try:\n",
    "    userF = input('과일 이름을 입력하세요...: ')\n",
    "    for i in range(len(fruits)):\n",
    "        if fruits[i] == userF:\n",
    "            raise FoundFruitException()\n",
    "except FoundFruitException:\n",
    "    print('과일 목록의 {}번째에 존재합니다.'.format(i+1))\n",
    "else:\n",
    "    print('과일 목록에 존재하지 않습니다')"
   ]
  },
  {
   "cell_type": "code",
   "execution_count": 17,
   "metadata": {},
   "outputs": [
    {
     "name": "stdout",
     "output_type": "stream",
     "text": [
      "임의의 양의 정수를 입력하세요: 3\n",
      "이 숫자는 소수입니다.\n"
     ]
    }
   ],
   "source": [
    "class PrimeException(Exception): pass\n",
    "\n",
    "try:\n",
    "    prime = int(input('임의의 양의 정수를 입력하세요: ')) # 여기에 3.0 넣었을 때 에러로 간 이유: int('3.0')은 불가. int(float('3.0'))은 가능\n",
    "    if prime > 1:\n",
    "        for i in range(2, prime):\n",
    "            if prime % i == 0:\n",
    "                raise PrimeException()\n",
    "        else:\n",
    "            print('이 숫자는 소수입니다.')\n",
    "    else:\n",
    "        raise ValueError()\n",
    "    \n",
    "except ValueError:\n",
    "    print('ValueError: 1보다 큰 양의 정수를 입력하세요.')\n",
    "except PrimeException:\n",
    "    print('{} x {} = {}'.format(i, prime//i, prime))\n",
    "    print('이 숫자는 소수가 아닙니다')"
   ]
  }
 ],
 "metadata": {
  "kernelspec": {
   "display_name": "Python 3",
   "language": "python",
   "name": "python3"
  },
  "language_info": {
   "codemirror_mode": {
    "name": "ipython",
    "version": 3
   },
   "file_extension": ".py",
   "mimetype": "text/x-python",
   "name": "python",
   "nbconvert_exporter": "python",
   "pygments_lexer": "ipython3",
   "version": "3.6.6"
  }
 },
 "nbformat": 4,
 "nbformat_minor": 2
}
