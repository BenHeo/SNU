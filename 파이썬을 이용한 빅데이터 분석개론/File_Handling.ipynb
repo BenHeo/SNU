{
 "cells": [
  {
   "cell_type": "code",
   "execution_count": 1,
   "metadata": {},
   "outputs": [],
   "source": [
    "file = open('song.txt', mode = 'w', encoding = 'utf-8')"
   ]
  },
  {
   "cell_type": "code",
   "execution_count": 2,
   "metadata": {},
   "outputs": [
    {
     "data": {
      "text/plain": [
       "21"
      ]
     },
     "execution_count": 2,
     "metadata": {},
     "output_type": "execute_result"
    }
   ],
   "source": [
    "file.write('======= 고향의 봄 =======')"
   ]
  },
  {
   "cell_type": "code",
   "execution_count": 3,
   "metadata": {},
   "outputs": [
    {
     "data": {
      "text/plain": [
       "18"
      ]
     },
     "execution_count": 3,
     "metadata": {},
     "output_type": "execute_result"
    }
   ],
   "source": [
    "file.write('나의 살-던 고향은 꽃피는-산골-')"
   ]
  },
  {
   "cell_type": "code",
   "execution_count": 4,
   "metadata": {},
   "outputs": [],
   "source": [
    "file.close()"
   ]
  },
  {
   "cell_type": "code",
   "execution_count": 5,
   "metadata": {},
   "outputs": [
    {
     "data": {
      "text/plain": [
       "<_io.TextIOWrapper name='song.txt' mode='w' encoding='utf-8'>"
      ]
     },
     "execution_count": 5,
     "metadata": {},
     "output_type": "execute_result"
    }
   ],
   "source": [
    "file"
   ]
  },
  {
   "cell_type": "code",
   "execution_count": 6,
   "metadata": {},
   "outputs": [],
   "source": [
    "file = open('song.txt')"
   ]
  },
  {
   "cell_type": "code",
   "execution_count": 7,
   "metadata": {},
   "outputs": [
    {
     "data": {
      "text/plain": [
       "'song.txt'"
      ]
     },
     "execution_count": 7,
     "metadata": {},
     "output_type": "execute_result"
    }
   ],
   "source": [
    "file.name"
   ]
  },
  {
   "cell_type": "code",
   "execution_count": 8,
   "metadata": {},
   "outputs": [
    {
     "data": {
      "text/plain": [
       "'r'"
      ]
     },
     "execution_count": 8,
     "metadata": {},
     "output_type": "execute_result"
    }
   ],
   "source": [
    "file.mode"
   ]
  },
  {
   "cell_type": "code",
   "execution_count": 9,
   "metadata": {
    "scrolled": true
   },
   "outputs": [
    {
     "data": {
      "text/plain": [
       "False"
      ]
     },
     "execution_count": 9,
     "metadata": {},
     "output_type": "execute_result"
    }
   ],
   "source": [
    "file.closed"
   ]
  },
  {
   "cell_type": "code",
   "execution_count": 10,
   "metadata": {},
   "outputs": [],
   "source": [
    "file.close()"
   ]
  },
  {
   "cell_type": "code",
   "execution_count": 11,
   "metadata": {},
   "outputs": [
    {
     "data": {
      "text/plain": [
       "'======= 고향의 봄 =======나의 살-던 고향은 꽃피는-산골-'"
      ]
     },
     "execution_count": 11,
     "metadata": {},
     "output_type": "execute_result"
    }
   ],
   "source": [
    "file = open('song.txt', mode = 'r', encoding = 'utf-8')\n",
    "# file.read는 전체를 한 개의 문자열로 반환\n",
    "file.read() # write 자체는 \\n을 하지 않기 때문에 이어져 나온다"
   ]
  },
  {
   "cell_type": "code",
   "execution_count": 12,
   "metadata": {},
   "outputs": [],
   "source": [
    "file = open('고향의 봄.txt', 'w', encoding='utf-8')"
   ]
  },
  {
   "cell_type": "code",
   "execution_count": 13,
   "metadata": {},
   "outputs": [
    {
     "data": {
      "text/plain": [
       "23"
      ]
     },
     "execution_count": 13,
     "metadata": {},
     "output_type": "execute_result"
    }
   ],
   "source": [
    "file.write('======= 고향의 봄 =======\\n\\n')"
   ]
  },
  {
   "cell_type": "code",
   "execution_count": 14,
   "metadata": {},
   "outputs": [
    {
     "data": {
      "text/plain": [
       "19"
      ]
     },
     "execution_count": 14,
     "metadata": {},
     "output_type": "execute_result"
    }
   ],
   "source": [
    "file.write('나의 살-던 고향은 꽃피는-산골-\\n')"
   ]
  },
  {
   "cell_type": "code",
   "execution_count": 15,
   "metadata": {},
   "outputs": [
    {
     "data": {
      "text/plain": [
       "21"
      ]
     },
     "execution_count": 15,
     "metadata": {},
     "output_type": "execute_result"
    }
   ],
   "source": [
    "file.write('복숭아-꽃 살-구꽃 아-기 진-달래-\\n')"
   ]
  },
  {
   "cell_type": "code",
   "execution_count": 16,
   "metadata": {},
   "outputs": [
    {
     "data": {
      "text/plain": [
       "19"
      ]
     },
     "execution_count": 16,
     "metadata": {},
     "output_type": "execute_result"
    }
   ],
   "source": [
    "file.write('울긋불-긋 꽃 대궐 차리인-동네-\\n')"
   ]
  },
  {
   "cell_type": "code",
   "execution_count": 17,
   "metadata": {},
   "outputs": [
    {
     "data": {
      "text/plain": [
       "19"
      ]
     },
     "execution_count": 17,
     "metadata": {},
     "output_type": "execute_result"
    }
   ],
   "source": [
    "file.write('그 속에서 놀던 때가 그립습니다-\\n')"
   ]
  },
  {
   "cell_type": "code",
   "execution_count": 18,
   "metadata": {},
   "outputs": [],
   "source": [
    "file.close()\n",
    "file = open('고향의 봄.txt', encoding='utf-8')"
   ]
  },
  {
   "cell_type": "code",
   "execution_count": 19,
   "metadata": {},
   "outputs": [
    {
     "name": "stdout",
     "output_type": "stream",
     "text": [
      "======= 고향의 봄 =======\n",
      "\n",
      "나의 살-던 고향은 꽃피는-산골-\n",
      "복숭아-꽃 살-구꽃 아-기 진-달래-\n",
      "울긋불-긋 꽃 대궐 차리인-동네-\n",
      "그 속에서 놀던 때가 그립습니다-\n",
      "\n"
     ]
    }
   ],
   "source": [
    "print(file.read())"
   ]
  },
  {
   "cell_type": "code",
   "execution_count": 20,
   "metadata": {},
   "outputs": [],
   "source": [
    "file.close()\n",
    "file = open('고향의 봄.txt', 'a', encoding='utf-8')"
   ]
  },
  {
   "cell_type": "code",
   "execution_count": 21,
   "metadata": {},
   "outputs": [
    {
     "data": {
      "text/plain": [
       "21"
      ]
     },
     "execution_count": 21,
     "metadata": {},
     "output_type": "execute_result"
    }
   ],
   "source": [
    "file.write('\\n꽃-동-네 새 동네 나의 옛-고향-\\n')"
   ]
  },
  {
   "cell_type": "code",
   "execution_count": 22,
   "metadata": {},
   "outputs": [
    {
     "data": {
      "text/plain": [
       "38"
      ]
     },
     "execution_count": 22,
     "metadata": {},
     "output_type": "execute_result"
    }
   ],
   "source": [
    "file.write('파-란-들 남쪽에서 바-람이-불면-\\n냇-가에 수양버들 춤추는-동네-\\n')"
   ]
  },
  {
   "cell_type": "code",
   "execution_count": 23,
   "metadata": {},
   "outputs": [
    {
     "data": {
      "text/plain": [
       "18"
      ]
     },
     "execution_count": 23,
     "metadata": {},
     "output_type": "execute_result"
    }
   ],
   "source": [
    "file.write('그 속에서 놀던 때가 그립습니다-')"
   ]
  },
  {
   "cell_type": "code",
   "execution_count": 24,
   "metadata": {},
   "outputs": [],
   "source": [
    "file.close()\n",
    "file = open('고향의 봄.txt', encoding='utf-8')"
   ]
  },
  {
   "cell_type": "code",
   "execution_count": 25,
   "metadata": {
    "scrolled": true
   },
   "outputs": [
    {
     "name": "stdout",
     "output_type": "stream",
     "text": [
      "======= 고향의 봄 =======\n",
      "\n",
      "나의 살-던 고향은 꽃피는-산골-\n",
      "복숭아-꽃 살-구꽃 아-기 진-달래-\n",
      "울긋불-긋 꽃 대궐 차리인-동네-\n",
      "그 속에서 놀던 때가 그립습니다-\n",
      "\n",
      "꽃-동-네 새 동네 나의 옛-고향-\n",
      "파-란-들 남쪽에서 바-람이-불면-\n",
      "냇-가에 수양버들 춤추는-동네-\n",
      "그 속에서 놀던 때가 그립습니다-\n"
     ]
    }
   ],
   "source": [
    "print(file.read())"
   ]
  },
  {
   "cell_type": "code",
   "execution_count": 26,
   "metadata": {},
   "outputs": [],
   "source": [
    "file.close()"
   ]
  },
  {
   "cell_type": "code",
   "execution_count": 27,
   "metadata": {},
   "outputs": [],
   "source": [
    "alist = ['to', 'be', 'or', 'not', 'to', 'be']\n",
    "file = open('data/list_newline.txt', mode = 'w', encoding='utf-8')\n",
    "for word in alist:\n",
    "    file.write(word + '\\n')\n",
    "file.close()"
   ]
  },
  {
   "cell_type": "code",
   "execution_count": 28,
   "metadata": {},
   "outputs": [],
   "source": [
    "alist = [2, 3.1, -7, -1.4, 5]\n",
    "file = open('data/numbers.txt', mode = 'w', encoding='utf-8')\n",
    "for number in alist:\n",
    "    file.write(str(number) + '\\n') # str을 안 해주면 타입 에러(int + str)\n",
    "file.close()"
   ]
  },
  {
   "cell_type": "code",
   "execution_count": 29,
   "metadata": {},
   "outputs": [],
   "source": [
    "alist = ['a', 'b', 'ㄱ', 'ㄴ', '다']\n",
    "file = open('data/numbers.txt', mode = 'a', encoding='utf-8')\n",
    "for item in alist:\n",
    "    file.write(item + '\\n')\n",
    "file.close()"
   ]
  },
  {
   "cell_type": "markdown",
   "metadata": {},
   "source": [
    "### file.read(size) : size까지 문자 읽고 하나의 str으로 반환\n",
    "### file.readline(size) : size까지 문자 읽고 텍스트 한 줄을 str으로 반환\n",
    "### file.readlines(hint) : hint만큼 줄을 읽고 리스트로 반환"
   ]
  },
  {
   "cell_type": "code",
   "execution_count": 30,
   "metadata": {},
   "outputs": [
    {
     "name": "stdout",
     "output_type": "stream",
     "text": [
      "<_io.TextIOWrapper name='고향의 봄.txt' mode='r' encoding='cp949'>\n"
     ]
    }
   ],
   "source": [
    "file = open('고향의 봄.txt', 'r')\n",
    "file\n",
    "print(file)\n",
    "file.close()"
   ]
  },
  {
   "cell_type": "code",
   "execution_count": 31,
   "metadata": {},
   "outputs": [
    {
     "name": "stdout",
     "output_type": "stream",
     "text": [
      "<class 'str'>\n",
      "======= 고향의 봄 =======\n",
      "\n",
      "나의 살-던 고향은 꽃피는-산골-\n",
      "복숭아-꽃 살-구꽃 아-기 진-달래-\n",
      "울긋불-긋 꽃 대궐 차리인-동네-\n",
      "그 속에서 놀던 때가 그립습니다-\n",
      "\n",
      "꽃-동-네 새 동네 나의 옛-고향-\n",
      "파-란-들 남쪽에서 바-람이-불면-\n",
      "냇-가에 수양버들 춤추는-동네-\n",
      "그 속에서 놀던 때가 그립습니다-\n"
     ]
    }
   ],
   "source": [
    "file = open('고향의 봄.txt', 'r', encoding='utf-8')\n",
    "data = file.read()\n",
    "file.close()\n",
    "print(type(data))\n",
    "data\n",
    "print(data)"
   ]
  },
  {
   "cell_type": "code",
   "execution_count": 32,
   "metadata": {},
   "outputs": [
    {
     "name": "stdout",
     "output_type": "stream",
     "text": [
      "<class 'str'>\n",
      "======= 고향의 봄 =======\n",
      "\n"
     ]
    }
   ],
   "source": [
    "file = open('고향의 봄.txt', 'r', encoding='utf-8')\n",
    "data = file.readline()\n",
    "file.close()\n",
    "print(type(data))\n",
    "data\n",
    "print(data) # 한 줄만 나온다"
   ]
  },
  {
   "cell_type": "code",
   "execution_count": 33,
   "metadata": {},
   "outputs": [
    {
     "name": "stdout",
     "output_type": "stream",
     "text": [
      "======= 고향의 봄 =======\n",
      "\n",
      "나의 살-던 고향은 꽃피는-산골-\n",
      "복숭아-꽃 살-구꽃 아-기 진-달래-\n",
      "울긋불-긋 꽃 대궐 차리인-동네-\n",
      "그 속에서 놀던 때가 그립습니다-\n",
      "\n",
      "꽃-동-네 새 동네 나의 옛-고향-\n",
      "파-란-들 남쪽에서 바-람이-불면-\n",
      "냇-가에 수양버들 춤추는-동네-\n",
      "그 속에서 놀던 때가 그립습니다-"
     ]
    }
   ],
   "source": [
    "file = open('고향의 봄.txt', 'r', encoding='utf-8')\n",
    "while True:\n",
    "    line = file.readline()\n",
    "    if not line:\n",
    "        break\n",
    "    print(line, end = '') # 이렇게 안 했다면 print 자체 엔터 처리와 기존 txt의 \\n 때문에 2줄을 띈다"
   ]
  },
  {
   "cell_type": "code",
   "execution_count": 34,
   "metadata": {},
   "outputs": [
    {
     "name": "stdout",
     "output_type": "stream",
     "text": [
      "\n"
     ]
    }
   ],
   "source": [
    "print(file.readline()) # 다 읽고 나면 계속해서 빈 문자열 '' 만 나온다(False 로 생각 가능)\n",
    "file.close()"
   ]
  },
  {
   "cell_type": "code",
   "execution_count": 35,
   "metadata": {},
   "outputs": [
    {
     "name": "stdout",
     "output_type": "stream",
     "text": [
      "======= 고향의 봄 =======\n",
      "\n",
      "나의 살-던 고향은 꽃피는-산골-\n",
      "복숭아-꽃 살-구꽃 아-기 진-달래-\n",
      "울긋불-긋 꽃 대궐 차리인-동네-\n",
      "그 속에서 놀던 때가 그립습니다-\n",
      "\n",
      "꽃-동-네 새 동네 나의 옛-고향-\n",
      "파-란-들 남쪽에서 바-람이-불면-\n",
      "냇-가에 수양버들 춤추는-동네-\n",
      "그 속에서 놀던 때가 그립습니다-"
     ]
    },
    {
     "ename": "ValueError",
     "evalue": "I/O operation on closed file.",
     "output_type": "error",
     "traceback": [
      "\u001b[1;31m---------------------------------------------------------------------------\u001b[0m",
      "\u001b[1;31mValueError\u001b[0m                                Traceback (most recent call last)",
      "\u001b[1;32m<ipython-input-35-aa16e95016a5>\u001b[0m in \u001b[0;36m<module>\u001b[1;34m()\u001b[0m\n\u001b[0;32m      3\u001b[0m     \u001b[1;32mfor\u001b[0m \u001b[0mline\u001b[0m \u001b[1;32min\u001b[0m \u001b[0mfile\u001b[0m\u001b[1;33m:\u001b[0m\u001b[1;33m\u001b[0m\u001b[0m\n\u001b[0;32m      4\u001b[0m         \u001b[0mprint\u001b[0m\u001b[1;33m(\u001b[0m\u001b[0mline\u001b[0m\u001b[1;33m,\u001b[0m \u001b[0mend\u001b[0m \u001b[1;33m=\u001b[0m \u001b[1;34m''\u001b[0m\u001b[1;33m)\u001b[0m\u001b[1;33m\u001b[0m\u001b[0m\n\u001b[1;32m----> 5\u001b[1;33m \u001b[0mfile\u001b[0m\u001b[1;33m.\u001b[0m\u001b[0mreadline\u001b[0m\u001b[1;33m(\u001b[0m\u001b[1;33m)\u001b[0m \u001b[1;31m# with문이 끝났기 때문에 file은 없다\u001b[0m\u001b[1;33m\u001b[0m\u001b[0m\n\u001b[0m",
      "\u001b[1;31mValueError\u001b[0m: I/O operation on closed file."
     ]
    }
   ],
   "source": [
    "# open close로 인한 실수도 방지하고 짧게 할 수 있는 방법 : with문\n",
    "with open('고향의 봄.txt', encoding='utf-8') as file:\n",
    "    for line in file:\n",
    "        print(line, end = '')\n",
    "file.readline() # with문이 끝났기 때문에 file은 없다"
   ]
  },
  {
   "cell_type": "code",
   "execution_count": 36,
   "metadata": {},
   "outputs": [
    {
     "name": "stdout",
     "output_type": "stream",
     "text": [
      "나의 살-던 고향은 꽃피는-산골-\n",
      "\n"
     ]
    },
    {
     "data": {
      "text/plain": [
       "'울긋불-긋 꽃 대궐 차리인-동네-'"
      ]
     },
     "execution_count": 36,
     "metadata": {},
     "output_type": "execute_result"
    }
   ],
   "source": [
    "file = open('고향의 봄.txt', 'r', encoding='utf-8')\n",
    "sentences = []\n",
    "for line in file: # 이렇게 하면 줄별로 받아오네\n",
    "    sentences.append(line)\n",
    "print(sentences[2]) # 리스트 형이라 인덱싱 가능\n",
    "sentences[4].rstrip() # 끝의 \\n을 제거시켰다"
   ]
  },
  {
   "cell_type": "code",
   "execution_count": 37,
   "metadata": {},
   "outputs": [
    {
     "name": "stdout",
     "output_type": "stream",
     "text": [
      "<class 'list'>\n",
      "['======= 고향의 봄 =======\\n', '\\n', '나의 살-던 고향은 꽃피는-산골-\\n', '복숭아-꽃 살-구꽃 아-기 진-달래-\\n', '울긋불-긋 꽃 대궐 차리인-동네-\\n', '그 속에서 놀던 때가 그립습니다-\\n', '\\n', '꽃-동-네 새 동네 나의 옛-고향-\\n', '파-란-들 남쪽에서 바-람이-불면-\\n', '냇-가에 수양버들 춤추는-동네-\\n', '그 속에서 놀던 때가 그립습니다-']\n"
     ]
    }
   ],
   "source": [
    "file = open('고향의 봄.txt', 'r', encoding='utf-8')\n",
    "data = file.readlines() # 한 번에 리스트로 받는다\n",
    "file.close()\n",
    "print(type(data))\n",
    "print(data) # 위의 sentences와 같다 더 짧으니 readlines를 쓰자"
   ]
  },
  {
   "cell_type": "code",
   "execution_count": 38,
   "metadata": {},
   "outputs": [
    {
     "name": "stdout",
     "output_type": "stream",
     "text": [
      "<class 'list'>\n",
      "['======= 고향의 봄 =======', '', '나의 살-던 고향은 꽃피는-산골-', '복숭아-꽃 살-구꽃 아-기 진-달래-', '울긋불-긋 꽃 대궐 차리인-동네-', '그 속에서 놀던 때가 그립습니다-', '', '꽃-동-네 새 동네 나의 옛-고향-', '파-란-들 남쪽에서 바-람이-불면-', '냇-가에 수양버들 춤추는-동네-', '그 속에서 놀던 때가 그립습니다-']\n"
     ]
    }
   ],
   "source": [
    "file = open('고향의 봄.txt', 'r', encoding='utf-8')\n",
    "data = file.read().split('\\n') # \\n이 빠졌다\n",
    "file.close()\n",
    "print(type(data))\n",
    "print(data)"
   ]
  },
  {
   "cell_type": "code",
   "execution_count": 39,
   "metadata": {},
   "outputs": [
    {
     "name": "stdout",
     "output_type": "stream",
     "text": [
      "<class 'list'>\n",
      "['======= 고향의 봄 =======', '', '나의 살-던 고향은 꽃피는-산골-', '복숭아-꽃 살-구꽃 아-기 진-달래-', '울긋불-긋 꽃 대궐 차리인-동네-', '그 속에서 놀던 때가 그립습니다-', '', '꽃-동-네 새 동네 나의 옛-고향-', '파-란-들 남쪽에서 바-람이-불면-', '냇-가에 수양버들 춤추는-동네-', '그 속에서 놀던 때가 그립습니다-']\n"
     ]
    }
   ],
   "source": [
    "file = open('고향의 봄.txt', 'r', encoding='utf-8')\n",
    "data = file.read().splitlines() # split('\\n') 하지 말고 splitlines()하세요. 인코딩 때문에 문제 되는 경우가 많음\n",
    "file.close()\n",
    "print(type(data))\n",
    "print(data)"
   ]
  },
  {
   "cell_type": "markdown",
   "metadata": {},
   "source": [
    "# 파일 경로 탐색과 조작"
   ]
  },
  {
   "cell_type": "code",
   "execution_count": 40,
   "metadata": {},
   "outputs": [
    {
     "data": {
      "text/plain": [
       "0"
      ]
     },
     "execution_count": 40,
     "metadata": {},
     "output_type": "execute_result"
    }
   ],
   "source": [
    "file = open('고향의 봄.txt', 'r', encoding='utf-8')\n",
    "file.tell() # 파일 내부에서 파일 객체의 현재 위치를 알려주는 정수 반환"
   ]
  },
  {
   "cell_type": "code",
   "execution_count": 41,
   "metadata": {},
   "outputs": [
    {
     "data": {
      "text/plain": [
       "'고향의 봄'"
      ]
     },
     "execution_count": 41,
     "metadata": {},
     "output_type": "execute_result"
    }
   ],
   "source": [
    "file.seek(8)\n",
    "file.read(5)"
   ]
  },
  {
   "cell_type": "code",
   "execution_count": 42,
   "metadata": {
    "scrolled": true
   },
   "outputs": [
    {
     "data": {
      "text/plain": [
       "' =======\\n'"
      ]
     },
     "execution_count": 42,
     "metadata": {},
     "output_type": "execute_result"
    }
   ],
   "source": [
    "file.readline()"
   ]
  },
  {
   "cell_type": "code",
   "execution_count": 43,
   "metadata": {},
   "outputs": [],
   "source": [
    "file.close()"
   ]
  },
  {
   "cell_type": "code",
   "execution_count": 44,
   "metadata": {},
   "outputs": [
    {
     "data": {
      "text/plain": [
       "0"
      ]
     },
     "execution_count": 44,
     "metadata": {},
     "output_type": "execute_result"
    }
   ],
   "source": [
    "file = open('고향의 봄.txt', 'rb') # encoding 쓰면 에러. 이진 파일이기 때문\n",
    "file.tell()"
   ]
  },
  {
   "cell_type": "code",
   "execution_count": 45,
   "metadata": {},
   "outputs": [
    {
     "data": {
      "text/plain": [
       "'고향의 봄'"
      ]
     },
     "execution_count": 45,
     "metadata": {},
     "output_type": "execute_result"
    }
   ],
   "source": [
    "file.seek(8)\n",
    "file.read(13).decode('utf-8') # decode 없이 한 결과 b'\\xea\\xb3\\xa0\\xed\\x96\\xa5\\xec\\x9d\\x98 \\xeb\\xb4\\x84'"
   ]
  },
  {
   "cell_type": "markdown",
   "metadata": {},
   "source": [
    "# 경로탐색"
   ]
  },
  {
   "cell_type": "code",
   "execution_count": 47,
   "metadata": {},
   "outputs": [
    {
     "data": {
      "text/plain": [
       "'C:\\\\Users\\\\renz\\\\Desktop\\\\SNU\\\\파이썬을 이용한 빅데이터 분석개론'"
      ]
     },
     "execution_count": 47,
     "metadata": {},
     "output_type": "execute_result"
    }
   ],
   "source": [
    "import os\n",
    "os.getcwd() # 현재 디렉토리"
   ]
  },
  {
   "cell_type": "code",
   "execution_count": 49,
   "metadata": {
    "scrolled": true
   },
   "outputs": [],
   "source": [
    "# os.chdir(path) # 작업 디렉토리를 변경\n",
    "# os.path.join(path, *paths) # 하나 이상의 path 구성 요소를 합침"
   ]
  },
  {
   "cell_type": "code",
   "execution_count": 53,
   "metadata": {},
   "outputs": [
    {
     "data": {
      "text/plain": [
       "'C:\\\\Users\\\\renz\\\\Desktop\\\\SNU\\\\파이썬을 이용한 빅데이터 분석개론\\\\map.py'"
      ]
     },
     "execution_count": 53,
     "metadata": {},
     "output_type": "execute_result"
    }
   ],
   "source": [
    "os.path.abspath('map.py') # map.py의 절대경로"
   ]
  },
  {
   "cell_type": "code",
   "execution_count": 54,
   "metadata": {},
   "outputs": [],
   "source": [
    "# os.rename(src, dst) # 파일 또는 디렉토리의 기존 이름을 새 이름으로\n",
    "# os.remove(path) # 바로 완전 삭제니까 주의\n",
    "# os.mkdir(path) # path 이름 가진 디렉토리 생성\n",
    "# os.makedirs(name) # 디렉토리를 순차적으로 생성\n",
    "# os.rmdir(path) # 빈 디렉토리 path를 삭제\n",
    "# os.removedirs(name) # 빈 디렉토리를 순차적으로 제거"
   ]
  },
  {
   "cell_type": "code",
   "execution_count": 57,
   "metadata": {},
   "outputs": [
    {
     "name": "stdout",
     "output_type": "stream",
     "text": [
      "'Let It Be' by Beatles\n",
      "Let it be -- -\n",
      "Let it be -- -\n",
      "Let it be - Let it be Let it be - Let it be -\n"
     ]
    }
   ],
   "source": [
    "import re # 정규표현식 패키지\n",
    "lines = open('data/beatles.txt').readlines()\n",
    "for line in lines:\n",
    "    if re.search(r'let', line, re.IGNORECASE): # r은 raw string 표기법이며 역슬래시도 특수문자가 아닌 일반문자로 읽힌다\n",
    "        print(line.rstrip())\n",
    "lines.close()"
   ]
  },
  {
   "cell_type": "code",
   "execution_count": 59,
   "metadata": {},
   "outputs": [
    {
     "name": "stdout",
     "output_type": "stream",
     "text": [
      "'LET It Be' by Beatles\n",
      "\n",
      "When I find myself in times of trouble\n",
      "Mother Mary comes to me\n",
      "Speaking words of wisdom\n",
      "LET it be -- -\n",
      "And in my hours darkness She is standing bright in front of me\n",
      "Speaking words of wisdom\n",
      "LET it be -- -\n",
      "LET it be - LET it be LET it be - LET it be -\n"
     ]
    }
   ],
   "source": [
    "lines = open('data/beatles.txt').readlines()\n",
    "for line in lines:\n",
    "    line = re.sub(r'Let', 'LET', line) # 모든 Let를 LET로 바꿔라\n",
    "    print(line.rstrip())\n",
    "lines.close()"
   ]
  },
  {
   "cell_type": "code",
   "execution_count": 62,
   "metadata": {},
   "outputs": [
    {
     "name": "stdout",
     "output_type": "stream",
     "text": [
      "'LET It Be' by Beatles\n",
      "\n",
      "When I find myself in times of trouble\n",
      "Mother Mary comes to me\n",
      "Speaking words of wisdom\n",
      "LET it be -- -\n",
      "And in my hours darkness She is standing bright in front of me\n",
      "Speaking words of wisdom\n",
      "LET it be -- -\n",
      "LET it be - LET it be Let it be - Let it be -\n"
     ]
    }
   ],
   "source": [
    "# re.compile은 중요하다\n",
    "lines = open('data/beatles.txt').readlines()\n",
    "for line in lines:\n",
    "    line = re.sub(re.compile(r'Let', re.IGNORECASE), 'LET', line, 2) # 두번째까지만 Let를 LET로 바꿔라\n",
    "    print(line.rstrip())\n",
    "lines.close()"
   ]
  },
  {
   "cell_type": "markdown",
   "metadata": {},
   "source": [
    "### Lab Exercises"
   ]
  },
  {
   "cell_type": "code",
   "execution_count": 73,
   "metadata": {},
   "outputs": [
    {
     "name": "stdout",
     "output_type": "stream",
     "text": [
      "파일 이름을 입력하세요...: 고향의 봄.txt\n",
      "\t1: ======= 고향의 봄 =======\n",
      "\t2: \n",
      "\t3: 나의 살-던 고향은 꽃피는-산골-\n",
      "\t4: 복숭아-꽃 살-구꽃 아-기 진-달래-\n",
      "\t5: 울긋불-긋 꽃 대궐 차리인-동네-\n",
      "\t6: 그 속에서 놀던 때가 그립습니다-\n",
      "\t7: \n",
      "\t8: 꽃-동-네 새 동네 나의 옛-고향-\n",
      "\t9: 파-란-들 남쪽에서 바-람이-불면-\n",
      "\t10: 냇-가에 수양버들 춤추는-동네-\n",
      "\t11: 그 속에서 놀던 때가 그립습니다-\n"
     ]
    }
   ],
   "source": [
    "userInput = input('파일 이름을 입력하세요...: ')\n",
    "f = open(userInput, encoding = 'utf-8')\n",
    "lines = f.readlines()\n",
    "for idx, line in enumerate(lines):\n",
    "    print('\\t{}: {}'.format(idx+1, line.rstrip()))\n",
    "f.close()"
   ]
  },
  {
   "cell_type": "code",
   "execution_count": 72,
   "metadata": {},
   "outputs": [
    {
     "name": "stdout",
     "output_type": "stream",
     "text": [
      "파일 이름을 입력하세요...: 고향의 봄.txt\n",
      "\t1: ======= 고향의 봄 =======\n",
      "\t2: \n",
      "\t3: 나의 살-던 고향은 꽃피는-산골-\n",
      "\t4: 복숭아-꽃 살-구꽃 아-기 진-달래-\n",
      "\t5: 울긋불-긋 꽃 대궐 차리인-동네-\n",
      "\t6: 그 속에서 놀던 때가 그립습니다-\n",
      "\t7: \n",
      "\t8: 꽃-동-네 새 동네 나의 옛-고향-\n",
      "\t9: 파-란-들 남쪽에서 바-람이-불면-\n",
      "\t10: 냇-가에 수양버들 춤추는-동네-\n",
      "\t11: 그 속에서 놀던 때가 그립습니다-\n"
     ]
    }
   ],
   "source": [
    "userInput = input('파일 이름을 입력하세요...: ')\n",
    "lines = open(userInput, encoding = 'utf-8').readlines() # f변수 같은 걸 할당 안 하고도 바로 열고 닫아서 line을 저장할 수 있다\n",
    "for idx, line in enumerate(lines):\n",
    "    print('\\t{}: {}'.format(idx+1, line.rstrip()))"
   ]
  },
  {
   "cell_type": "code",
   "execution_count": null,
   "metadata": {},
   "outputs": [],
   "source": []
  }
 ],
 "metadata": {
  "kernelspec": {
   "display_name": "Python 3",
   "language": "python",
   "name": "python3"
  },
  "language_info": {
   "codemirror_mode": {
    "name": "ipython",
    "version": 3
   },
   "file_extension": ".py",
   "mimetype": "text/x-python",
   "name": "python",
   "nbconvert_exporter": "python",
   "pygments_lexer": "ipython3",
   "version": "3.6.6"
  }
 },
 "nbformat": 4,
 "nbformat_minor": 2
}
