{
 "cells": [
  {
   "cell_type": "code",
   "execution_count": 1,
   "metadata": {},
   "outputs": [],
   "source": [
    "file = open('song.txt', mode = 'w', encoding = 'utf-8')"
   ]
  },
  {
   "cell_type": "code",
   "execution_count": 2,
   "metadata": {},
   "outputs": [
    {
     "data": {
      "text/plain": [
       "21"
      ]
     },
     "execution_count": 2,
     "metadata": {},
     "output_type": "execute_result"
    }
   ],
   "source": [
    "file.write('======= 고향의 봄 =======')"
   ]
  },
  {
   "cell_type": "code",
   "execution_count": 3,
   "metadata": {},
   "outputs": [
    {
     "data": {
      "text/plain": [
       "18"
      ]
     },
     "execution_count": 3,
     "metadata": {},
     "output_type": "execute_result"
    }
   ],
   "source": [
    "file.write('나의 살-던 고향은 꽃피는-산골-')"
   ]
  },
  {
   "cell_type": "code",
   "execution_count": 4,
   "metadata": {},
   "outputs": [],
   "source": [
    "file.close()"
   ]
  },
  {
   "cell_type": "code",
   "execution_count": 5,
   "metadata": {},
   "outputs": [
    {
     "data": {
      "text/plain": [
       "<_io.TextIOWrapper name='song.txt' mode='w' encoding='utf-8'>"
      ]
     },
     "execution_count": 5,
     "metadata": {},
     "output_type": "execute_result"
    }
   ],
   "source": [
    "file"
   ]
  },
  {
   "cell_type": "code",
   "execution_count": 7,
   "metadata": {},
   "outputs": [],
   "source": [
    "file = open('song.txt')"
   ]
  },
  {
   "cell_type": "code",
   "execution_count": 8,
   "metadata": {},
   "outputs": [
    {
     "data": {
      "text/plain": [
       "'song.txt'"
      ]
     },
     "execution_count": 8,
     "metadata": {},
     "output_type": "execute_result"
    }
   ],
   "source": [
    "file.name"
   ]
  },
  {
   "cell_type": "code",
   "execution_count": 9,
   "metadata": {},
   "outputs": [
    {
     "data": {
      "text/plain": [
       "'r'"
      ]
     },
     "execution_count": 9,
     "metadata": {},
     "output_type": "execute_result"
    }
   ],
   "source": [
    "file.mode"
   ]
  },
  {
   "cell_type": "code",
   "execution_count": 10,
   "metadata": {
    "scrolled": true
   },
   "outputs": [
    {
     "data": {
      "text/plain": [
       "False"
      ]
     },
     "execution_count": 10,
     "metadata": {},
     "output_type": "execute_result"
    }
   ],
   "source": [
    "file.closed"
   ]
  },
  {
   "cell_type": "code",
   "execution_count": 11,
   "metadata": {},
   "outputs": [],
   "source": [
    "file.close()"
   ]
  },
  {
   "cell_type": "code",
   "execution_count": 14,
   "metadata": {},
   "outputs": [
    {
     "data": {
      "text/plain": [
       "'======= 고향의 봄 =======나의 살-던 고향은 꽃피는-산골-'"
      ]
     },
     "execution_count": 14,
     "metadata": {},
     "output_type": "execute_result"
    }
   ],
   "source": [
    "file = open('song.txt', mode = 'r', encoding = 'utf-8')\n",
    "# file.read는 전체를 한 개의 문자열로 반환\n",
    "file.read() # write 자체는 \\n을 하지 않기 때문에 이어져 나온다"
   ]
  },
  {
   "cell_type": "code",
   "execution_count": 15,
   "metadata": {},
   "outputs": [],
   "source": [
    "file = open('고향의 봄.txt', 'w', encoding='utf-8')"
   ]
  },
  {
   "cell_type": "code",
   "execution_count": 16,
   "metadata": {},
   "outputs": [
    {
     "data": {
      "text/plain": [
       "23"
      ]
     },
     "execution_count": 16,
     "metadata": {},
     "output_type": "execute_result"
    }
   ],
   "source": [
    "file.write('======= 고향의 봄 =======\\n\\n')"
   ]
  },
  {
   "cell_type": "code",
   "execution_count": 17,
   "metadata": {},
   "outputs": [
    {
     "data": {
      "text/plain": [
       "19"
      ]
     },
     "execution_count": 17,
     "metadata": {},
     "output_type": "execute_result"
    }
   ],
   "source": [
    "file.write('나의 살-던 고향은 꽃피는-산골-\\n')"
   ]
  },
  {
   "cell_type": "code",
   "execution_count": 18,
   "metadata": {},
   "outputs": [
    {
     "data": {
      "text/plain": [
       "21"
      ]
     },
     "execution_count": 18,
     "metadata": {},
     "output_type": "execute_result"
    }
   ],
   "source": [
    "file.write('복숭아-꽃 살-구꽃 아-기 진-달래-\\n')"
   ]
  },
  {
   "cell_type": "code",
   "execution_count": 19,
   "metadata": {},
   "outputs": [
    {
     "data": {
      "text/plain": [
       "19"
      ]
     },
     "execution_count": 19,
     "metadata": {},
     "output_type": "execute_result"
    }
   ],
   "source": [
    "file.write('울긋불-긋 꽃 대궐 차리인-동네-\\n')"
   ]
  },
  {
   "cell_type": "code",
   "execution_count": 20,
   "metadata": {},
   "outputs": [
    {
     "data": {
      "text/plain": [
       "19"
      ]
     },
     "execution_count": 20,
     "metadata": {},
     "output_type": "execute_result"
    }
   ],
   "source": [
    "file.write('그 속에서 놀던 때가 그립습니다-\\n')"
   ]
  },
  {
   "cell_type": "code",
   "execution_count": 21,
   "metadata": {},
   "outputs": [],
   "source": [
    "file.close()\n",
    "file = open('고향의 봄.txt', encoding='utf-8')"
   ]
  },
  {
   "cell_type": "code",
   "execution_count": 22,
   "metadata": {},
   "outputs": [
    {
     "name": "stdout",
     "output_type": "stream",
     "text": [
      "======= 고향의 봄 =======\n",
      "\n",
      "나의 살-던 고향은 꽃피는-산골-\n",
      "복숭아-꽃 살-구꽃 아-기 진-달래-\n",
      "울긋불-긋 꽃 대궐 차리인-동네-\n",
      "그 속에서 놀던 때가 그립습니다-\n",
      "\n"
     ]
    }
   ],
   "source": [
    "print(file.read())"
   ]
  },
  {
   "cell_type": "code",
   "execution_count": 23,
   "metadata": {},
   "outputs": [],
   "source": [
    "file.close()\n",
    "file = open('고향의 봄.txt', 'a', encoding='utf-8')"
   ]
  },
  {
   "cell_type": "code",
   "execution_count": 24,
   "metadata": {},
   "outputs": [
    {
     "data": {
      "text/plain": [
       "21"
      ]
     },
     "execution_count": 24,
     "metadata": {},
     "output_type": "execute_result"
    }
   ],
   "source": [
    "file.write('\\n꽃-동-네 새 동네 나의 옛-고향-\\n')"
   ]
  },
  {
   "cell_type": "code",
   "execution_count": 25,
   "metadata": {},
   "outputs": [
    {
     "data": {
      "text/plain": [
       "38"
      ]
     },
     "execution_count": 25,
     "metadata": {},
     "output_type": "execute_result"
    }
   ],
   "source": [
    "file.write('파-란-들 남쪽에서 바-람이-불면-\\n냇-가에 수양버들 춤추는-동네-\\n')"
   ]
  },
  {
   "cell_type": "code",
   "execution_count": 26,
   "metadata": {},
   "outputs": [
    {
     "data": {
      "text/plain": [
       "18"
      ]
     },
     "execution_count": 26,
     "metadata": {},
     "output_type": "execute_result"
    }
   ],
   "source": [
    "file.write('그 속에서 놀던 때가 그립습니다-')"
   ]
  },
  {
   "cell_type": "code",
   "execution_count": 27,
   "metadata": {},
   "outputs": [],
   "source": [
    "file.close()\n",
    "file = open('고향의 봄.txt', encoding='utf-8')"
   ]
  },
  {
   "cell_type": "code",
   "execution_count": 28,
   "metadata": {
    "scrolled": true
   },
   "outputs": [
    {
     "name": "stdout",
     "output_type": "stream",
     "text": [
      "======= 고향의 봄 =======\n",
      "\n",
      "나의 살-던 고향은 꽃피는-산골-\n",
      "복숭아-꽃 살-구꽃 아-기 진-달래-\n",
      "울긋불-긋 꽃 대궐 차리인-동네-\n",
      "그 속에서 놀던 때가 그립습니다-\n",
      "\n",
      "꽃-동-네 새 동네 나의 옛-고향-\n",
      "파-란-들 남쪽에서 바-람이-불면-\n",
      "냇-가에 수양버들 춤추는-동네-\n",
      "그 속에서 놀던 때가 그립습니다-\n"
     ]
    }
   ],
   "source": [
    "print(file.read())"
   ]
  },
  {
   "cell_type": "code",
   "execution_count": 29,
   "metadata": {},
   "outputs": [],
   "source": [
    "file.close()"
   ]
  },
  {
   "cell_type": "code",
   "execution_count": 31,
   "metadata": {},
   "outputs": [],
   "source": [
    "alist = ['to', 'be', 'or', 'not', 'to', 'be']\n",
    "file = open('data/list_newline.txt', mode = 'w', encoding='utf-8')\n",
    "for word in alist:\n",
    "    file.write(word + '\\n')\n",
    "file.close()"
   ]
  },
  {
   "cell_type": "code",
   "execution_count": 33,
   "metadata": {},
   "outputs": [],
   "source": [
    "alist = [2, 3.1, -7, -1.4, 5]\n",
    "file = open('data/numbers.txt', mode = 'w', encoding='utf-8')\n",
    "for number in alist:\n",
    "    file.write(str(number) + '\\n') # str을 안 해주면 타입 에러(int + str)\n",
    "file.close()"
   ]
  },
  {
   "cell_type": "code",
   "execution_count": 34,
   "metadata": {},
   "outputs": [],
   "source": [
    "alist = ['a', 'b', 'ㄱ', 'ㄴ', '다']\n",
    "file = open('data/numbers.txt', mode = 'a', encoding='utf-8')\n",
    "for item in alist:\n",
    "    file.write(item + '\\n')\n",
    "file.close()"
   ]
  },
  {
   "cell_type": "markdown",
   "metadata": {},
   "source": [
    "### file.read(size) : size까지 문자 읽고 하나의 str으로 반환\n",
    "### file.readline(size) : size까지 문자 읽고 텍스트 한 줄을 str으로 반환\n",
    "### file.readlines(hint) : hint만큼 줄을 읽고 리스트로 반환"
   ]
  },
  {
   "cell_type": "code",
   "execution_count": 39,
   "metadata": {},
   "outputs": [
    {
     "name": "stdout",
     "output_type": "stream",
     "text": [
      "<_io.TextIOWrapper name='고향의 봄.txt' mode='r' encoding='cp949'>\n"
     ]
    }
   ],
   "source": [
    "file = open('고향의 봄.txt', 'r')\n",
    "file\n",
    "print(file)\n",
    "file.close()"
   ]
  },
  {
   "cell_type": "code",
   "execution_count": 43,
   "metadata": {},
   "outputs": [
    {
     "name": "stdout",
     "output_type": "stream",
     "text": [
      "<class 'str'>\n",
      "======= 고향의 봄 =======\n",
      "\n",
      "나의 살-던 고향은 꽃피는-산골-\n",
      "복숭아-꽃 살-구꽃 아-기 진-달래-\n",
      "울긋불-긋 꽃 대궐 차리인-동네-\n",
      "그 속에서 놀던 때가 그립습니다-\n",
      "\n",
      "꽃-동-네 새 동네 나의 옛-고향-\n",
      "파-란-들 남쪽에서 바-람이-불면-\n",
      "냇-가에 수양버들 춤추는-동네-\n",
      "그 속에서 놀던 때가 그립습니다-\n"
     ]
    }
   ],
   "source": [
    "file = open('고향의 봄.txt', 'r', encoding='utf-8')\n",
    "data = file.read()\n",
    "file.close()\n",
    "print(type(data))\n",
    "data\n",
    "print(data)"
   ]
  },
  {
   "cell_type": "code",
   "execution_count": 45,
   "metadata": {},
   "outputs": [
    {
     "name": "stdout",
     "output_type": "stream",
     "text": [
      "<class 'str'>\n",
      "======= 고향의 봄 =======\n",
      "\n"
     ]
    }
   ],
   "source": [
    "file = open('고향의 봄.txt', 'r', encoding='utf-8')\n",
    "data = file.readline()\n",
    "file.close()\n",
    "print(type(data))\n",
    "data\n",
    "print(data) # 한 줄만 나온다"
   ]
  },
  {
   "cell_type": "code",
   "execution_count": 50,
   "metadata": {},
   "outputs": [
    {
     "name": "stdout",
     "output_type": "stream",
     "text": [
      "======= 고향의 봄 =======\n",
      "\n",
      "나의 살-던 고향은 꽃피는-산골-\n",
      "복숭아-꽃 살-구꽃 아-기 진-달래-\n",
      "울긋불-긋 꽃 대궐 차리인-동네-\n",
      "그 속에서 놀던 때가 그립습니다-\n",
      "\n",
      "꽃-동-네 새 동네 나의 옛-고향-\n",
      "파-란-들 남쪽에서 바-람이-불면-\n",
      "냇-가에 수양버들 춤추는-동네-\n",
      "그 속에서 놀던 때가 그립습니다-"
     ]
    }
   ],
   "source": [
    "file = open('고향의 봄.txt', 'r', encoding='utf-8')\n",
    "while True:\n",
    "    line = file.readline()\n",
    "    if not line:\n",
    "        break\n",
    "    print(line, end = '') # 이렇게 안 했다면 print 자체 엔터 처리와 기존 txt의 \\n 때문에 2줄을 띈다"
   ]
  },
  {
   "cell_type": "code",
   "execution_count": 51,
   "metadata": {},
   "outputs": [
    {
     "name": "stdout",
     "output_type": "stream",
     "text": [
      "\n"
     ]
    }
   ],
   "source": [
    "print(file.readline()) # 다 읽고 나면 계속해서 빈 문자열 '' 만 나온다(False 로 생각 가능)\n",
    "file.close()"
   ]
  },
  {
   "cell_type": "code",
   "execution_count": 54,
   "metadata": {},
   "outputs": [
    {
     "name": "stdout",
     "output_type": "stream",
     "text": [
      "======= 고향의 봄 =======\n",
      "\n",
      "나의 살-던 고향은 꽃피는-산골-\n",
      "복숭아-꽃 살-구꽃 아-기 진-달래-\n",
      "울긋불-긋 꽃 대궐 차리인-동네-\n",
      "그 속에서 놀던 때가 그립습니다-\n",
      "\n",
      "꽃-동-네 새 동네 나의 옛-고향-\n",
      "파-란-들 남쪽에서 바-람이-불면-\n",
      "냇-가에 수양버들 춤추는-동네-\n",
      "그 속에서 놀던 때가 그립습니다-"
     ]
    },
    {
     "ename": "ValueError",
     "evalue": "I/O operation on closed file.",
     "output_type": "error",
     "traceback": [
      "\u001b[1;31m---------------------------------------------------------------------------\u001b[0m",
      "\u001b[1;31mValueError\u001b[0m                                Traceback (most recent call last)",
      "\u001b[1;32m<ipython-input-54-09694db1540b>\u001b[0m in \u001b[0;36m<module>\u001b[1;34m()\u001b[0m\n\u001b[0;32m      3\u001b[0m     \u001b[1;32mfor\u001b[0m \u001b[0mline\u001b[0m \u001b[1;32min\u001b[0m \u001b[0mfile\u001b[0m\u001b[1;33m:\u001b[0m\u001b[1;33m\u001b[0m\u001b[0m\n\u001b[0;32m      4\u001b[0m         \u001b[0mprint\u001b[0m\u001b[1;33m(\u001b[0m\u001b[0mline\u001b[0m\u001b[1;33m,\u001b[0m \u001b[0mend\u001b[0m \u001b[1;33m=\u001b[0m \u001b[1;34m''\u001b[0m\u001b[1;33m)\u001b[0m\u001b[1;33m\u001b[0m\u001b[0m\n\u001b[1;32m----> 5\u001b[1;33m \u001b[0mfile\u001b[0m\u001b[1;33m.\u001b[0m\u001b[0mreadline\u001b[0m\u001b[1;33m(\u001b[0m\u001b[1;33m)\u001b[0m\u001b[1;33m\u001b[0m\u001b[0m\n\u001b[0m",
      "\u001b[1;31mValueError\u001b[0m: I/O operation on closed file."
     ]
    }
   ],
   "source": [
    "# open close로 인한 실수도 방지하고 짧게 할 수 있는 방법 : with문\n",
    "with open('고향의 봄.txt', encoding='utf-8') as file:\n",
    "    for line in file:\n",
    "        print(line, end = '')\n",
    "file.readline() # with문이 끝났기 때문에 file은 없다"
   ]
  },
  {
   "cell_type": "code",
   "execution_count": 63,
   "metadata": {},
   "outputs": [
    {
     "name": "stdout",
     "output_type": "stream",
     "text": [
      "나의 살-던 고향은 꽃피는-산골-\n",
      "\n"
     ]
    },
    {
     "data": {
      "text/plain": [
       "['======= 고향의 봄 =======\\n',\n",
       " '\\n',\n",
       " '나의 살-던 고향은 꽃피는-산골-\\n',\n",
       " '복숭아-꽃 살-구꽃 아-기 진-달래-\\n',\n",
       " '울긋불-긋 꽃 대궐 차리인-동네-\\n',\n",
       " '그 속에서 놀던 때가 그립습니다-\\n',\n",
       " '\\n',\n",
       " '꽃-동-네 새 동네 나의 옛-고향-\\n',\n",
       " '파-란-들 남쪽에서 바-람이-불면-\\n',\n",
       " '냇-가에 수양버들 춤추는-동네-\\n',\n",
       " '그 속에서 놀던 때가 그립습니다-']"
      ]
     },
     "execution_count": 63,
     "metadata": {},
     "output_type": "execute_result"
    }
   ],
   "source": [
    "file = open('고향의 봄.txt', 'r', encoding='utf-8')\n",
    "sentences = []\n",
    "for line in file: # 이렇게 하면 줄별로 받아오네\n",
    "    sentences.append(line)\n",
    "print(sentences[2]) # 리스트 형이라 인덱싱 가능\n",
    "sentences[4].rstrip() # 끝의 \\n을 제거시켰다"
   ]
  },
  {
   "cell_type": "code",
   "execution_count": 60,
   "metadata": {},
   "outputs": [
    {
     "name": "stdout",
     "output_type": "stream",
     "text": [
      "<class 'list'>\n",
      "['======= 고향의 봄 =======\\n', '\\n', '나의 살-던 고향은 꽃피는-산골-\\n', '복숭아-꽃 살-구꽃 아-기 진-달래-\\n', '울긋불-긋 꽃 대궐 차리인-동네-\\n', '그 속에서 놀던 때가 그립습니다-\\n', '\\n', '꽃-동-네 새 동네 나의 옛-고향-\\n', '파-란-들 남쪽에서 바-람이-불면-\\n', '냇-가에 수양버들 춤추는-동네-\\n', '그 속에서 놀던 때가 그립습니다-']\n"
     ]
    }
   ],
   "source": [
    "file = open('고향의 봄.txt', 'r', encoding='utf-8')\n",
    "data = file.readlines() # 한 번에 리스트로 받는다\n",
    "file.close()\n",
    "print(type(data))\n",
    "print(data) # 위의 sentences와 같다 더 짧으니 readlines를 쓰자"
   ]
  },
  {
   "cell_type": "code",
   "execution_count": 61,
   "metadata": {},
   "outputs": [
    {
     "name": "stdout",
     "output_type": "stream",
     "text": [
      "<class 'list'>\n",
      "['======= 고향의 봄 =======', '', '나의 살-던 고향은 꽃피는-산골-', '복숭아-꽃 살-구꽃 아-기 진-달래-', '울긋불-긋 꽃 대궐 차리인-동네-', '그 속에서 놀던 때가 그립습니다-', '', '꽃-동-네 새 동네 나의 옛-고향-', '파-란-들 남쪽에서 바-람이-불면-', '냇-가에 수양버들 춤추는-동네-', '그 속에서 놀던 때가 그립습니다-']\n"
     ]
    }
   ],
   "source": [
    "file = open('고향의 봄.txt', 'r', encoding='utf-8')\n",
    "data = file.read().split('\\n') # \\n이 빠졌다\n",
    "file.close()\n",
    "print(type(data))\n",
    "print(data)"
   ]
  },
  {
   "cell_type": "code",
   "execution_count": 62,
   "metadata": {},
   "outputs": [
    {
     "name": "stdout",
     "output_type": "stream",
     "text": [
      "<class 'list'>\n",
      "['======= 고향의 봄 =======', '', '나의 살-던 고향은 꽃피는-산골-', '복숭아-꽃 살-구꽃 아-기 진-달래-', '울긋불-긋 꽃 대궐 차리인-동네-', '그 속에서 놀던 때가 그립습니다-', '', '꽃-동-네 새 동네 나의 옛-고향-', '파-란-들 남쪽에서 바-람이-불면-', '냇-가에 수양버들 춤추는-동네-', '그 속에서 놀던 때가 그립습니다-']\n"
     ]
    }
   ],
   "source": [
    "file = open('고향의 봄.txt', 'r', encoding='utf-8')\n",
    "data = file.read().splitlines() # split('\\n') 하지 말고 splitlines()하세요. 인코딩 때문에 문제 되는 경우가 많음\n",
    "file.close()\n",
    "print(type(data))\n",
    "print(data)"
   ]
  },
  {
   "cell_type": "markdown",
   "metadata": {},
   "source": [
    "# 파일 경로 탐색과 조작"
   ]
  },
  {
   "cell_type": "code",
   "execution_count": 64,
   "metadata": {},
   "outputs": [
    {
     "data": {
      "text/plain": [
       "0"
      ]
     },
     "execution_count": 64,
     "metadata": {},
     "output_type": "execute_result"
    }
   ],
   "source": [
    "file = open('고향의 봄.txt', 'r', encoding='utf-8')\n",
    "file.tell() # 파일 내부에서 파일 객체의 현재 위치를 알려주는 정수 반환"
   ]
  },
  {
   "cell_type": "code",
   "execution_count": 65,
   "metadata": {},
   "outputs": [
    {
     "data": {
      "text/plain": [
       "'고향의 봄 ==='"
      ]
     },
     "execution_count": 65,
     "metadata": {},
     "output_type": "execute_result"
    }
   ],
   "source": [
    "file.seek(8)\n",
    "file.read(5)"
   ]
  },
  {
   "cell_type": "code",
   "execution_count": 67,
   "metadata": {
    "scrolled": true
   },
   "outputs": [
    {
     "data": {
      "text/plain": [
       "'====\\n'"
      ]
     },
     "execution_count": 67,
     "metadata": {},
     "output_type": "execute_result"
    }
   ],
   "source": [
    "file.readline()"
   ]
  },
  {
   "cell_type": "code",
   "execution_count": 68,
   "metadata": {},
   "outputs": [],
   "source": [
    "file.close()"
   ]
  },
  {
   "cell_type": "code",
   "execution_count": 69,
   "metadata": {},
   "outputs": [
    {
     "data": {
      "text/plain": [
       "0"
      ]
     },
     "execution_count": 69,
     "metadata": {},
     "output_type": "execute_result"
    }
   ],
   "source": [
    "file = open('고향의 봄.txt', 'rb') # encoding 쓰면 에러. 이진 파일이기 때문\n",
    "file.tell()"
   ]
  },
  {
   "cell_type": "code",
   "execution_count": 72,
   "metadata": {},
   "outputs": [
    {
     "data": {
      "text/plain": [
       "'고향의 봄'"
      ]
     },
     "execution_count": 72,
     "metadata": {},
     "output_type": "execute_result"
    }
   ],
   "source": [
    "file.seek(8)\n",
    "file.read(13).decode('utf-8') # decode 없이 한 결과 b'\\xea\\xb3\\xa0\\xed\\x96\\xa5\\xec\\x9d\\x98 \\xeb\\xb4\\x84'"
   ]
  },
  {
   "cell_type": "code",
   "execution_count": null,
   "metadata": {},
   "outputs": [],
   "source": []
  }
 ],
 "metadata": {
  "kernelspec": {
   "display_name": "Python 3",
   "language": "python",
   "name": "python3"
  },
  "language_info": {
   "codemirror_mode": {
    "name": "ipython",
    "version": 3
   },
   "file_extension": ".py",
   "mimetype": "text/x-python",
   "name": "python",
   "nbconvert_exporter": "python",
   "pygments_lexer": "ipython3",
   "version": "3.6.6"
  }
 },
 "nbformat": 4,
 "nbformat_minor": 2
}
