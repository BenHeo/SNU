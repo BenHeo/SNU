{
 "cells": [
  {
   "cell_type": "code",
   "execution_count": 4,
   "metadata": {},
   "outputs": [],
   "source": [
    "say_anything = lambda anything: print('안녕', anything) # lambda [매개변수] : 표현식"
   ]
  },
  {
   "cell_type": "code",
   "execution_count": 6,
   "metadata": {},
   "outputs": [
    {
     "name": "stdout",
     "output_type": "stream",
     "text": [
      "안녕 초콜릿\n"
     ]
    }
   ],
   "source": [
    "say_anything('초콜릿')"
   ]
  },
  {
   "cell_type": "code",
   "execution_count": 7,
   "metadata": {},
   "outputs": [],
   "source": [
    "pair = [(2,'a','Pineapple'), (1,'b','Orange'), (1,'a','Banana'), (1,'b','grape'), (2,'a','apple')]"
   ]
  },
  {
   "cell_type": "code",
   "execution_count": 9,
   "metadata": {},
   "outputs": [
    {
     "data": {
      "text/plain": [
       "[(1, 'a', 'Banana'),\n",
       " (1, 'b', 'Orange'),\n",
       " (1, 'b', 'grape'),\n",
       " (2, 'a', 'Pineapple'),\n",
       " (2, 'a', 'apple')]"
      ]
     },
     "execution_count": 9,
     "metadata": {},
     "output_type": "execute_result"
    }
   ],
   "source": [
    "pair.sort()\n",
    "pair"
   ]
  },
  {
   "cell_type": "code",
   "execution_count": 10,
   "metadata": {},
   "outputs": [
    {
     "data": {
      "text/plain": [
       "[(2, 'a', 'apple'),\n",
       " (2, 'a', 'Pineapple'),\n",
       " (1, 'b', 'grape'),\n",
       " (1, 'b', 'Orange'),\n",
       " (1, 'a', 'Banana')]"
      ]
     },
     "execution_count": 10,
     "metadata": {},
     "output_type": "execute_result"
    }
   ],
   "source": [
    "pair.sort(reverse=True)\n",
    "pair"
   ]
  },
  {
   "cell_type": "code",
   "execution_count": 11,
   "metadata": {},
   "outputs": [
    {
     "data": {
      "text/plain": [
       "[(1, 'a', 'Banana'),\n",
       " (2, 'a', 'Pineapple'),\n",
       " (2, 'a', 'apple'),\n",
       " (1, 'b', 'Orange'),\n",
       " (1, 'b', 'grape')]"
      ]
     },
     "execution_count": 11,
     "metadata": {},
     "output_type": "execute_result"
    }
   ],
   "source": [
    "pair.sort(key = lambda e : (e[1], e[2]))\n",
    "pair"
   ]
  },
  {
   "cell_type": "code",
   "execution_count": 12,
   "metadata": {},
   "outputs": [
    {
     "data": {
      "text/plain": [
       "[(1, 'b', 'grape'),\n",
       " (1, 'b', 'Orange'),\n",
       " (2, 'a', 'apple'),\n",
       " (2, 'a', 'Pineapple'),\n",
       " (1, 'a', 'Banana')]"
      ]
     },
     "execution_count": 12,
     "metadata": {},
     "output_type": "execute_result"
    }
   ],
   "source": [
    "pair.sort(key = lambda e : e[1:3], reverse = True)\n",
    "pair"
   ]
  },
  {
   "cell_type": "code",
   "execution_count": 13,
   "metadata": {},
   "outputs": [
    {
     "data": {
      "text/plain": [
       "[(2, 'a', 'apple'),\n",
       " (1, 'a', 'Banana'),\n",
       " (2, 'a', 'Pineapple'),\n",
       " (1, 'b', 'grape'),\n",
       " (1, 'b', 'Orange')]"
      ]
     },
     "execution_count": 13,
     "metadata": {},
     "output_type": "execute_result"
    }
   ],
   "source": [
    "pair.sort(key = lambda e : (e[1], e[2].lower()))\n",
    "pair"
   ]
  },
  {
   "cell_type": "code",
   "execution_count": 21,
   "metadata": {},
   "outputs": [],
   "source": [
    "def void_product(i, j):\n",
    "    print('{}와 {} 의 곱은 {}이다'.format(i, j, i*j))\n",
    "\n",
    "def value_return_product(i, j):\n",
    "    return i*j"
   ]
  },
  {
   "cell_type": "code",
   "execution_count": 18,
   "metadata": {},
   "outputs": [
    {
     "name": "stdout",
     "output_type": "stream",
     "text": [
      "3와 5 의 곱은 15이다\n"
     ]
    }
   ],
   "source": [
    "void_product(3,5)"
   ]
  },
  {
   "cell_type": "code",
   "execution_count": 20,
   "metadata": {},
   "outputs": [
    {
     "name": "stdout",
     "output_type": "stream",
     "text": [
      "3와 5 의 곱은 15이다\n"
     ]
    }
   ],
   "source": [
    "x = void_product(3,5)\n",
    "x # return 없는 애는 값도 없다(물론 print하면 None 나옴)"
   ]
  },
  {
   "cell_type": "code",
   "execution_count": 22,
   "metadata": {},
   "outputs": [
    {
     "data": {
      "text/plain": [
       "15"
      ]
     },
     "execution_count": 22,
     "metadata": {},
     "output_type": "execute_result"
    }
   ],
   "source": [
    "value_return_product(3, 5)"
   ]
  },
  {
   "cell_type": "code",
   "execution_count": 23,
   "metadata": {},
   "outputs": [
    {
     "name": "stdout",
     "output_type": "stream",
     "text": [
      "15\n"
     ]
    }
   ],
   "source": [
    "print(value_return_product(3,5))"
   ]
  },
  {
   "cell_type": "markdown",
   "metadata": {},
   "source": [
    "## python은 return 에 여러 값을 넣을 수 있다 tuple 덕분에!"
   ]
  },
  {
   "cell_type": "markdown",
   "metadata": {},
   "source": [
    "# 전달인자는 위치 전달인자와 키워드 전달인자가 있다"
   ]
  },
  {
   "cell_type": "markdown",
   "metadata": {},
   "source": [
    "## 위치 전달인자는 키워드 전달인자보다 항상 먼저 와야 한다"
   ]
  },
  {
   "cell_type": "markdown",
   "metadata": {},
   "source": [
    "### 사실 어려운 거 아니고 당연히 알고 있던 거이니까 예시 보면서 하면 된다"
   ]
  },
  {
   "cell_type": "markdown",
   "metadata": {},
   "source": [
    "## 필수 매개변수는 기본값이 없음, 선택 매개변수는 기본값이 있다"
   ]
  },
  {
   "cell_type": "code",
   "execution_count": 26,
   "metadata": {},
   "outputs": [],
   "source": [
    "def string_head(text, length=7, indicator='...'):\n",
    "    if len(text) > length:\n",
    "        text = text[:length-len(indicator)] + indicator\n",
    "    return text"
   ]
  },
  {
   "cell_type": "code",
   "execution_count": 27,
   "metadata": {},
   "outputs": [],
   "source": [
    "s = '파이썬과 빅데이터 분석'"
   ]
  },
  {
   "cell_type": "code",
   "execution_count": 28,
   "metadata": {},
   "outputs": [
    {
     "data": {
      "text/plain": [
       "'파이썬과...'"
      ]
     },
     "execution_count": 28,
     "metadata": {},
     "output_type": "execute_result"
    }
   ],
   "source": [
    "string_head(s)"
   ]
  },
  {
   "cell_type": "code",
   "execution_count": 29,
   "metadata": {},
   "outputs": [
    {
     "data": {
      "text/plain": [
       "'파이썬과 빅데이터 분석'"
      ]
     },
     "execution_count": 29,
     "metadata": {},
     "output_type": "execute_result"
    }
   ],
   "source": [
    "string_head(s, 20, '!!!')"
   ]
  },
  {
   "cell_type": "code",
   "execution_count": 37,
   "metadata": {},
   "outputs": [
    {
     "ename": "SyntaxError",
     "evalue": "positional argument follows keyword argument (<ipython-input-37-b7dc6c972c0d>, line 2)",
     "output_type": "error",
     "traceback": [
      "\u001b[1;36m  File \u001b[1;32m\"<ipython-input-37-b7dc6c972c0d>\"\u001b[1;36m, line \u001b[1;32m2\u001b[0m\n\u001b[1;33m    string_head(s, length=20, '!!!')    # positional argument는 keyword argument보다 항상 앞에\u001b[0m\n\u001b[1;37m                             ^\u001b[0m\n\u001b[1;31mSyntaxError\u001b[0m\u001b[1;31m:\u001b[0m positional argument follows keyword argument\n"
     ]
    }
   ],
   "source": [
    "try:\n",
    "    string_head(s, length=20, '!!!')    # positional argument는 keyword argument보다 항상 앞에\n",
    "\n",
    "except SyntaxError:\n",
    "    print('잘못되었으니 이렇게 하지 마세요!') # ???? ㅍ"
   ]
  },
  {
   "cell_type": "code",
   "execution_count": 34,
   "metadata": {},
   "outputs": [
    {
     "name": "stdout",
     "output_type": "stream",
     "text": [
      "잘못되었으니 이렇게 하지 마세요!\n"
     ]
    }
   ],
   "source": [
    "try:\n",
    "    string_head(s,'!!!') # 이건 keyword 설정도 안 한 주제에 순서도 안 맞는다\n",
    "\n",
    "except TypeError: # typeerror인 이유: 원래 int 들어갈 자리에 string 들어갔다\n",
    "    print('잘못되었으니 이렇게 하지 마세요!')"
   ]
  },
  {
   "cell_type": "markdown",
   "metadata": {},
   "source": [
    "## 매개변수 * 는 몇 개의 위치 전달인자를 넘겨 받을지 모르는 함수 정의할 때 사용. 하나의 필수 매개변수로 패킹해서 받음"
   ]
  },
  {
   "cell_type": "code",
   "execution_count": 39,
   "metadata": {},
   "outputs": [],
   "source": [
    "def sum_of_powers(*args, power=1):\n",
    "    result = 0\n",
    "    for arg in args:\n",
    "        result += arg ** power\n",
    "    return result"
   ]
  },
  {
   "cell_type": "code",
   "execution_count": 40,
   "metadata": {},
   "outputs": [
    {
     "data": {
      "text/plain": [
       "9"
      ]
     },
     "execution_count": 40,
     "metadata": {},
     "output_type": "execute_result"
    }
   ],
   "source": [
    "sum_of_powers(1,3,5)"
   ]
  },
  {
   "cell_type": "code",
   "execution_count": 41,
   "metadata": {},
   "outputs": [
    {
     "data": {
      "text/plain": [
       "35"
      ]
     },
     "execution_count": 41,
     "metadata": {},
     "output_type": "execute_result"
    }
   ],
   "source": [
    "sum_of_powers(1,3,5, power = 2)"
   ]
  },
  {
   "cell_type": "markdown",
   "metadata": {},
   "source": [
    "## 매개변수 **는 키와 값을 저장"
   ]
  },
  {
   "cell_type": "code",
   "execution_count": 42,
   "metadata": {},
   "outputs": [],
   "source": [
    "def add_fruit_detail(fruit_name, date_produced, **kwargs):\n",
    "    print('과일종류 =', fruit_name)\n",
    "    print('생산일자 =', date_produced)\n",
    "    for key in sorted(kwargs):\n",
    "        print('{} = {}'.format(key, kwargs[key]))"
   ]
  },
  {
   "cell_type": "code",
   "execution_count": 43,
   "metadata": {},
   "outputs": [
    {
     "name": "stdout",
     "output_type": "stream",
     "text": [
      "과일종류 = 오렌지\n",
      "생산일자 = 11일\n",
      "수량 = 55\n",
      "원산지 = 제주도\n"
     ]
    }
   ],
   "source": [
    "add_fruit_detail('오렌지', '11일', 원산지='제주도', 수량=55)"
   ]
  },
  {
   "cell_type": "code",
   "execution_count": 45,
   "metadata": {},
   "outputs": [],
   "source": [
    "def print_args(*args, **kwargs):\n",
    "    for i, arg in enumerate(args):\n",
    "        print('위치 전달인자 {} = {}'.format(i, arg))\n",
    "    for key in kwargs:\n",
    "        print('키워드 전달인자 {} = {}'.format(key,kwargs[key]))"
   ]
  },
  {
   "cell_type": "code",
   "execution_count": 48,
   "metadata": {},
   "outputs": [
    {
     "name": "stdout",
     "output_type": "stream",
     "text": [
      "위치 전달인자 0 = 허현\n",
      "위치 전달인자 1 = -7\n",
      "위치 전달인자 2 = 2.5\n",
      "키워드 전달인자 age = 26\n",
      "키워드 전달인자 email = g*u***@na*er.com\n",
      "키워드 전달인자 height = 173\n",
      "키워드 전달인자 weight = **\n"
     ]
    }
   ],
   "source": [
    "print_args('허현', -7, 2.5, age=26, email='g*u***@na*er.com', height=173, weight='**')"
   ]
  },
  {
   "cell_type": "code",
   "execution_count": 49,
   "metadata": {},
   "outputs": [],
   "source": [
    "# 함수의 설명 문자열은 삼중 따옴표 사용해서 함수 내용 첫 부분에 작성한다\n",
    "def python():\n",
    "    \"\"\" Hi, Python. \"\"\"\n",
    "    return 'python'"
   ]
  },
  {
   "cell_type": "code",
   "execution_count": 50,
   "metadata": {},
   "outputs": [
    {
     "data": {
      "text/plain": [
       "'python'"
      ]
     },
     "execution_count": 50,
     "metadata": {},
     "output_type": "execute_result"
    }
   ],
   "source": [
    "python()"
   ]
  },
  {
   "cell_type": "code",
   "execution_count": 54,
   "metadata": {},
   "outputs": [
    {
     "name": "stdout",
     "output_type": "stream",
     "text": [
      " Hi, Python. \n"
     ]
    }
   ],
   "source": [
    "print(python.__doc__)"
   ]
  },
  {
   "cell_type": "code",
   "execution_count": 52,
   "metadata": {},
   "outputs": [
    {
     "name": "stdout",
     "output_type": "stream",
     "text": [
      "Help on function python in module __main__:\n",
      "\n",
      "python()\n",
      "    Hi, Python.\n",
      "\n"
     ]
    }
   ],
   "source": [
    "help(python)"
   ]
  }
 ],
 "metadata": {
  "kernelspec": {
   "display_name": "Python 3",
   "language": "python",
   "name": "python3"
  },
  "language_info": {
   "codemirror_mode": {
    "name": "ipython",
    "version": 3
   },
   "file_extension": ".py",
   "mimetype": "text/x-python",
   "name": "python",
   "nbconvert_exporter": "python",
   "pygments_lexer": "ipython3",
   "version": "3.6.5"
  }
 },
 "nbformat": 4,
 "nbformat_minor": 2
}
