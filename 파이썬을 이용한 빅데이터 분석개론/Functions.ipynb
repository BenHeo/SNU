{
 "cells": [
  {
   "cell_type": "code",
   "execution_count": 4,
   "metadata": {},
   "outputs": [],
   "source": [
    "say_anything = lambda anything: print('안녕', anything) # lambda [매개변수] : 표현식"
   ]
  },
  {
   "cell_type": "code",
   "execution_count": 6,
   "metadata": {},
   "outputs": [
    {
     "name": "stdout",
     "output_type": "stream",
     "text": [
      "안녕 초콜릿\n"
     ]
    }
   ],
   "source": [
    "say_anything('초콜릿')"
   ]
  },
  {
   "cell_type": "code",
   "execution_count": 7,
   "metadata": {},
   "outputs": [],
   "source": [
    "pair = [(2,'a','Pineapple'), (1,'b','Orange'), (1,'a','Banana'), (1,'b','grape'), (2,'a','apple')]"
   ]
  },
  {
   "cell_type": "code",
   "execution_count": 9,
   "metadata": {},
   "outputs": [
    {
     "data": {
      "text/plain": [
       "[(1, 'a', 'Banana'),\n",
       " (1, 'b', 'Orange'),\n",
       " (1, 'b', 'grape'),\n",
       " (2, 'a', 'Pineapple'),\n",
       " (2, 'a', 'apple')]"
      ]
     },
     "execution_count": 9,
     "metadata": {},
     "output_type": "execute_result"
    }
   ],
   "source": [
    "pair.sort()\n",
    "pair"
   ]
  },
  {
   "cell_type": "code",
   "execution_count": 10,
   "metadata": {},
   "outputs": [
    {
     "data": {
      "text/plain": [
       "[(2, 'a', 'apple'),\n",
       " (2, 'a', 'Pineapple'),\n",
       " (1, 'b', 'grape'),\n",
       " (1, 'b', 'Orange'),\n",
       " (1, 'a', 'Banana')]"
      ]
     },
     "execution_count": 10,
     "metadata": {},
     "output_type": "execute_result"
    }
   ],
   "source": [
    "pair.sort(reverse=True)\n",
    "pair"
   ]
  },
  {
   "cell_type": "code",
   "execution_count": 11,
   "metadata": {},
   "outputs": [
    {
     "data": {
      "text/plain": [
       "[(1, 'a', 'Banana'),\n",
       " (2, 'a', 'Pineapple'),\n",
       " (2, 'a', 'apple'),\n",
       " (1, 'b', 'Orange'),\n",
       " (1, 'b', 'grape')]"
      ]
     },
     "execution_count": 11,
     "metadata": {},
     "output_type": "execute_result"
    }
   ],
   "source": [
    "pair.sort(key = lambda e : (e[1], e[2]))\n",
    "pair"
   ]
  },
  {
   "cell_type": "code",
   "execution_count": 12,
   "metadata": {},
   "outputs": [
    {
     "data": {
      "text/plain": [
       "[(1, 'b', 'grape'),\n",
       " (1, 'b', 'Orange'),\n",
       " (2, 'a', 'apple'),\n",
       " (2, 'a', 'Pineapple'),\n",
       " (1, 'a', 'Banana')]"
      ]
     },
     "execution_count": 12,
     "metadata": {},
     "output_type": "execute_result"
    }
   ],
   "source": [
    "pair.sort(key = lambda e : e[1:3], reverse = True)\n",
    "pair"
   ]
  },
  {
   "cell_type": "code",
   "execution_count": 13,
   "metadata": {},
   "outputs": [
    {
     "data": {
      "text/plain": [
       "[(2, 'a', 'apple'),\n",
       " (1, 'a', 'Banana'),\n",
       " (2, 'a', 'Pineapple'),\n",
       " (1, 'b', 'grape'),\n",
       " (1, 'b', 'Orange')]"
      ]
     },
     "execution_count": 13,
     "metadata": {},
     "output_type": "execute_result"
    }
   ],
   "source": [
    "pair.sort(key = lambda e : (e[1], e[2].lower()))\n",
    "pair"
   ]
  },
  {
   "cell_type": "code",
   "execution_count": 21,
   "metadata": {},
   "outputs": [],
   "source": [
    "def void_product(i, j):\n",
    "    print('{}와 {} 의 곱은 {}이다'.format(i, j, i*j))\n",
    "\n",
    "def value_return_product(i, j):\n",
    "    return i*j"
   ]
  },
  {
   "cell_type": "code",
   "execution_count": 18,
   "metadata": {},
   "outputs": [
    {
     "name": "stdout",
     "output_type": "stream",
     "text": [
      "3와 5 의 곱은 15이다\n"
     ]
    }
   ],
   "source": [
    "void_product(3,5)"
   ]
  },
  {
   "cell_type": "code",
   "execution_count": 20,
   "metadata": {},
   "outputs": [
    {
     "name": "stdout",
     "output_type": "stream",
     "text": [
      "3와 5 의 곱은 15이다\n"
     ]
    }
   ],
   "source": [
    "x = void_product(3,5)\n",
    "x # return 없는 애는 값도 없다(물론 print하면 None 나옴)"
   ]
  },
  {
   "cell_type": "code",
   "execution_count": 22,
   "metadata": {},
   "outputs": [
    {
     "data": {
      "text/plain": [
       "15"
      ]
     },
     "execution_count": 22,
     "metadata": {},
     "output_type": "execute_result"
    }
   ],
   "source": [
    "value_return_product(3, 5)"
   ]
  },
  {
   "cell_type": "code",
   "execution_count": 23,
   "metadata": {},
   "outputs": [
    {
     "name": "stdout",
     "output_type": "stream",
     "text": [
      "15\n"
     ]
    }
   ],
   "source": [
    "print(value_return_product(3,5))"
   ]
  },
  {
   "cell_type": "markdown",
   "metadata": {},
   "source": [
    "## python은 return 에 여러 값을 넣을 수 있다 tuple 덕분에!"
   ]
  },
  {
   "cell_type": "markdown",
   "metadata": {},
   "source": [
    "# 전달인자는 위치 전달인자와 키워드 전달인자가 있다"
   ]
  },
  {
   "cell_type": "markdown",
   "metadata": {},
   "source": [
    "## 위치 전달인자는 키워드 전달인자보다 항상 먼저 와야 한다"
   ]
  },
  {
   "cell_type": "markdown",
   "metadata": {},
   "source": [
    "### 사실 어려운 거 아니고 당연히 알고 있던 거이니까 예시 보면서 하면 된다"
   ]
  },
  {
   "cell_type": "markdown",
   "metadata": {},
   "source": [
    "## 필수 매개변수는 기본값이 없음, 선택 매개변수는 기본값이 있다"
   ]
  },
  {
   "cell_type": "code",
   "execution_count": 26,
   "metadata": {},
   "outputs": [],
   "source": [
    "def string_head(text, length=7, indicator='...'):\n",
    "    if len(text) > length:\n",
    "        text = text[:length-len(indicator)] + indicator\n",
    "    return text"
   ]
  },
  {
   "cell_type": "code",
   "execution_count": 27,
   "metadata": {},
   "outputs": [],
   "source": [
    "s = '파이썬과 빅데이터 분석'"
   ]
  },
  {
   "cell_type": "code",
   "execution_count": 28,
   "metadata": {},
   "outputs": [
    {
     "data": {
      "text/plain": [
       "'파이썬과...'"
      ]
     },
     "execution_count": 28,
     "metadata": {},
     "output_type": "execute_result"
    }
   ],
   "source": [
    "string_head(s)"
   ]
  },
  {
   "cell_type": "code",
   "execution_count": 29,
   "metadata": {},
   "outputs": [
    {
     "data": {
      "text/plain": [
       "'파이썬과 빅데이터 분석'"
      ]
     },
     "execution_count": 29,
     "metadata": {},
     "output_type": "execute_result"
    }
   ],
   "source": [
    "string_head(s, 20, '!!!')"
   ]
  },
  {
   "cell_type": "code",
   "execution_count": 37,
   "metadata": {},
   "outputs": [
    {
     "ename": "SyntaxError",
     "evalue": "positional argument follows keyword argument (<ipython-input-37-b7dc6c972c0d>, line 2)",
     "output_type": "error",
     "traceback": [
      "\u001b[1;36m  File \u001b[1;32m\"<ipython-input-37-b7dc6c972c0d>\"\u001b[1;36m, line \u001b[1;32m2\u001b[0m\n\u001b[1;33m    string_head(s, length=20, '!!!')    # positional argument는 keyword argument보다 항상 앞에\u001b[0m\n\u001b[1;37m                             ^\u001b[0m\n\u001b[1;31mSyntaxError\u001b[0m\u001b[1;31m:\u001b[0m positional argument follows keyword argument\n"
     ]
    }
   ],
   "source": [
    "try:\n",
    "    string_head(s, length=20, '!!!')    # positional argument는 keyword argument보다 항상 앞에\n",
    "\n",
    "except SyntaxError:\n",
    "    print('잘못되었으니 이렇게 하지 마세요!') # ???? ㅍ"
   ]
  },
  {
   "cell_type": "code",
   "execution_count": 34,
   "metadata": {},
   "outputs": [
    {
     "name": "stdout",
     "output_type": "stream",
     "text": [
      "잘못되었으니 이렇게 하지 마세요!\n"
     ]
    }
   ],
   "source": [
    "try:\n",
    "    string_head(s,'!!!') # 이건 keyword 설정도 안 한 주제에 순서도 안 맞는다\n",
    "\n",
    "except TypeError: # typeerror인 이유: 원래 int 들어갈 자리에 string 들어갔다\n",
    "    print('잘못되었으니 이렇게 하지 마세요!')"
   ]
  },
  {
   "cell_type": "markdown",
   "metadata": {},
   "source": [
    "## 매개변수 * 는 몇 개의 위치 전달인자를 넘겨 받을지 모르는 함수 정의할 때 사용. 하나의 필수 매개변수로 패킹해서 받음"
   ]
  },
  {
   "cell_type": "code",
   "execution_count": 39,
   "metadata": {},
   "outputs": [],
   "source": [
    "def sum_of_powers(*args, power=1):\n",
    "    result = 0\n",
    "    for arg in args:\n",
    "        result += arg ** power\n",
    "    return result"
   ]
  },
  {
   "cell_type": "code",
   "execution_count": 40,
   "metadata": {},
   "outputs": [
    {
     "data": {
      "text/plain": [
       "9"
      ]
     },
     "execution_count": 40,
     "metadata": {},
     "output_type": "execute_result"
    }
   ],
   "source": [
    "sum_of_powers(1,3,5)"
   ]
  },
  {
   "cell_type": "code",
   "execution_count": 41,
   "metadata": {},
   "outputs": [
    {
     "data": {
      "text/plain": [
       "35"
      ]
     },
     "execution_count": 41,
     "metadata": {},
     "output_type": "execute_result"
    }
   ],
   "source": [
    "sum_of_powers(1,3,5, power = 2)"
   ]
  },
  {
   "cell_type": "markdown",
   "metadata": {},
   "source": [
    "## 매개변수 **는 키와 값을 저장"
   ]
  },
  {
   "cell_type": "code",
   "execution_count": 42,
   "metadata": {},
   "outputs": [],
   "source": [
    "def add_fruit_detail(fruit_name, date_produced, **kwargs):\n",
    "    print('과일종류 =', fruit_name)\n",
    "    print('생산일자 =', date_produced)\n",
    "    for key in sorted(kwargs):\n",
    "        print('{} = {}'.format(key, kwargs[key]))"
   ]
  },
  {
   "cell_type": "code",
   "execution_count": 43,
   "metadata": {},
   "outputs": [
    {
     "name": "stdout",
     "output_type": "stream",
     "text": [
      "과일종류 = 오렌지\n",
      "생산일자 = 11일\n",
      "수량 = 55\n",
      "원산지 = 제주도\n"
     ]
    }
   ],
   "source": [
    "add_fruit_detail('오렌지', '11일', 원산지='제주도', 수량=55)"
   ]
  },
  {
   "cell_type": "code",
   "execution_count": 45,
   "metadata": {},
   "outputs": [],
   "source": [
    "def print_args(*args, **kwargs):\n",
    "    for i, arg in enumerate(args):\n",
    "        print('위치 전달인자 {} = {}'.format(i, arg))\n",
    "    for key in kwargs:\n",
    "        print('키워드 전달인자 {} = {}'.format(key,kwargs[key]))"
   ]
  },
  {
   "cell_type": "code",
   "execution_count": 48,
   "metadata": {},
   "outputs": [
    {
     "name": "stdout",
     "output_type": "stream",
     "text": [
      "위치 전달인자 0 = 허현\n",
      "위치 전달인자 1 = -7\n",
      "위치 전달인자 2 = 2.5\n",
      "키워드 전달인자 age = 26\n",
      "키워드 전달인자 email = g*u***@na*er.com\n",
      "키워드 전달인자 height = 173\n",
      "키워드 전달인자 weight = **\n"
     ]
    }
   ],
   "source": [
    "print_args('허현', -7, 2.5, age=26, email='g*u***@na*er.com', height=173, weight='**')"
   ]
  },
  {
   "cell_type": "code",
   "execution_count": 49,
   "metadata": {},
   "outputs": [],
   "source": [
    "# 함수의 설명 문자열은 삼중 따옴표 사용해서 함수 내용 첫 부분에 작성한다\n",
    "def python():\n",
    "    \"\"\" Hi, Python. \"\"\"\n",
    "    return 'python'"
   ]
  },
  {
   "cell_type": "code",
   "execution_count": 50,
   "metadata": {},
   "outputs": [
    {
     "data": {
      "text/plain": [
       "'python'"
      ]
     },
     "execution_count": 50,
     "metadata": {},
     "output_type": "execute_result"
    }
   ],
   "source": [
    "python()"
   ]
  },
  {
   "cell_type": "code",
   "execution_count": 54,
   "metadata": {},
   "outputs": [
    {
     "name": "stdout",
     "output_type": "stream",
     "text": [
      " Hi, Python. \n"
     ]
    }
   ],
   "source": [
    "print(python.__doc__)"
   ]
  },
  {
   "cell_type": "code",
   "execution_count": 52,
   "metadata": {
    "scrolled": true
   },
   "outputs": [
    {
     "name": "stdout",
     "output_type": "stream",
     "text": [
      "Help on function python in module __main__:\n",
      "\n",
      "python()\n",
      "    Hi, Python.\n",
      "\n"
     ]
    }
   ],
   "source": [
    "help(python)"
   ]
  },
  {
   "cell_type": "code",
   "execution_count": 2,
   "metadata": {},
   "outputs": [
    {
     "name": "stdout",
     "output_type": "stream",
     "text": [
      "[1, 2, 3, 4, 5, 6, 7, 8, 9, 10, 11, 12, 13, 14, 15, 16, 17, 18, 19, 20, 21, 22, 23, 24, 25, 26, 27, 28, 29, 30, 31, 32, 33, 34, 35, 36, 37, 38, 39, 40, 41, 42, 43, 44, 45, 46, 47, 48, 49, 50, 51, 52, 53, 54, 55, 56, 57, 58, 59, 60, 61, 62, 63, 64, 65, 66, 67, 68, 69, 70, 71, 72, 73, 74, 75, 76, 77, 78, 79, 80, 81, 82, 83, 84, 85, 86, 87, 88, 89, 90, 91, 92, 93, 94, 95, 96, 97, 98, 99, 100]\n"
     ]
    }
   ],
   "source": [
    "L = [i for i in range(1,101)]\n",
    "print(L)"
   ]
  },
  {
   "cell_type": "code",
   "execution_count": 3,
   "metadata": {},
   "outputs": [
    {
     "name": "stdout",
     "output_type": "stream",
     "text": [
      "[2, 3, 4, 5, 6, 7, 8, 9, 10, 11, 12, 13, 14, 15, 16, 17, 18, 19, 20, 21, 22, 23, 24, 25, 26, 27, 28, 29, 30, 31, 32, 33, 34, 35, 36, 37, 38, 39, 40, 41, 42, 43, 44, 45, 46, 47, 48, 49, 50, 51, 52, 53, 54, 55, 56, 57, 58, 59, 60, 61, 62, 63, 64, 65, 66, 67, 68, 69, 70, 71, 72, 73, 74, 75, 76, 77, 78, 79, 80, 81, 82, 83, 84, 85, 86, 87, 88, 89, 90, 91, 92, 93, 94, 95, 96, 97, 98, 99, 100, 101]\n"
     ]
    }
   ],
   "source": [
    "for i in range(len(L)):\n",
    "    L[i] += 1\n",
    "print(L)"
   ]
  },
  {
   "cell_type": "code",
   "execution_count": 7,
   "metadata": {},
   "outputs": [
    {
     "name": "stdout",
     "output_type": "stream",
     "text": [
      "1 <class 'str'>\n",
      "3 <class 'str'>\n",
      "5 <class 'str'>\n",
      "7 <class 'str'>\n",
      "9 <class 'str'>\n",
      "x <class 'str'>\n",
      "y <class 'str'>\n",
      "z <class 'str'>\n"
     ]
    }
   ],
   "source": [
    "t = (1,3,5,7,9)\n",
    "l = list(t)\n",
    "for i in range(len(l)):\n",
    "    l[i] = str(l[i]) # string으로\n",
    "l.append('x') # 추가\n",
    "l.append('y') # 추가\n",
    "l.append('z') # 추가\n",
    "for i in range(len(l)):\n",
    "    print(l[i], type(l[i]))"
   ]
  },
  {
   "cell_type": "code",
   "execution_count": 8,
   "metadata": {},
   "outputs": [
    {
     "name": "stdout",
     "output_type": "stream",
     "text": [
      "1 <class 'str'>\n",
      "3 <class 'str'>\n",
      "5 <class 'str'>\n",
      "7 <class 'str'>\n",
      "9 <class 'str'>\n",
      "x <class 'str'>\n",
      "y <class 'str'>\n",
      "z <class 'str'>\n"
     ]
    }
   ],
   "source": [
    "t = (1,3,5,7,9)\n",
    "l = list(t)\n",
    "for i in range(len(l)):\n",
    "    l[i] = str(l[i]) # string으로\n",
    "l += list('xyz') # 하나씩 끄집어 내서 집어넣는다\n",
    "for i in range(len(l)):\n",
    "    print(l[i], type(l[i]))"
   ]
  },
  {
   "cell_type": "code",
   "execution_count": 9,
   "metadata": {},
   "outputs": [
    {
     "name": "stdout",
     "output_type": "stream",
     "text": [
      "1 <class 'str'>\n",
      "3 <class 'str'>\n",
      "5 <class 'str'>\n",
      "7 <class 'str'>\n",
      "9 <class 'str'>\n",
      "x <class 'str'>\n",
      "y <class 'str'>\n",
      "z <class 'str'>\n"
     ]
    }
   ],
   "source": [
    "# 가장 고급\n",
    "t = (1,3,5,7,9)\n",
    "l = list(t)\n",
    "l = [str(e) for e in t]\n",
    "l.extend(['x', 'y', 'z'])\n",
    "for i in range(len(l)):\n",
    "    print(l[i], type(l[i]))"
   ]
  },
  {
   "cell_type": "code",
   "execution_count": 16,
   "metadata": {},
   "outputs": [
    {
     "name": "stdout",
     "output_type": "stream",
     "text": [
      "False\n",
      "True\n",
      "True\n",
      "False\n"
     ]
    }
   ],
   "source": [
    "def xor(x,y):\n",
    "    if x == y:\n",
    "        return False\n",
    "    else:\n",
    "        return True\n",
    "print(xor(True, True))\n",
    "print(xor(True, False))\n",
    "print(xor(False, True))\n",
    "print(xor(False, False))"
   ]
  },
  {
   "cell_type": "code",
   "execution_count": 17,
   "metadata": {},
   "outputs": [],
   "source": [
    "def xor2(x, y):\n",
    "    return x^y"
   ]
  },
  {
   "cell_type": "code",
   "execution_count": 22,
   "metadata": {},
   "outputs": [
    {
     "name": "stdout",
     "output_type": "stream",
     "text": [
      "Width = 12\n",
      "Length = 20\n",
      "Area Ratio = 0.29\n"
     ]
    }
   ],
   "source": [
    "def expand_rectangle(w, l):\n",
    "    W = w+5\n",
    "    L = l+10\n",
    "    print('Width =', W)\n",
    "    print('Length =', L)\n",
    "    print('Area Ratio =', round((w*l)/(W*L),2))\n",
    "\n",
    "expand_rectangle(7, 10)"
   ]
  },
  {
   "cell_type": "code",
   "execution_count": 24,
   "metadata": {},
   "outputs": [],
   "source": [
    "def calculator(fun, x, y):\n",
    "    if fun == 'add':\n",
    "        ans = x+y\n",
    "    elif fun == 'sub':\n",
    "        ans = x-y\n",
    "    elif fun == 'mul':\n",
    "        ans = x*y\n",
    "    elif fun == 'div':\n",
    "        ans = x/y\n",
    "    else:\n",
    "        return '{} is not supported.'.format(fun)\n",
    "    return ans"
   ]
  },
  {
   "cell_type": "code",
   "execution_count": 25,
   "metadata": {},
   "outputs": [
    {
     "data": {
      "text/plain": [
       "8"
      ]
     },
     "execution_count": 25,
     "metadata": {},
     "output_type": "execute_result"
    }
   ],
   "source": [
    "calculator('add', 3, 5)"
   ]
  },
  {
   "cell_type": "code",
   "execution_count": 26,
   "metadata": {},
   "outputs": [
    {
     "data": {
      "text/plain": [
       "-1"
      ]
     },
     "execution_count": 26,
     "metadata": {},
     "output_type": "execute_result"
    }
   ],
   "source": [
    "calculator('sub', 7, 8)"
   ]
  },
  {
   "cell_type": "code",
   "execution_count": 27,
   "metadata": {},
   "outputs": [
    {
     "data": {
      "text/plain": [
       "22"
      ]
     },
     "execution_count": 27,
     "metadata": {},
     "output_type": "execute_result"
    }
   ],
   "source": [
    "calculator('mul', 11, 2)"
   ]
  },
  {
   "cell_type": "code",
   "execution_count": 28,
   "metadata": {},
   "outputs": [
    {
     "data": {
      "text/plain": [
       "2.3333333333333335"
      ]
     },
     "execution_count": 28,
     "metadata": {},
     "output_type": "execute_result"
    }
   ],
   "source": [
    "calculator('div', 7, 3)"
   ]
  },
  {
   "cell_type": "code",
   "execution_count": 29,
   "metadata": {},
   "outputs": [
    {
     "data": {
      "text/plain": [
       "'35'"
      ]
     },
     "execution_count": 29,
     "metadata": {},
     "output_type": "execute_result"
    }
   ],
   "source": [
    "calculator('add', '3', '5')"
   ]
  },
  {
   "cell_type": "code",
   "execution_count": 30,
   "metadata": {},
   "outputs": [
    {
     "data": {
      "text/plain": [
       "[1, 2, 3, 4]"
      ]
     },
     "execution_count": 30,
     "metadata": {},
     "output_type": "execute_result"
    }
   ],
   "source": [
    "calculator('add', [1,2], [3,4])"
   ]
  },
  {
   "cell_type": "code",
   "execution_count": 31,
   "metadata": {},
   "outputs": [],
   "source": [
    "# 영어 모음 개수 계산\n",
    "def vowel(eng):\n",
    "    cnt = 0\n",
    "    l_eng = eng.lower()\n",
    "    vowels = ['a','e','i','o','u']\n",
    "    for char in l_eng:\n",
    "        if char in vowels:\n",
    "            cnt += 1\n",
    "    return cnt"
   ]
  },
  {
   "cell_type": "code",
   "execution_count": 32,
   "metadata": {},
   "outputs": [
    {
     "data": {
      "text/plain": [
       "2"
      ]
     },
     "execution_count": 32,
     "metadata": {},
     "output_type": "execute_result"
    }
   ],
   "source": [
    "vowel('Apples')"
   ]
  },
  {
   "cell_type": "code",
   "execution_count": 33,
   "metadata": {},
   "outputs": [
    {
     "data": {
      "text/plain": [
       "4"
      ]
     },
     "execution_count": 33,
     "metadata": {},
     "output_type": "execute_result"
    }
   ],
   "source": [
    "vowel('I love Python')"
   ]
  },
  {
   "cell_type": "code",
   "execution_count": 39,
   "metadata": {},
   "outputs": [],
   "source": [
    "def calculator_int(*args):\n",
    "    cal_sum = 0\n",
    "    cal_len = 0\n",
    "    for i in args:\n",
    "        if i != 0:\n",
    "            cal_sum += i\n",
    "            cal_len += 1\n",
    "        else:\n",
    "            break\n",
    "    return (cal_sum, round(cal_sum/cal_len))"
   ]
  },
  {
   "cell_type": "code",
   "execution_count": 40,
   "metadata": {},
   "outputs": [
    {
     "data": {
      "text/plain": [
       "(15, 3)"
      ]
     },
     "execution_count": 40,
     "metadata": {},
     "output_type": "execute_result"
    }
   ],
   "source": [
    "calculator_int(1,2,3,4,5)"
   ]
  },
  {
   "cell_type": "code",
   "execution_count": 41,
   "metadata": {},
   "outputs": [
    {
     "data": {
      "text/plain": [
       "(35, 6)"
      ]
     },
     "execution_count": 41,
     "metadata": {},
     "output_type": "execute_result"
    }
   ],
   "source": [
    "calculator_int(1,3,5,7,9,10)"
   ]
  },
  {
   "cell_type": "code",
   "execution_count": 42,
   "metadata": {},
   "outputs": [
    {
     "data": {
      "text/plain": [
       "(-1, 0)"
      ]
     },
     "execution_count": 42,
     "metadata": {},
     "output_type": "execute_result"
    }
   ],
   "source": [
    "calculator_int(-3,2,0,4,5)"
   ]
  },
  {
   "cell_type": "code",
   "execution_count": 44,
   "metadata": {},
   "outputs": [],
   "source": [
    "def search(dummy, f):\n",
    "    for i, dum in enumerate(dummy):\n",
    "        if dum == f:\n",
    "            return i\n",
    "    else:\n",
    "        return False"
   ]
  },
  {
   "cell_type": "code",
   "execution_count": 45,
   "metadata": {},
   "outputs": [],
   "source": [
    "mylist=[1,2,3]\n",
    "mytuple=['a','b','c']"
   ]
  },
  {
   "cell_type": "code",
   "execution_count": 46,
   "metadata": {},
   "outputs": [
    {
     "data": {
      "text/plain": [
       "1"
      ]
     },
     "execution_count": 46,
     "metadata": {},
     "output_type": "execute_result"
    }
   ],
   "source": [
    "search(mylist, 2)"
   ]
  },
  {
   "cell_type": "code",
   "execution_count": 47,
   "metadata": {},
   "outputs": [
    {
     "data": {
      "text/plain": [
       "False"
      ]
     },
     "execution_count": 47,
     "metadata": {},
     "output_type": "execute_result"
    }
   ],
   "source": [
    "search(mylist, 10)"
   ]
  },
  {
   "cell_type": "code",
   "execution_count": 50,
   "metadata": {},
   "outputs": [
    {
     "data": {
      "text/plain": [
       "2"
      ]
     },
     "execution_count": 50,
     "metadata": {},
     "output_type": "execute_result"
    }
   ],
   "source": [
    "search(mytuple, 'c')"
   ]
  },
  {
   "cell_type": "code",
   "execution_count": 49,
   "metadata": {},
   "outputs": [
    {
     "data": {
      "text/plain": [
       "False"
      ]
     },
     "execution_count": 49,
     "metadata": {},
     "output_type": "execute_result"
    }
   ],
   "source": [
    "search(mytuple, 'l')"
   ]
  },
  {
   "cell_type": "code",
   "execution_count": null,
   "metadata": {},
   "outputs": [],
   "source": [
    "def search_char(strings, char):\n",
    "    for i, c in enumerate(strings):\n",
    "        if c == char:\n",
    "            return i\n",
    "    else:\n",
    "        return -1"
   ]
  },
  {
   "cell_type": "code",
   "execution_count": null,
   "metadata": {},
   "outputs": [],
   "source": [
    "search_char('python', 'o')"
   ]
  },
  {
   "cell_type": "code",
   "execution_count": 54,
   "metadata": {},
   "outputs": [
    {
     "data": {
      "text/plain": [
       "3"
      ]
     },
     "execution_count": 54,
     "metadata": {},
     "output_type": "execute_result"
    }
   ],
   "source": [
    "search_char('I love Python', 'o')"
   ]
  },
  {
   "cell_type": "code",
   "execution_count": 55,
   "metadata": {},
   "outputs": [
    {
     "data": {
      "text/plain": [
       "-1"
      ]
     },
     "execution_count": 55,
     "metadata": {},
     "output_type": "execute_result"
    }
   ],
   "source": [
    "search_char('python', 'P')"
   ]
  },
  {
   "cell_type": "code",
   "execution_count": 56,
   "metadata": {},
   "outputs": [],
   "source": [
    "def reverse_odd_text(*args):\n",
    "    cnt = 0\n",
    "    for i in args:\n",
    "        if len(i) % 2 == 0:\n",
    "            print(i)\n",
    "        else:\n",
    "            cnt += 1\n",
    "            print(i[::-1]) # reverse해서 슬라이싱하는 좋은 기능!*****\n",
    "    return cnt"
   ]
  },
  {
   "cell_type": "code",
   "execution_count": 57,
   "metadata": {},
   "outputs": [
    {
     "name": "stdout",
     "output_type": "stream",
     "text": [
      "der\n",
      "blue\n",
      "neerg\n",
      "yellow\n",
      "purple\n",
      "kcalb\n",
      "etihw\n"
     ]
    }
   ],
   "source": [
    "odd_count = reverse_odd_text('red', 'blue', 'green', 'yellow', 'purple', 'black', 'white')"
   ]
  },
  {
   "cell_type": "code",
   "execution_count": 58,
   "metadata": {},
   "outputs": [
    {
     "data": {
      "text/plain": [
       "4"
      ]
     },
     "execution_count": 58,
     "metadata": {},
     "output_type": "execute_result"
    }
   ],
   "source": [
    "odd_count"
   ]
  },
  {
   "cell_type": "code",
   "execution_count": 61,
   "metadata": {},
   "outputs": [
    {
     "name": "stdout",
     "output_type": "stream",
     "text": [
      "다니입머러드 는나\n",
      "스이베\n",
      "기타\n",
      "드보키\n",
      "보컬\n"
     ]
    }
   ],
   "source": [
    "odd_count = reverse_odd_text('나는 드러머입니다', '베이스', '기타', '키보드', '보컬')"
   ]
  },
  {
   "cell_type": "code",
   "execution_count": 62,
   "metadata": {},
   "outputs": [
    {
     "data": {
      "text/plain": [
       "3"
      ]
     },
     "execution_count": 62,
     "metadata": {},
     "output_type": "execute_result"
    }
   ],
   "source": [
    "odd_count"
   ]
  },
  {
   "cell_type": "code",
   "execution_count": 65,
   "metadata": {},
   "outputs": [
    {
     "name": "stdout",
     "output_type": "stream",
     "text": [
      "100\n",
      "97\n",
      "88\n",
      "75\n",
      "65\n",
      "53\n",
      "46\n",
      "27\n"
     ]
    }
   ],
   "source": [
    "def sort_scores(*args):\n",
    "    ssrs = sorted(args, reverse=True)\n",
    "    [print(i) for i in ssrs]\n",
    "    \n",
    "sort_scores(100, 27, 65, 88, 46, 97, 75, 53)"
   ]
  },
  {
   "cell_type": "code",
   "execution_count": 125,
   "metadata": {},
   "outputs": [],
   "source": [
    "def sort_by_word_length(args): # 여기에 *args를 했었는데 지금은 입력을 하나의 튜플, 하나의 딕셔너리로 받았으므로 *을 빼는 것이 맞다\n",
    "    lst = [(len(arg), arg) for arg in args]\n",
    "    lst.sort(reverse = True, key = lambda e : (e[0], e[1]))\n",
    "    return [word for length, word in lst]"
   ]
  },
  {
   "cell_type": "code",
   "execution_count": 126,
   "metadata": {},
   "outputs": [
    {
     "data": {
      "text/plain": [
       "['green', 'brown', 'gray', 'blue', 'red']"
      ]
     },
     "execution_count": 126,
     "metadata": {},
     "output_type": "execute_result"
    }
   ],
   "source": [
    "colors = 'red', 'blue', 'green', 'brown', 'gray'\n",
    "sort_by_word_length(colors)"
   ]
  }
 ],
 "metadata": {
  "kernelspec": {
   "display_name": "Python 3",
   "language": "python",
   "name": "python3"
  },
  "language_info": {
   "codemirror_mode": {
    "name": "ipython",
    "version": 3
   },
   "file_extension": ".py",
   "mimetype": "text/x-python",
   "name": "python",
   "nbconvert_exporter": "python",
   "pygments_lexer": "ipython3",
   "version": "3.6.5"
  }
 },
 "nbformat": 4,
 "nbformat_minor": 2
}
