{
 "cells": [
  {
   "cell_type": "markdown",
   "metadata": {},
   "source": [
    "# import는 모듈, 패키지, 패키지 안의 모듈의 이름으로 불러온다"
   ]
  },
  {
   "cell_type": "code",
   "execution_count": 1,
   "metadata": {},
   "outputs": [
    {
     "data": {
      "text/plain": [
       "0.6633401968702087"
      ]
     },
     "execution_count": 1,
     "metadata": {},
     "output_type": "execute_result"
    }
   ],
   "source": [
    "import random\n",
    "random.random()"
   ]
  },
  {
   "cell_type": "code",
   "execution_count": 2,
   "metadata": {},
   "outputs": [
    {
     "data": {
      "text/plain": [
       "95"
      ]
     },
     "execution_count": 2,
     "metadata": {},
     "output_type": "execute_result"
    }
   ],
   "source": [
    "random.randint(1,99)"
   ]
  },
  {
   "cell_type": "code",
   "execution_count": 6,
   "metadata": {},
   "outputs": [
    {
     "name": "stdout",
     "output_type": "stream",
     "text": [
      "                                               1998\n",
      "\n",
      "      January                   February                   March                     April\n",
      "Mo Tu We Th Fr Sa Su      Mo Tu We Th Fr Sa Su      Mo Tu We Th Fr Sa Su      Mo Tu We Th Fr Sa Su\n",
      "          1  2  3  4                         1                         1             1  2  3  4  5\n",
      " 5  6  7  8  9 10 11       2  3  4  5  6  7  8       2  3  4  5  6  7  8       6  7  8  9 10 11 12\n",
      "12 13 14 15 16 17 18       9 10 11 12 13 14 15       9 10 11 12 13 14 15      13 14 15 16 17 18 19\n",
      "19 20 21 22 23 24 25      16 17 18 19 20 21 22      16 17 18 19 20 21 22      20 21 22 23 24 25 26\n",
      "26 27 28 29 30 31         23 24 25 26 27 28         23 24 25 26 27 28 29      27 28 29 30\n",
      "                                                    30 31\n",
      "\n",
      "        May                       June                      July                     August\n",
      "Mo Tu We Th Fr Sa Su      Mo Tu We Th Fr Sa Su      Mo Tu We Th Fr Sa Su      Mo Tu We Th Fr Sa Su\n",
      "             1  2  3       1  2  3  4  5  6  7             1  2  3  4  5                      1  2\n",
      " 4  5  6  7  8  9 10       8  9 10 11 12 13 14       6  7  8  9 10 11 12       3  4  5  6  7  8  9\n",
      "11 12 13 14 15 16 17      15 16 17 18 19 20 21      13 14 15 16 17 18 19      10 11 12 13 14 15 16\n",
      "18 19 20 21 22 23 24      22 23 24 25 26 27 28      20 21 22 23 24 25 26      17 18 19 20 21 22 23\n",
      "25 26 27 28 29 30 31      29 30                     27 28 29 30 31            24 25 26 27 28 29 30\n",
      "                                                                              31\n",
      "\n",
      "     September                  October                   November                  December\n",
      "Mo Tu We Th Fr Sa Su      Mo Tu We Th Fr Sa Su      Mo Tu We Th Fr Sa Su      Mo Tu We Th Fr Sa Su\n",
      "    1  2  3  4  5  6                1  2  3  4                         1          1  2  3  4  5  6\n",
      " 7  8  9 10 11 12 13       5  6  7  8  9 10 11       2  3  4  5  6  7  8       7  8  9 10 11 12 13\n",
      "14 15 16 17 18 19 20      12 13 14 15 16 17 18       9 10 11 12 13 14 15      14 15 16 17 18 19 20\n",
      "21 22 23 24 25 26 27      19 20 21 22 23 24 25      16 17 18 19 20 21 22      21 22 23 24 25 26 27\n",
      "28 29 30                  26 27 28 29 30 31         23 24 25 26 27 28 29      28 29 30 31\n",
      "                                                    30\n",
      "\n"
     ]
    }
   ],
   "source": [
    "import calendar\n",
    "print(calendar.calendar(1998, w=2, l=1, c=6, m=4))"
   ]
  },
  {
   "cell_type": "code",
   "execution_count": 7,
   "metadata": {},
   "outputs": [
    {
     "data": {
      "text/plain": [
       "3"
      ]
     },
     "execution_count": 7,
     "metadata": {},
     "output_type": "execute_result"
    }
   ],
   "source": [
    "# 내가 태어난 날은 무슨 요일일까\n",
    "calendar.weekday(1993, 4, 22)"
   ]
  },
  {
   "cell_type": "code",
   "execution_count": 8,
   "metadata": {},
   "outputs": [
    {
     "data": {
      "text/plain": [
       "(4, 31)"
      ]
     },
     "execution_count": 8,
     "metadata": {},
     "output_type": "execute_result"
    }
   ],
   "source": [
    "calendar.monthrange(1988, 7) # 첫번째 날이 무슨 요일인지 + 그 달이 며칠까지 있는지"
   ]
  },
  {
   "cell_type": "code",
   "execution_count": 9,
   "metadata": {},
   "outputs": [
    {
     "data": {
      "text/plain": [
       "1531096130.9955869"
      ]
     },
     "execution_count": 9,
     "metadata": {},
     "output_type": "execute_result"
    }
   ],
   "source": [
    "import time\n",
    "time.time()"
   ]
  },
  {
   "cell_type": "code",
   "execution_count": 11,
   "metadata": {},
   "outputs": [
    {
     "data": {
      "text/plain": [
       "time.struct_time(tm_year=2018, tm_mon=7, tm_mday=9, tm_hour=9, tm_min=29, tm_sec=7, tm_wday=0, tm_yday=190, tm_isdst=0)"
      ]
     },
     "execution_count": 11,
     "metadata": {},
     "output_type": "execute_result"
    }
   ],
   "source": [
    "time.localtime(time.time())"
   ]
  },
  {
   "cell_type": "code",
   "execution_count": 12,
   "metadata": {},
   "outputs": [
    {
     "data": {
      "text/plain": [
       "'Mon Jul  9 09:29:41 2018'"
      ]
     },
     "execution_count": 12,
     "metadata": {},
     "output_type": "execute_result"
    }
   ],
   "source": [
    "time.asctime()"
   ]
  },
  {
   "cell_type": "code",
   "execution_count": 13,
   "metadata": {},
   "outputs": [
    {
     "data": {
      "text/plain": [
       "'Mon Jul  9 09:29:44 2018'"
      ]
     },
     "execution_count": 13,
     "metadata": {},
     "output_type": "execute_result"
    }
   ],
   "source": [
    "time.ctime()"
   ]
  },
  {
   "cell_type": "code",
   "execution_count": 14,
   "metadata": {},
   "outputs": [
    {
     "data": {
      "text/plain": [
       "Counter({'a': 2, 'b': 1, 'c': 3, 'd': 3, 'e': 2, 'f': 4})"
      ]
     },
     "execution_count": 14,
     "metadata": {},
     "output_type": "execute_result"
    }
   ],
   "source": [
    "from collections import Counter\n",
    "L = ['a', 'a', 'b', 'c', 'c', 'c', 'd', 'd', 'd', \n",
    "    'e', 'e', 'f', 'f', 'f', 'f']\n",
    "counts = Counter(L)\n",
    "counts"
   ]
  },
  {
   "cell_type": "code",
   "execution_count": 16,
   "metadata": {},
   "outputs": [
    {
     "data": {
      "text/plain": [
       "[('f', 4), ('c', 3), ('d', 3)]"
      ]
     },
     "execution_count": 16,
     "metadata": {},
     "output_type": "execute_result"
    }
   ],
   "source": [
    "counts.most_common(3) # most top 3"
   ]
  },
  {
   "cell_type": "code",
   "execution_count": 18,
   "metadata": {},
   "outputs": [
    {
     "name": "stdout",
     "output_type": "stream",
     "text": [
      "('green', 'drum')\n",
      "('green', 'guitar')\n",
      "('blue', 'drum')\n",
      "('blue', 'guitar')\n",
      "('red', 'drum')\n",
      "('red', 'guitar')\n",
      "('x', 'y')\n",
      "('x', 'z')\n",
      "('y', 'z')\n",
      "('x', 'y')\n",
      "('x', 'z')\n",
      "('y', 'x')\n",
      "('y', 'z')\n",
      "('z', 'x')\n",
      "('z', 'y')\n"
     ]
    }
   ],
   "source": [
    "import itertools\n",
    "colors = ['green', 'blue', 'red']\n",
    "instruments = ['drum', 'guitar']\n",
    "for e in itertools.product(colors, instruments):\n",
    "    print(e)\n",
    "for e in itertools.combinations('xyz', 2): # xyz라는 string에서 3C2\n",
    "    print(e)\n",
    "for e in itertools.permutations('xyz', 2): # xyz라는 string에서 3P2\n",
    "    print(e)"
   ]
  },
  {
   "cell_type": "code",
   "execution_count": 44,
   "metadata": {},
   "outputs": [
    {
     "name": "stdout",
     "output_type": "stream",
     "text": [
      "1\n",
      "7\n",
      "4\n",
      "b\n"
     ]
    }
   ],
   "source": [
    "L = [1,1,7,7,7,4,4,4,2,1,5,5,9,11,3,'a','x',9,8,'b','b','z','b']\n",
    "cnt = Counter(L).most_common()\n",
    "cnt\n",
    "for i in range(len(cnt)):\n",
    "    if cnt[i][1] >= 3:\n",
    "        print(cnt[i][0])"
   ]
  },
  {
   "cell_type": "code",
   "execution_count": 52,
   "metadata": {},
   "outputs": [
    {
     "name": "stdout",
     "output_type": "stream",
     "text": [
      "1\n",
      "7\n",
      "4\n",
      "b\n"
     ]
    }
   ],
   "source": [
    "count = Counter(L)\n",
    "for key in count:\n",
    "    if count[key] >= 3:\n",
    "        print(key)"
   ]
  },
  {
   "cell_type": "code",
   "execution_count": 58,
   "metadata": {},
   "outputs": [
    {
     "name": "stdout",
     "output_type": "stream",
     "text": [
      "33.14069263277926\n"
     ]
    }
   ],
   "source": [
    "import math\n",
    "pi = math.pi\n",
    "y = math.exp(pi)+10 # math.exp(--) is more accurate than math.e**(--) or pow(math.e, --)\n",
    "print(y)"
   ]
  },
  {
   "cell_type": "code",
   "execution_count": 66,
   "metadata": {},
   "outputs": [
    {
     "data": {
      "text/plain": [
       "300"
      ]
     },
     "execution_count": 66,
     "metadata": {},
     "output_type": "execute_result"
    }
   ],
   "source": [
    "f = ['A', 'E', 'I', 'O', 'U']\n",
    "s = ['a', 'b', 'c', 'd', 'e', 'A', 'B', 'C', 'D', 'E']\n",
    "t = [2, 3]\n",
    "fo = [1, 3, 5]\n",
    "pro = 0\n",
    "for e in itertools.product(f, s, t, fo):\n",
    "    pro += 1\n",
    "pro"
   ]
  },
  {
   "cell_type": "code",
   "execution_count": 70,
   "metadata": {},
   "outputs": [
    {
     "data": {
      "text/plain": [
       "300"
      ]
     },
     "execution_count": 70,
     "metadata": {},
     "output_type": "execute_result"
    }
   ],
   "source": [
    "len(list(itertools.product(f, s, t, fo))) # list로 바꿔주는 게 핵심! 이렇게 안 하면 iterable만 반납함"
   ]
  },
  {
   "cell_type": "code",
   "execution_count": 72,
   "metadata": {},
   "outputs": [
    {
     "data": {
      "text/plain": [
       "<itertools.product at 0x1f551221360>"
      ]
     },
     "execution_count": 72,
     "metadata": {},
     "output_type": "execute_result"
    }
   ],
   "source": [
    "itertools.product('ABC')"
   ]
  },
  {
   "cell_type": "code",
   "execution_count": 2,
   "metadata": {},
   "outputs": [
    {
     "data": {
      "text/plain": [
       "['',\n",
       " 'C:\\\\Users\\\\renz\\\\Anaconda3\\\\python36.zip',\n",
       " 'C:\\\\Users\\\\renz\\\\Anaconda3\\\\DLLs',\n",
       " 'C:\\\\Users\\\\renz\\\\Anaconda3\\\\lib',\n",
       " 'C:\\\\Users\\\\renz\\\\Anaconda3',\n",
       " 'C:\\\\Users\\\\renz\\\\Anaconda3\\\\lib\\\\site-packages',\n",
       " 'C:\\\\Users\\\\renz\\\\Anaconda3\\\\lib\\\\site-packages\\\\win32',\n",
       " 'C:\\\\Users\\\\renz\\\\Anaconda3\\\\lib\\\\site-packages\\\\win32\\\\lib',\n",
       " 'C:\\\\Users\\\\renz\\\\Anaconda3\\\\lib\\\\site-packages\\\\Pythonwin',\n",
       " 'C:\\\\Users\\\\renz\\\\Anaconda3\\\\lib\\\\site-packages\\\\IPython\\\\extensions',\n",
       " 'C:\\\\Users\\\\renz\\\\.ipython']"
      ]
     },
     "execution_count": 2,
     "metadata": {},
     "output_type": "execute_result"
    }
   ],
   "source": [
    "import sys\n",
    "sys.path"
   ]
  },
  {
   "cell_type": "code",
   "execution_count": 3,
   "metadata": {},
   "outputs": [
    {
     "data": {
      "text/plain": [
       "['',\n",
       " 'C:\\\\Users\\\\renz\\\\Anaconda3\\\\python36.zip',\n",
       " 'C:\\\\Users\\\\renz\\\\Anaconda3\\\\DLLs',\n",
       " 'C:\\\\Users\\\\renz\\\\Anaconda3\\\\lib',\n",
       " 'C:\\\\Users\\\\renz\\\\Anaconda3',\n",
       " 'C:\\\\Users\\\\renz\\\\Anaconda3\\\\lib\\\\site-packages',\n",
       " 'C:\\\\Users\\\\renz\\\\Anaconda3\\\\lib\\\\site-packages\\\\win32',\n",
       " 'C:\\\\Users\\\\renz\\\\Anaconda3\\\\lib\\\\site-packages\\\\win32\\\\lib',\n",
       " 'C:\\\\Users\\\\renz\\\\Anaconda3\\\\lib\\\\site-packages\\\\Pythonwin',\n",
       " 'C:\\\\Users\\\\renz\\\\Anaconda3\\\\lib\\\\site-packages\\\\IPython\\\\extensions',\n",
       " 'C:\\\\Users\\\\renz\\\\.ipython',\n",
       " 'C:/Users/renz']"
      ]
     },
     "execution_count": 3,
     "metadata": {},
     "output_type": "execute_result"
    }
   ],
   "source": [
    "sys.path.append('C:/Users/renz') # 기존 sys.path에 다른 사용하려는 path를 추가시켜주었더니 import 같은 게 자연스럽게 다 된다\n",
    "sys.path"
   ]
  },
  {
   "cell_type": "code",
   "execution_count": 76,
   "metadata": {},
   "outputs": [
    {
     "data": {
      "text/plain": [
       "'비지도학습은 정답을 모르는 데이터로부터 숨겨진 관계를 설명하는 함수를 추론하는 기계학습의 한 방법'"
      ]
     },
     "execution_count": 76,
     "metadata": {},
     "output_type": "execute_result"
    }
   ],
   "source": [
    "import mypythonlib.learning\n",
    "mypythonlib.learning.unsupervised_learning()"
   ]
  },
  {
   "cell_type": "code",
   "execution_count": 78,
   "metadata": {},
   "outputs": [
    {
     "data": {
      "text/plain": [
       "'대용량 데이터에서 변수들 간의 흥미로운 관계를 발견하는 방법'"
      ]
     },
     "execution_count": 78,
     "metadata": {},
     "output_type": "execute_result"
    }
   ],
   "source": [
    "import mypythonlib.mining # 여기서는 모듈까지만 적는 것이고 내부의 함수나 클래스를 적으면 안 된다\n",
    "mypythonlib.mining.association_rule_mining()"
   ]
  },
  {
   "cell_type": "code",
   "execution_count": 79,
   "metadata": {},
   "outputs": [],
   "source": [
    "from mypythonlib.mining import association_rule_mining # 내부의 함수나 클래스를 쓰려면 이렇게 부르면 된다"
   ]
  },
  {
   "cell_type": "code",
   "execution_count": 80,
   "metadata": {},
   "outputs": [
    {
     "data": {
      "text/plain": [
       "'도트 행렬 자료구조인 픽셀로 이미지를 표현하는 방법'"
      ]
     },
     "execution_count": 80,
     "metadata": {},
     "output_type": "execute_result"
    }
   ],
   "source": [
    "import mypythonlib.gui.raster # 경로를 다 적어야 한다. mypythonlib.raster는 세상에 없다\n",
    "mypythonlib.gui.raster.load()"
   ]
  },
  {
   "cell_type": "code",
   "execution_count": 81,
   "metadata": {},
   "outputs": [
    {
     "data": {
      "text/plain": [
       "'도트 행렬 자료구조인 픽셀로 이미지를 표현하는 방법'"
      ]
     },
     "execution_count": 81,
     "metadata": {},
     "output_type": "execute_result"
    }
   ],
   "source": [
    "from mypythonlib.gui import raster\n",
    "raster.load()"
   ]
  },
  {
   "cell_type": "code",
   "execution_count": 83,
   "metadata": {},
   "outputs": [
    {
     "data": {
      "text/plain": [
       "'점과 점을 연결하는 좌표로 이미지를 표현하는 방법'"
      ]
     },
     "execution_count": 83,
     "metadata": {},
     "output_type": "execute_result"
    }
   ],
   "source": [
    "# function이나 class를 직접 부르는 것이 위험한 이유\n",
    "from mypythonlib.gui.raster import load\n",
    "from mypythonlib.gui.vector import load\n",
    "load() # 이름이 겹치니까 위험하다"
   ]
  },
  {
   "cell_type": "code",
   "execution_count": 85,
   "metadata": {},
   "outputs": [
    {
     "name": "stdout",
     "output_type": "stream",
     "text": [
      "도트 행렬 자료구조인 픽셀로 이미지를 표현하는 방법\n",
      "점과 점을 연결하는 좌표로 이미지를 표현하는 방법\n"
     ]
    }
   ],
   "source": [
    "from mypythonlib.gui import raster, vector\n",
    "print(raster.load())\n",
    "print(vector.load())"
   ]
  },
  {
   "cell_type": "code",
   "execution_count": 4,
   "metadata": {},
   "outputs": [
    {
     "ename": "NameError",
     "evalue": "name 'learning' is not defined",
     "output_type": "error",
     "traceback": [
      "\u001b[1;31m---------------------------------------------------------------------------\u001b[0m",
      "\u001b[1;31mNameError\u001b[0m                                 Traceback (most recent call last)",
      "\u001b[1;32m<ipython-input-4-5fec8c56b0a0>\u001b[0m in \u001b[0;36m<module>\u001b[1;34m()\u001b[0m\n\u001b[0;32m      1\u001b[0m \u001b[1;32mfrom\u001b[0m \u001b[0mmypythonlib\u001b[0m \u001b[1;32mimport\u001b[0m \u001b[1;33m*\u001b[0m \u001b[1;31m# 지금 되는 이유는 위에서 잘 import해줬기 때문이고 원래는 이대로 하면 learning이 안 된다\u001b[0m\u001b[1;33m\u001b[0m\u001b[0m\n\u001b[1;32m----> 2\u001b[1;33m \u001b[0mlearning\u001b[0m\u001b[1;33m.\u001b[0m\u001b[0msupervised_learning\u001b[0m\u001b[1;33m(\u001b[0m\u001b[1;33m)\u001b[0m \u001b[1;31m# 안 되는 이유는 *를 할 때 __init__ 파일에 __all__이 관련 py의 명칭들 적혀있어야 하기 때문\u001b[0m\u001b[1;33m\u001b[0m\u001b[0m\n\u001b[0m",
      "\u001b[1;31mNameError\u001b[0m: name 'learning' is not defined"
     ]
    }
   ],
   "source": [
    "from mypythonlib import * # 지금 되는 이유는 위에서 잘 import해줬기 때문이고 원래는 이대로 하면 learning이 안 된다\n",
    "learning.supervised_learning() # 안 되는 이유는 *를 할 때 __init__ 파일에 __all__이 관련 py의 명칭들 적혀있어야 하기 때문"
   ]
  }
 ],
 "metadata": {
  "kernelspec": {
   "display_name": "Python 3",
   "language": "python",
   "name": "python3"
  },
  "language_info": {
   "codemirror_mode": {
    "name": "ipython",
    "version": 3
   },
   "file_extension": ".py",
   "mimetype": "text/x-python",
   "name": "python",
   "nbconvert_exporter": "python",
   "pygments_lexer": "ipython3",
   "version": "3.6.6"
  }
 },
 "nbformat": 4,
 "nbformat_minor": 2
}
