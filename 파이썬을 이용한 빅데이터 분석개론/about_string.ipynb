{
 "cells": [
  {
   "cell_type": "code",
   "execution_count": 21,
   "metadata": {},
   "outputs": [
    {
     "data": {
      "text/plain": [
       "10.0"
      ]
     },
     "execution_count": 21,
     "metadata": {},
     "output_type": "execute_result"
    }
   ],
   "source": [
    "3.333333333333333*3"
   ]
  },
  {
   "cell_type": "code",
   "execution_count": 29,
   "metadata": {},
   "outputs": [
    {
     "name": "stdout",
     "output_type": "stream",
     "text": [
      "President Barack Obama said,\n",
      "\"Don't just play on your phone,\n",
      "\tprogram it.\" \n"
     ]
    }
   ],
   "source": [
    "print(\"\"\"President Barack Obama said,\n",
    "\"Don't just play on your phone,\n",
    "\\tprogram it.\" \"\"\")"
   ]
  },
  {
   "cell_type": "code",
   "execution_count": 30,
   "metadata": {},
   "outputs": [
    {
     "name": "stdout",
     "output_type": "stream",
     "text": [
      "President Barack Obama said,\n",
      "\"Don't just play on your phone,\n",
      "\tprogram it.\"\n"
     ]
    }
   ],
   "source": [
    "print('President Barack Obama said,\\n\"Don\\'t just play on your phone,\\n\\tprogram it.\"')"
   ]
  },
  {
   "cell_type": "code",
   "execution_count": 31,
   "metadata": {},
   "outputs": [
    {
     "name": "stdout",
     "output_type": "stream",
     "text": [
      "President Barack Obama said,\n",
      "\"Don't just play on your phone,\n",
      "\tprogram it.\"\n"
     ]
    }
   ],
   "source": [
    "print(\"President Barack Obama said,\\n\\\"Don't just play on your phone,\\n\\tprogram it.\\\"\")"
   ]
  },
  {
   "cell_type": "markdown",
   "metadata": {},
   "source": [
    "### 요즘 스타일은 \\으로 줄 계속 하기보다는 전체를 ()로 묶어준다"
   ]
  },
  {
   "cell_type": "markdown",
   "metadata": {},
   "source": [
    "### print('C:\\home\\name') 은 출력하면 C:\\home\n",
    "###                                    ame\n",
    "### print(r'C:\\home\\name')으로 로스트링(rawstring)을 활용하면 이제 이스케이프 문자 활용 안 하겠다는 의미다"
   ]
  },
  {
   "cell_type": "code",
   "execution_count": null,
   "metadata": {},
   "outputs": [],
   "source": []
  }
 ],
 "metadata": {
  "kernelspec": {
   "display_name": "Python 3",
   "language": "python",
   "name": "python3"
  },
  "language_info": {
   "codemirror_mode": {
    "name": "ipython",
    "version": 3
   },
   "file_extension": ".py",
   "mimetype": "text/x-python",
   "name": "python",
   "nbconvert_exporter": "python",
   "pygments_lexer": "ipython3",
   "version": "3.6.4"
  }
 },
 "nbformat": 4,
 "nbformat_minor": 2
}
